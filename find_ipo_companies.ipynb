{
 "cells": [
  {
   "cell_type": "code",
   "execution_count": 28,
   "metadata": {},
   "outputs": [],
   "source": [
    "import pickle\n",
    "import pandas as pd\n",
    "import numpy as np"
   ]
  },
  {
   "cell_type": "code",
   "execution_count": 29,
   "metadata": {},
   "outputs": [],
   "source": [
    "xls = pd.ExcelFile('crunchbase_monthly_export_d43b4klo2ade53.xlsx')"
   ]
  },
  {
   "cell_type": "code",
   "execution_count": 45,
   "metadata": {},
   "outputs": [
    {
     "name": "stdout",
     "output_type": "stream",
     "text": [
      "(114506, 24)\n",
      "(101154, 24)\n"
     ]
    }
   ],
   "source": [
    "df1 = pd.read_excel(xls, 'Investments')\n",
    "#df1 = df1[(df1['funded_year'] >= 2004)]\n",
    "print(df1.shape)\n",
    "df1 = df1[df1['raised_amount_usd'].isna() == False]\n",
    "df1 = df1[df1['company_name'].isna() == False]\n",
    "df1 = df1.rename({'fILIPPO Murroni':'investor'},axis='columns')\n",
    "\n",
    "print(df1.shape)"
   ]
  },
  {
   "cell_type": "code",
   "execution_count": 46,
   "metadata": {},
   "outputs": [
    {
     "data": {
      "text/plain": [
       "array(['seed', 'venture', 'private_equity', 'angel', 'debt_financing',\n",
       "       'undisclosed', 'grant', 'post_ipo_equity', 'convertible_note',\n",
       "       'post_ipo_debt', 'secondary_market', 'equity_crowdfunding',\n",
       "       'product_crowdfunding'], dtype=object)"
      ]
     },
     "execution_count": 46,
     "metadata": {},
     "output_type": "execute_result"
    }
   ],
   "source": [
    "df1.funding_round_type.unique()\n",
    "\n",
    "# We find 'post_ipo_debt' and 'post_ipo_equity'"
   ]
  },
  {
   "cell_type": "code",
   "execution_count": 47,
   "metadata": {},
   "outputs": [],
   "source": [
    "df_ipo_debt = df1[df1.funding_round_type=='post_ipo_debt']\n",
    "df_ipo_equity = df1[df1.funding_round_type=='post_ipo_equity']"
   ]
  },
  {
   "cell_type": "code",
   "execution_count": 48,
   "metadata": {},
   "outputs": [],
   "source": [
    "ipo_company_list = set(df_ipo_debt.company_name).union(set(df_ipo_equity.company_name))"
   ]
  },
  {
   "cell_type": "code",
   "execution_count": 54,
   "metadata": {},
   "outputs": [
    {
     "data": {
      "text/plain": [
       "{'21viaNet',\n",
       " '3D Systems',\n",
       " 'ADMA Biologics',\n",
       " 'AOL',\n",
       " 'AV Homes',\n",
       " 'Aerie Pharmaceuticals',\n",
       " 'AirCell',\n",
       " 'Alaris Royalty',\n",
       " 'Alibaba Pictures Group Limited',\n",
       " 'Alnylam Pharmaceuticals',\n",
       " 'Alphatec Spine',\n",
       " 'AmpliPhi Biosciences',\n",
       " 'Applied Minerals',\n",
       " 'Argos Therapeutics',\n",
       " 'Arrowhead Research',\n",
       " 'Aurinia Pharmaceuticals',\n",
       " 'Barnes & Noble',\n",
       " 'BlackBerry',\n",
       " 'Boingo Wireless',\n",
       " 'Canadian Solar',\n",
       " 'Cavitation Technologies',\n",
       " 'Cerus Corporation',\n",
       " 'China South City Holdings',\n",
       " 'ChromaDex',\n",
       " 'Clearwire',\n",
       " 'DigiPath',\n",
       " 'Durata Therapeutics',\n",
       " 'Elite Pharmaceuticals',\n",
       " 'Enumeral Biomedical',\n",
       " 'Epizyme',\n",
       " 'Espial Group',\n",
       " 'Everyware Global',\n",
       " 'Extended Stay America',\n",
       " 'GlassesOff',\n",
       " 'Greenko Group',\n",
       " 'Heat Biologics',\n",
       " 'IZEA',\n",
       " 'Infinity Augmented Reality',\n",
       " 'Jakks Pacific',\n",
       " 'Kior',\n",
       " 'Lighting Science Group',\n",
       " 'MAKO Surgical',\n",
       " 'Marina Biotech',\n",
       " 'Metabolix',\n",
       " 'Mobiquity Technologies',\n",
       " 'Monitise',\n",
       " 'MusclePharm',\n",
       " 'NIghtingale Informatix Corporation',\n",
       " 'Navidea Biopharmaceuticals',\n",
       " 'Net Element',\n",
       " 'Nutrisystem',\n",
       " 'Omeros',\n",
       " 'Ophthotech',\n",
       " 'Phorm',\n",
       " 'Plandai Biotechnology',\n",
       " 'Red Butler',\n",
       " 'RedHill Biopharma',\n",
       " 'Resverlogix',\n",
       " 'Retrophin',\n",
       " 'Sberbank',\n",
       " 'Seattle Genetics',\n",
       " 'Sirius XM Radio, Inc.',\n",
       " 'Soligenix',\n",
       " 'Synchronica',\n",
       " 'Tesla Motors',\n",
       " 'TransEnterix',\n",
       " 'Transition Therapeutics',\n",
       " 'Unilife Corporation',\n",
       " 'VoodooVox',\n",
       " 'WANTED Technologies',\n",
       " 'WANdisco',\n",
       " 'Xeros',\n",
       " 'Youku',\n",
       " 'euNetworks Group Limited',\n",
       " 'pSivida',\n",
       " 'theScore'}"
      ]
     },
     "execution_count": 54,
     "metadata": {},
     "output_type": "execute_result"
    }
   ],
   "source": [
    "ipo_company_list"
   ]
  },
  {
   "cell_type": "code",
   "execution_count": 55,
   "metadata": {},
   "outputs": [],
   "source": [
    "with open('ipo_company_list.pickle', 'wb') as handle:\n",
    "   pickle.dump(ipo_company_list, handle, protocol=pickle.HIGHEST_PROTOCOL)"
   ]
  },
  {
   "cell_type": "code",
   "execution_count": null,
   "metadata": {},
   "outputs": [],
   "source": []
  }
 ],
 "metadata": {
  "kernelspec": {
   "display_name": "Python 3",
   "language": "python",
   "name": "python3"
  },
  "language_info": {
   "codemirror_mode": {
    "name": "ipython",
    "version": 3
   },
   "file_extension": ".py",
   "mimetype": "text/x-python",
   "name": "python",
   "nbconvert_exporter": "python",
   "pygments_lexer": "ipython3",
   "version": "3.6.6"
  }
 },
 "nbformat": 4,
 "nbformat_minor": 2
}
