{
 "cells": [
  {
   "cell_type": "markdown",
   "metadata": {},
   "source": [
    "# Analysis & Modeling of SF Startups"
   ]
  },
  {
   "cell_type": "code",
   "execution_count": 1,
   "metadata": {},
   "outputs": [
    {
     "data": {
      "text/html": [
       "<script>requirejs.config({paths: { 'plotly': ['https://cdn.plot.ly/plotly-latest.min']},});if(!window.Plotly) {{require(['plotly'],function(plotly) {window.Plotly=plotly;});}}</script>"
      ],
      "text/vnd.plotly.v1+html": [
       "<script>requirejs.config({paths: { 'plotly': ['https://cdn.plot.ly/plotly-latest.min']},});if(!window.Plotly) {{require(['plotly'],function(plotly) {window.Plotly=plotly;});}}</script>"
      ]
     },
     "metadata": {},
     "output_type": "display_data"
    }
   ],
   "source": [
    "import pandas as pd\n",
    "import matplotlib.pyplot as plt\n",
    "import pickle \n",
    "\n",
    "\n",
    "from plotly import __version__\n",
    "from plotly.offline import download_plotlyjs, init_notebook_mode, plot, iplot\n",
    "import plotly.graph_objs as go\n",
    "\n",
    "%matplotlib inline\n",
    "init_notebook_mode(connected=True)"
   ]
  },
  {
   "cell_type": "markdown",
   "metadata": {},
   "source": [
    "### Data is only looking at startups in SF from 2004-2014"
   ]
  },
  {
   "cell_type": "code",
   "execution_count": 2,
   "metadata": {},
   "outputs": [],
   "source": [
    "df1 = pd.read_csv('startups_sf_2004-14_data.csv')"
   ]
  },
  {
   "cell_type": "code",
   "execution_count": 3,
   "metadata": {},
   "outputs": [
    {
     "data": {
      "text/html": [
       "<div>\n",
       "<style scoped>\n",
       "    .dataframe tbody tr th:only-of-type {\n",
       "        vertical-align: middle;\n",
       "    }\n",
       "\n",
       "    .dataframe tbody tr th {\n",
       "        vertical-align: top;\n",
       "    }\n",
       "\n",
       "    .dataframe thead th {\n",
       "        text-align: right;\n",
       "    }\n",
       "</style>\n",
       "<table border=\"1\" class=\"dataframe\">\n",
       "  <thead>\n",
       "    <tr style=\"text-align: right;\">\n",
       "      <th></th>\n",
       "      <th>company_permalink</th>\n",
       "      <th>company_name</th>\n",
       "      <th>company_category_list</th>\n",
       "      <th>company_market</th>\n",
       "      <th>company_country_code</th>\n",
       "      <th>company_state_code</th>\n",
       "      <th>company_region</th>\n",
       "      <th>company_city</th>\n",
       "      <th>investor_permalink</th>\n",
       "      <th>fILIPPO Murroni</th>\n",
       "      <th>...</th>\n",
       "      <th>investor_region</th>\n",
       "      <th>investor_city</th>\n",
       "      <th>funding_round_permalink</th>\n",
       "      <th>funding_round_type</th>\n",
       "      <th>funding_round_code</th>\n",
       "      <th>funded_at</th>\n",
       "      <th>funded_month</th>\n",
       "      <th>funded_quarter</th>\n",
       "      <th>funded_year</th>\n",
       "      <th>raised_amount_usd</th>\n",
       "    </tr>\n",
       "  </thead>\n",
       "  <tbody>\n",
       "    <tr>\n",
       "      <th>0</th>\n",
       "      <td>/organization/virtuallogix</td>\n",
       "      <td>VirtualLogix</td>\n",
       "      <td>|Mobile|Virtualization|Software|</td>\n",
       "      <td>Software</td>\n",
       "      <td>USA</td>\n",
       "      <td>CA</td>\n",
       "      <td>SF Bay Area</td>\n",
       "      <td>Sunnyvale</td>\n",
       "      <td>/organization/atlas-venture</td>\n",
       "      <td>Atlas Venture</td>\n",
       "      <td>...</td>\n",
       "      <td>Boston</td>\n",
       "      <td>Cambridge</td>\n",
       "      <td>/funding-round/8534a4893af02254af3104fa91a4cdbf</td>\n",
       "      <td>venture</td>\n",
       "      <td>A</td>\n",
       "      <td>2004-01-01</td>\n",
       "      <td>2004-01</td>\n",
       "      <td>2004-Q1</td>\n",
       "      <td>2004</td>\n",
       "      <td>12000000.0</td>\n",
       "    </tr>\n",
       "    <tr>\n",
       "      <th>1</th>\n",
       "      <td>/organization/virtuallogix</td>\n",
       "      <td>VirtualLogix</td>\n",
       "      <td>|Mobile|Virtualization|Software|</td>\n",
       "      <td>Software</td>\n",
       "      <td>USA</td>\n",
       "      <td>CA</td>\n",
       "      <td>SF Bay Area</td>\n",
       "      <td>Sunnyvale</td>\n",
       "      <td>/organization/cisco</td>\n",
       "      <td>Cisco</td>\n",
       "      <td>...</td>\n",
       "      <td>SF Bay Area</td>\n",
       "      <td>San Jose</td>\n",
       "      <td>/funding-round/8534a4893af02254af3104fa91a4cdbf</td>\n",
       "      <td>venture</td>\n",
       "      <td>A</td>\n",
       "      <td>2004-01-01</td>\n",
       "      <td>2004-01</td>\n",
       "      <td>2004-Q1</td>\n",
       "      <td>2004</td>\n",
       "      <td>12000000.0</td>\n",
       "    </tr>\n",
       "    <tr>\n",
       "      <th>2</th>\n",
       "      <td>/organization/deem</td>\n",
       "      <td>Deem</td>\n",
       "      <td>|Trading|Marketplaces|Content Syndication|Prod...</td>\n",
       "      <td>E-Commerce</td>\n",
       "      <td>USA</td>\n",
       "      <td>CA</td>\n",
       "      <td>SF Bay Area</td>\n",
       "      <td>San Francisco</td>\n",
       "      <td>/organization/empire-capital-partners</td>\n",
       "      <td>Empire Capital Partners</td>\n",
       "      <td>...</td>\n",
       "      <td>Hartford</td>\n",
       "      <td>Westport</td>\n",
       "      <td>/funding-round/dc687f1c43ce40715ec25416113fbd62</td>\n",
       "      <td>venture</td>\n",
       "      <td>NaN</td>\n",
       "      <td>2004-01-01</td>\n",
       "      <td>2004-01</td>\n",
       "      <td>2004-Q1</td>\n",
       "      <td>2004</td>\n",
       "      <td>42000000.0</td>\n",
       "    </tr>\n",
       "    <tr>\n",
       "      <th>3</th>\n",
       "      <td>/organization/deem</td>\n",
       "      <td>Deem</td>\n",
       "      <td>|Trading|Marketplaces|Content Syndication|Prod...</td>\n",
       "      <td>E-Commerce</td>\n",
       "      <td>USA</td>\n",
       "      <td>CA</td>\n",
       "      <td>SF Bay Area</td>\n",
       "      <td>San Francisco</td>\n",
       "      <td>/organization/foundation-capital</td>\n",
       "      <td>Foundation Capital</td>\n",
       "      <td>...</td>\n",
       "      <td>SF Bay Area</td>\n",
       "      <td>Menlo Park</td>\n",
       "      <td>/funding-round/dc687f1c43ce40715ec25416113fbd62</td>\n",
       "      <td>venture</td>\n",
       "      <td>NaN</td>\n",
       "      <td>2004-01-01</td>\n",
       "      <td>2004-01</td>\n",
       "      <td>2004-Q1</td>\n",
       "      <td>2004</td>\n",
       "      <td>42000000.0</td>\n",
       "    </tr>\n",
       "    <tr>\n",
       "      <th>4</th>\n",
       "      <td>/organization/virtuallogix</td>\n",
       "      <td>VirtualLogix</td>\n",
       "      <td>|Mobile|Virtualization|Software|</td>\n",
       "      <td>Software</td>\n",
       "      <td>USA</td>\n",
       "      <td>CA</td>\n",
       "      <td>SF Bay Area</td>\n",
       "      <td>Sunnyvale</td>\n",
       "      <td>/organization/index-ventures</td>\n",
       "      <td>Index Ventures</td>\n",
       "      <td>...</td>\n",
       "      <td>Geneva</td>\n",
       "      <td>Geneva</td>\n",
       "      <td>/funding-round/8534a4893af02254af3104fa91a4cdbf</td>\n",
       "      <td>venture</td>\n",
       "      <td>A</td>\n",
       "      <td>2004-01-01</td>\n",
       "      <td>2004-01</td>\n",
       "      <td>2004-Q1</td>\n",
       "      <td>2004</td>\n",
       "      <td>12000000.0</td>\n",
       "    </tr>\n",
       "  </tbody>\n",
       "</table>\n",
       "<p>5 rows × 24 columns</p>\n",
       "</div>"
      ],
      "text/plain": [
       "            company_permalink  company_name  \\\n",
       "0  /organization/virtuallogix  VirtualLogix   \n",
       "1  /organization/virtuallogix  VirtualLogix   \n",
       "2          /organization/deem          Deem   \n",
       "3          /organization/deem          Deem   \n",
       "4  /organization/virtuallogix  VirtualLogix   \n",
       "\n",
       "                               company_category_list company_market  \\\n",
       "0                   |Mobile|Virtualization|Software|       Software   \n",
       "1                   |Mobile|Virtualization|Software|       Software   \n",
       "2  |Trading|Marketplaces|Content Syndication|Prod...     E-Commerce   \n",
       "3  |Trading|Marketplaces|Content Syndication|Prod...     E-Commerce   \n",
       "4                   |Mobile|Virtualization|Software|       Software   \n",
       "\n",
       "  company_country_code company_state_code company_region   company_city  \\\n",
       "0                  USA                 CA    SF Bay Area      Sunnyvale   \n",
       "1                  USA                 CA    SF Bay Area      Sunnyvale   \n",
       "2                  USA                 CA    SF Bay Area  San Francisco   \n",
       "3                  USA                 CA    SF Bay Area  San Francisco   \n",
       "4                  USA                 CA    SF Bay Area      Sunnyvale   \n",
       "\n",
       "                      investor_permalink          fILIPPO Murroni  \\\n",
       "0            /organization/atlas-venture            Atlas Venture   \n",
       "1                    /organization/cisco                    Cisco   \n",
       "2  /organization/empire-capital-partners  Empire Capital Partners   \n",
       "3       /organization/foundation-capital       Foundation Capital   \n",
       "4           /organization/index-ventures           Index Ventures   \n",
       "\n",
       "         ...        investor_region investor_city  \\\n",
       "0        ...                 Boston     Cambridge   \n",
       "1        ...            SF Bay Area      San Jose   \n",
       "2        ...               Hartford      Westport   \n",
       "3        ...            SF Bay Area    Menlo Park   \n",
       "4        ...                 Geneva        Geneva   \n",
       "\n",
       "                           funding_round_permalink funding_round_type  \\\n",
       "0  /funding-round/8534a4893af02254af3104fa91a4cdbf            venture   \n",
       "1  /funding-round/8534a4893af02254af3104fa91a4cdbf            venture   \n",
       "2  /funding-round/dc687f1c43ce40715ec25416113fbd62            venture   \n",
       "3  /funding-round/dc687f1c43ce40715ec25416113fbd62            venture   \n",
       "4  /funding-round/8534a4893af02254af3104fa91a4cdbf            venture   \n",
       "\n",
       "  funding_round_code   funded_at funded_month funded_quarter funded_year  \\\n",
       "0                  A  2004-01-01      2004-01        2004-Q1        2004   \n",
       "1                  A  2004-01-01      2004-01        2004-Q1        2004   \n",
       "2                NaN  2004-01-01      2004-01        2004-Q1        2004   \n",
       "3                NaN  2004-01-01      2004-01        2004-Q1        2004   \n",
       "4                  A  2004-01-01      2004-01        2004-Q1        2004   \n",
       "\n",
       "  raised_amount_usd  \n",
       "0        12000000.0  \n",
       "1        12000000.0  \n",
       "2        42000000.0  \n",
       "3        42000000.0  \n",
       "4        12000000.0  \n",
       "\n",
       "[5 rows x 24 columns]"
      ]
     },
     "execution_count": 3,
     "metadata": {},
     "output_type": "execute_result"
    }
   ],
   "source": [
    "df1.head(5)"
   ]
  },
  {
   "cell_type": "code",
   "execution_count": 4,
   "metadata": {},
   "outputs": [
    {
     "data": {
      "text/plain": [
       "[2004, 2005, 2006, 2007, 2008, 2009, 2010, 2011, 2012, 2013, 2014]"
      ]
     },
     "execution_count": 4,
     "metadata": {},
     "output_type": "execute_result"
    }
   ],
   "source": [
    "sorted(list(df1['funded_year'].unique()))"
   ]
  },
  {
   "cell_type": "markdown",
   "metadata": {},
   "source": [
    "Import Amount Raised Per Company"
   ]
  },
  {
   "cell_type": "code",
   "execution_count": 5,
   "metadata": {},
   "outputs": [],
   "source": [
    "with open('funding_dict.pickle', 'rb') as handle:\n",
    "    funding_dict = pickle.load(handle)"
   ]
  },
  {
   "cell_type": "code",
   "execution_count": 6,
   "metadata": {},
   "outputs": [
    {
     "data": {
      "text/plain": [
       "22747"
      ]
     },
     "execution_count": 6,
     "metadata": {},
     "output_type": "execute_result"
    }
   ],
   "source": [
    "len(funding_dict)"
   ]
  },
  {
   "cell_type": "code",
   "execution_count": 7,
   "metadata": {},
   "outputs": [],
   "source": [
    "names_unique = df1['company_name'].drop_duplicates()"
   ]
  },
  {
   "cell_type": "code",
   "execution_count": 8,
   "metadata": {},
   "outputs": [
    {
     "data": {
      "text/plain": [
       "4585"
      ]
     },
     "execution_count": 8,
     "metadata": {},
     "output_type": "execute_result"
    }
   ],
   "source": [
    "len(names_unique)"
   ]
  },
  {
   "cell_type": "markdown",
   "metadata": {},
   "source": [
    "Create dict for company market"
   ]
  },
  {
   "cell_type": "code",
   "execution_count": 9,
   "metadata": {},
   "outputs": [],
   "source": [
    "market_df = df1[['company_name', 'company_market']]\n",
    "market_df = market_df.drop_duplicates()\n",
    "\n",
    "market_dict = dict(zip(list(market_df.company_name),list(market_df.company_market)))"
   ]
  },
  {
   "cell_type": "code",
   "execution_count": 10,
   "metadata": {},
   "outputs": [
    {
     "data": {
      "text/plain": [
       "4585"
      ]
     },
     "execution_count": 10,
     "metadata": {},
     "output_type": "execute_result"
    }
   ],
   "source": [
    "len(market_dict)"
   ]
  },
  {
   "cell_type": "markdown",
   "metadata": {},
   "source": [
    "Create dict for company city"
   ]
  },
  {
   "cell_type": "code",
   "execution_count": 11,
   "metadata": {},
   "outputs": [],
   "source": [
    "city_df = df1[['company_name', 'company_city']]\n",
    "city_df = city_df.drop_duplicates()\n",
    "\n",
    "city_dict = dict(zip(list(city_df.company_name),list(city_df.company_city)))"
   ]
  },
  {
   "cell_type": "code",
   "execution_count": 12,
   "metadata": {},
   "outputs": [
    {
     "data": {
      "text/plain": [
       "4585"
      ]
     },
     "execution_count": 12,
     "metadata": {},
     "output_type": "execute_result"
    }
   ],
   "source": [
    "len(city_dict)"
   ]
  },
  {
   "cell_type": "markdown",
   "metadata": {},
   "source": [
    "Building a cleaned dataframe for analysis and modeling"
   ]
  },
  {
   "cell_type": "code",
   "execution_count": 13,
   "metadata": {},
   "outputs": [],
   "source": [
    "data_cleaned = pd.DataFrame()\n",
    "data_cleaned = pd.concat([names_unique, pd.Series(list(names_unique.map(funding_dict))), pd.Series(list(names_unique.map(market_dict))),pd.Series(list(names_unique.map(city_dict)))],axis=1)"
   ]
  },
  {
   "cell_type": "code",
   "execution_count": 14,
   "metadata": {
    "scrolled": true
   },
   "outputs": [],
   "source": [
    "data_cleaned = data_cleaned.dropna()\n",
    "data_cleaned = data_cleaned.reset_index(drop=True)"
   ]
  },
  {
   "cell_type": "code",
   "execution_count": 15,
   "metadata": {
    "scrolled": false
   },
   "outputs": [
    {
     "name": "stdout",
     "output_type": "stream",
     "text": [
      "(1140, 4)\n"
     ]
    },
    {
     "data": {
      "text/html": [
       "<div>\n",
       "<style scoped>\n",
       "    .dataframe tbody tr th:only-of-type {\n",
       "        vertical-align: middle;\n",
       "    }\n",
       "\n",
       "    .dataframe tbody tr th {\n",
       "        vertical-align: top;\n",
       "    }\n",
       "\n",
       "    .dataframe thead th {\n",
       "        text-align: right;\n",
       "    }\n",
       "</style>\n",
       "<table border=\"1\" class=\"dataframe\">\n",
       "  <thead>\n",
       "    <tr style=\"text-align: right;\">\n",
       "      <th></th>\n",
       "      <th>company_name</th>\n",
       "      <th>total_funding</th>\n",
       "      <th>company_market</th>\n",
       "      <th>company_city</th>\n",
       "    </tr>\n",
       "  </thead>\n",
       "  <tbody>\n",
       "    <tr>\n",
       "      <th>0</th>\n",
       "      <td>VirtualLogix</td>\n",
       "      <td>29.288979</td>\n",
       "      <td>Software</td>\n",
       "      <td>Sunnyvale</td>\n",
       "    </tr>\n",
       "    <tr>\n",
       "      <th>1</th>\n",
       "      <td>Deem</td>\n",
       "      <td>56.300000</td>\n",
       "      <td>Broadcasting</td>\n",
       "      <td>Oakland</td>\n",
       "    </tr>\n",
       "    <tr>\n",
       "      <th>2</th>\n",
       "      <td>Pandora Media</td>\n",
       "      <td>32.000000</td>\n",
       "      <td>Hotels</td>\n",
       "      <td>Santa Clara</td>\n",
       "    </tr>\n",
       "    <tr>\n",
       "      <th>3</th>\n",
       "      <td>PlayFirst</td>\n",
       "      <td>5.800000</td>\n",
       "      <td>Music</td>\n",
       "      <td>San Francisco</td>\n",
       "    </tr>\n",
       "    <tr>\n",
       "      <th>4</th>\n",
       "      <td>Socialtext</td>\n",
       "      <td>3.000000</td>\n",
       "      <td>iPhone</td>\n",
       "      <td>Mountain View</td>\n",
       "    </tr>\n",
       "  </tbody>\n",
       "</table>\n",
       "</div>"
      ],
      "text/plain": [
       "    company_name  total_funding company_market   company_city\n",
       "0   VirtualLogix      29.288979       Software      Sunnyvale\n",
       "1           Deem      56.300000   Broadcasting        Oakland\n",
       "2  Pandora Media      32.000000         Hotels    Santa Clara\n",
       "3      PlayFirst       5.800000          Music  San Francisco\n",
       "4     Socialtext       3.000000         iPhone  Mountain View"
      ]
     },
     "execution_count": 15,
     "metadata": {},
     "output_type": "execute_result"
    }
   ],
   "source": [
    "data_cleaned.rename(columns={0:'total_funding', 1:'company_market', 2:'company_city'},inplace=True);\n",
    "print(data_cleaned.shape)\n",
    "data_cleaned.head(5)"
   ]
  },
  {
   "cell_type": "markdown",
   "metadata": {},
   "source": [
    "### Looking at amount raised per company"
   ]
  },
  {
   "cell_type": "code",
   "execution_count": 16,
   "metadata": {},
   "outputs": [
    {
     "name": "stdout",
     "output_type": "stream",
     "text": [
      "['Verizon Communications', 'Sberbank', 'Clearwire', 'sigmacare', 'Facebook', 'Flipkart', 'Solyndra', 'Uber', 'Venari Resources', 'Fisker Automotive', 'O3b Networks', 'Youku', 'Cloudera', 'Cape Wind', 'Twitter', 'Groupon', 'Alibaba', 'Dropbox', 'Snapdeal', 'Wave Broadband', 'SolarCity', 'AOL', 'BlackBerry', 'Bloom Energy', 'Palantir Technologies', 'LivingSocial', 'Better Place', 'SurveyMonkey', '58.com', 'Zynga', 'BrightSource Energy', 'FireEye', 'Tesla Motors', 'Airbnb', 'Pinterest', 'University of Maryland', 'BMC Software', 'Chobani', 'Alnylam Pharmaceuticals', 'PPTV', 'Lazada Group', 'Delivery Hero', 'SunEdison', 'Tamra-Tacoma Capital Partners', 'Helios Towers Africa', 'Enel OGK-5', 'IHS Holding', 'Magic Leap', 'Square', 'ZeniMax']\n"
     ]
    }
   ],
   "source": [
    "from heapq import nlargest\n",
    "largest = nlargest(50, funding_dict, key=funding_dict.get)\n",
    "print(largest) "
   ]
  },
  {
   "cell_type": "markdown",
   "metadata": {},
   "source": [
    "### Looking at amount raised in each market"
   ]
  },
  {
   "cell_type": "code",
   "execution_count": 17,
   "metadata": {},
   "outputs": [],
   "source": [
    "grouped_df1 = data_cleaned.groupby(['company_market'])['total_funding']"
   ]
  },
  {
   "cell_type": "code",
   "execution_count": 18,
   "metadata": {},
   "outputs": [],
   "source": [
    "keys_market = []\n",
    "funding = []\n",
    "market_funding_dict = {}\n",
    "for key, item in grouped_df1:\n",
    "    keys_market.append(key)\n",
    "    market_funding_dict[key] = sum(grouped_df1.get_group(key))\n",
    "    #print(key)\n",
    "    #print(grouped_df2.get_group(key), \"\\n\")"
   ]
  },
  {
   "cell_type": "code",
   "execution_count": 19,
   "metadata": {},
   "outputs": [
    {
     "name": "stdout",
     "output_type": "stream",
     "text": [
      "['Clean Technology', 'Analytics', 'Software', 'Biotechnology', 'Transportation', 'Health Care', 'Cloud Data Services', 'Semiconductors', 'Enterprise Software', 'Advertising', 'Construction', 'Automotive', 'Security', 'Mobile', 'Network Security', 'Technology', 'Web Hosting', 'Communications Hardware', 'Curated Web', 'Games']\n"
     ]
    }
   ],
   "source": [
    "from heapq import nlargest\n",
    "largest = nlargest(20, market_funding_dict, key=market_funding_dict.get)\n",
    "print(largest) "
   ]
  },
  {
   "cell_type": "code",
   "execution_count": 297,
   "metadata": {},
   "outputs": [
    {
     "data": {
      "application/vnd.plotly.v1+json": {
       "data": [
        {
         "type": "bar",
         "uid": "03fc1192-d80d-11e8-91c4-6a000073fc60",
         "x": [
          "Clean Technology",
          "Analytics",
          "Software",
          "Biotechnology",
          "Transportation",
          "Health Care",
          "Cloud Data Services",
          "Semiconductors",
          "Enterprise Software",
          "Advertising",
          "Construction",
          "Automotive",
          "Security",
          "Mobile",
          "Network Security",
          "Technology",
          "Web Hosting",
          "Communications Hardware",
          "Curated Web",
          "Games"
         ],
         "y": [
          4.047659175000001,
          3.073266732,
          2.904926326999998,
          2.4519512850000003,
          1.9106500000000002,
          1.6496749369999997,
          1.305215,
          1.1741043410000003,
          1.128074201,
          1.046986115,
          1.04504,
          0.925209978,
          0.9143711089999998,
          0.9060114609999999,
          0.8711697760000001,
          0.795611508,
          0.6913422030000002,
          0.687529976,
          0.6213915229999998,
          0.5318335030000001
         ]
        }
       ],
       "layout": {
        "font": {
         "size": 11
        },
        "title": "Total Investments Per Markets 2004-2014",
        "yaxis": {
         "title": "Total Funding in Billions"
        }
       }
      },
      "text/html": [
       "<div id=\"efac5052-fc22-4b0d-9e52-7270092c26f4\" style=\"height: 525px; width: 100%;\" class=\"plotly-graph-div\"></div><script type=\"text/javascript\">require([\"plotly\"], function(Plotly) { window.PLOTLYENV=window.PLOTLYENV || {};window.PLOTLYENV.BASE_URL=\"https://plot.ly\";Plotly.newPlot(\"efac5052-fc22-4b0d-9e52-7270092c26f4\", [{\"x\": [\"Clean Technology\", \"Analytics\", \"Software\", \"Biotechnology\", \"Transportation\", \"Health Care\", \"Cloud Data Services\", \"Semiconductors\", \"Enterprise Software\", \"Advertising\", \"Construction\", \"Automotive\", \"Security\", \"Mobile\", \"Network Security\", \"Technology\", \"Web Hosting\", \"Communications Hardware\", \"Curated Web\", \"Games\"], \"y\": [4.047659175000001, 3.073266732, 2.904926326999998, 2.4519512850000003, 1.9106500000000002, 1.6496749369999997, 1.305215, 1.1741043410000003, 1.128074201, 1.046986115, 1.04504, 0.925209978, 0.9143711089999998, 0.9060114609999999, 0.8711697760000001, 0.795611508, 0.6913422030000002, 0.687529976, 0.6213915229999998, 0.5318335030000001], \"type\": \"bar\", \"uid\": \"03ff0b5e-d80d-11e8-ad87-6a000073fc60\"}], {\"font\": {\"size\": 11}, \"title\": \"Total Investments Per Markets 2004-2014\", \"yaxis\": {\"title\": \"Total Funding in Billions\"}}, {\"showLink\": true, \"linkText\": \"Export to plot.ly\"})});</script>"
      ],
      "text/vnd.plotly.v1+html": [
       "<div id=\"efac5052-fc22-4b0d-9e52-7270092c26f4\" style=\"height: 525px; width: 100%;\" class=\"plotly-graph-div\"></div><script type=\"text/javascript\">require([\"plotly\"], function(Plotly) { window.PLOTLYENV=window.PLOTLYENV || {};window.PLOTLYENV.BASE_URL=\"https://plot.ly\";Plotly.newPlot(\"efac5052-fc22-4b0d-9e52-7270092c26f4\", [{\"x\": [\"Clean Technology\", \"Analytics\", \"Software\", \"Biotechnology\", \"Transportation\", \"Health Care\", \"Cloud Data Services\", \"Semiconductors\", \"Enterprise Software\", \"Advertising\", \"Construction\", \"Automotive\", \"Security\", \"Mobile\", \"Network Security\", \"Technology\", \"Web Hosting\", \"Communications Hardware\", \"Curated Web\", \"Games\"], \"y\": [4.047659175000001, 3.073266732, 2.904926326999998, 2.4519512850000003, 1.9106500000000002, 1.6496749369999997, 1.305215, 1.1741043410000003, 1.128074201, 1.046986115, 1.04504, 0.925209978, 0.9143711089999998, 0.9060114609999999, 0.8711697760000001, 0.795611508, 0.6913422030000002, 0.687529976, 0.6213915229999998, 0.5318335030000001], \"type\": \"bar\", \"uid\": \"03ff0b5e-d80d-11e8-ad87-6a000073fc60\"}], {\"font\": {\"size\": 11}, \"title\": \"Total Investments Per Markets 2004-2014\", \"yaxis\": {\"title\": \"Total Funding in Billions\"}}, {\"showLink\": true, \"linkText\": \"Export to plot.ly\"})});</script>"
      ]
     },
     "metadata": {},
     "output_type": "display_data"
    }
   ],
   "source": [
    "funding_in_markets_bar = [go.Bar(\n",
    "            x=largest,\n",
    "            y=[market_funding_dict[x]/1e3 for x in largest]\n",
    "    )]\n",
    "\n",
    "iplot({'data':funding_in_markets_bar, 'layout':{'title': 'Total Investments Per Markets 2004-2014',\n",
    "                          'font': dict(size=11),\n",
    "                          'yaxis': dict(title='Total Funding in Billions')}}, filename='basic-bar')"
   ]
  },
  {
   "cell_type": "code",
   "execution_count": null,
   "metadata": {},
   "outputs": [],
   "source": []
  },
  {
   "cell_type": "code",
   "execution_count": null,
   "metadata": {},
   "outputs": [],
   "source": []
  },
  {
   "cell_type": "markdown",
   "metadata": {},
   "source": [
    "# NEED TO INCORPERATE AVG AMOUNT PER ROUND DATA"
   ]
  },
  {
   "cell_type": "markdown",
   "metadata": {},
   "source": [
    "### Looking at average raised per round"
   ]
  },
  {
   "cell_type": "code",
   "execution_count": 21,
   "metadata": {},
   "outputs": [],
   "source": [
    "grouped_df3 = df1.groupby(['company_name'])['funding_round_code']"
   ]
  },
  {
   "cell_type": "code",
   "execution_count": 22,
   "metadata": {},
   "outputs": [],
   "source": [
    "funding_rounds_dict = {}\n",
    "for key, item in grouped_df3:\n",
    "    funding_rounds_dict[key] = set(grouped_df3.get_group(key))"
   ]
  },
  {
   "cell_type": "markdown",
   "metadata": {},
   "source": [
    "Create an order for the rounds, create a dictionary for the max round per startup"
   ]
  },
  {
   "cell_type": "code",
   "execution_count": 169,
   "metadata": {
    "collapsed": true
   },
   "outputs": [
    {
     "data": {
      "text/plain": [
       "{'1000memories': {'A', nan},\n",
       " '100Plus': {nan},\n",
       " '140 Proof': {'A', 'B'},\n",
       " '15Five': {nan},\n",
       " '1Life Healthcare': {'E'},\n",
       " '1World Online': {'A'},\n",
       " '23andMe': {'A', 'B', 'C', 'D', nan},\n",
       " '2NDNATURE': {nan},\n",
       " '3-V Biosciences': {'B', 'C', nan},\n",
       " '365 Data Centers': {'B'},\n",
       " '37coins': {nan},\n",
       " '3D Control Systems': {nan},\n",
       " '3Jam': {'A'},\n",
       " '3Leaf': {'A', 'B', 'C'},\n",
       " '3Scan': {nan},\n",
       " '3TEN8': {nan},\n",
       " '3VR': {'A', 'B', 'C', 'D', 'E', nan},\n",
       " '41st Parameter': {'B', 'C', 'D'},\n",
       " '42': {nan},\n",
       " '42Floors': {'A', 'B', nan},\n",
       " '4Home': {'A', 'B'},\n",
       " '4INFO': {'C', 'D', 'E', nan},\n",
       " '4Soils': {nan},\n",
       " '500Friends': {'A', 'B', nan},\n",
       " '5th Finger': {'A'},\n",
       " '64 Pixels': {nan},\n",
       " '6Sense': {'A'},\n",
       " '6SensorLabs': {nan},\n",
       " '6connect': {'A'},\n",
       " '8tracks Radio': {nan},\n",
       " '99designs': {'A'},\n",
       " 'A Bit Lucky': {nan},\n",
       " 'A la Mobile': {'B'},\n",
       " 'A10 Networks': {'A', 'B', 'C', nan},\n",
       " 'ACCO Semiconductor': {'D'},\n",
       " 'ACT Biotech': {'A'},\n",
       " 'ADARA': {'B', nan},\n",
       " 'AEGEA Medical': {nan},\n",
       " 'AGEIA Technologies': {'C'},\n",
       " 'ALDEA Pharmaceuticals': {'B', nan},\n",
       " 'ANDA Networks': {nan},\n",
       " 'AOptix Technologies': {'C', 'D', 'E'},\n",
       " 'APT Pharmaceuticals': {'A'},\n",
       " 'ARIO Data Networks': {'E', nan},\n",
       " 'ARMO BioSciences': {'A', 'B'},\n",
       " 'ARYx Therapeutics': {nan},\n",
       " 'ASSIA': {'D', 'E', nan},\n",
       " 'AVA.ai': {nan},\n",
       " 'Aardvark': {'A', nan},\n",
       " 'Abazab': {nan},\n",
       " 'Above All Software': {nan},\n",
       " 'AbsolutData': {nan},\n",
       " 'Academia.edu': {'A', 'B', nan},\n",
       " 'AcademixDirect': {'A'},\n",
       " 'AccelOps': {'A', 'B'},\n",
       " 'Accela': {nan},\n",
       " 'Accellion': {'C'},\n",
       " 'Accept Software': {'C', nan},\n",
       " 'Access Closure': {nan},\n",
       " 'Accompani': {'A', 'B'},\n",
       " 'AccountNow': {'A', 'C'},\n",
       " 'Accredible': {nan},\n",
       " 'AcelRx Pharmaceuticals': {nan},\n",
       " 'Acendi Interactive': {'B'},\n",
       " 'Aceva Technologies': {'D'},\n",
       " 'Achaogen': {'B', 'C', nan},\n",
       " 'Achievers': {'A', 'B', 'C', nan},\n",
       " 'Achronix Semiconductor': {'A', 'B', nan},\n",
       " 'Acompli': {'A'},\n",
       " 'Actelis Networks': {'E', 'F', nan},\n",
       " 'Actiance': {nan},\n",
       " 'Active Mind Technology': {nan},\n",
       " 'Active Optical MEMS': {'B'},\n",
       " 'Active Scaler': {nan},\n",
       " 'Activehours': {nan},\n",
       " 'ActivityHero': {'A'},\n",
       " 'Acumen Pharmaceuticals': {nan},\n",
       " 'Acupera': {'A'},\n",
       " 'Ad Infuse': {'A', 'B', nan},\n",
       " 'AdEspresso': {nan},\n",
       " 'AdGent Digital': {'A'},\n",
       " 'AdGrok': {nan},\n",
       " 'AdMob': {'A', 'B', 'C'},\n",
       " 'AdMobius': {'A'},\n",
       " 'AdRocket': {nan},\n",
       " 'AdRoll': {'A', 'B', 'C'},\n",
       " 'AdStage': {'A', nan},\n",
       " 'AdWhirl': {nan},\n",
       " 'AdYouNet': {nan},\n",
       " 'Adallom': {'A', 'B'},\n",
       " 'Adamas Pharmaceuticals': {'B', 'D'},\n",
       " 'Adap.tv': {'A', 'B', 'C', nan},\n",
       " 'Adaptive Planning': {'C', 'D', nan},\n",
       " 'Adatao': {'A'},\n",
       " 'Adchemy': {'A', 'B', 'C', 'E', nan},\n",
       " 'Addapp': {nan},\n",
       " 'Addepar': {'A', 'B'},\n",
       " 'Addvocate': {'A', nan},\n",
       " 'Adept Cloud': {'A', nan},\n",
       " 'Adesto Technologies': {'D', nan},\n",
       " 'AdexLink': {nan},\n",
       " 'Adeze': {'B', 'C'},\n",
       " 'Adiana': {'D'},\n",
       " 'Adify': {'A', 'B'},\n",
       " 'Adility': {nan},\n",
       " 'Adinch Inc': {'A'},\n",
       " 'Adioso': {nan},\n",
       " 'Aditazz': {'A'},\n",
       " 'Adku': {nan},\n",
       " 'Adomo': {nan},\n",
       " 'AdsNative': {nan},\n",
       " 'Adura Technologies': {'A', 'B'},\n",
       " 'Aduro BioTech': {'B', 'C'},\n",
       " 'Advanced Cell Diagnostics': {'A', 'B', nan},\n",
       " 'Advanced Chip Express': {'A'},\n",
       " 'Advanced Power Projects': {'A'},\n",
       " 'AdventEnna': {'A'},\n",
       " 'AdverCar': {nan},\n",
       " 'Advice Wallet': {nan},\n",
       " 'Adynxx': {nan},\n",
       " 'Adzilla': {'A'},\n",
       " 'Aeluros': {nan},\n",
       " 'Aeria Games & Entertainment': {nan},\n",
       " 'AeroFS': {'A'},\n",
       " 'AeroScout': {'D', 'E'},\n",
       " 'Aerohive Networks': {'A', 'B', 'D', 'E', 'F'},\n",
       " 'Aerospike': {'C'},\n",
       " 'Afferent Pharmaceuticals': {'A', nan},\n",
       " 'Affinity Circles': {'A', 'C'},\n",
       " 'Affirm': {nan},\n",
       " 'Agari': {'A', 'C'},\n",
       " 'Aggregate Knowledge': {'A', 'B', 'C', 'E', nan},\n",
       " 'AgilOne': {'A', 'B', 'C'},\n",
       " 'Agile Energy': {nan},\n",
       " 'AgileMD': {nan},\n",
       " 'Agiliance': {'A', 'B', nan},\n",
       " 'Agility Design Solutions': {'B'},\n",
       " 'Agily Networks': {nan},\n",
       " 'Agistics': {'A'},\n",
       " 'Agito Networks': {'B', nan},\n",
       " 'Agnitus': {'A'},\n",
       " 'Aha Mobile': {'A'},\n",
       " 'Aicent': {'C', 'D'},\n",
       " 'AimWith': {nan},\n",
       " 'AirPR': {'A', nan},\n",
       " 'AirTight Networks': {'A', 'B', 'C', 'D'},\n",
       " 'AirXpanders': {'D', nan},\n",
       " 'Airbnb': {'A', 'B', 'C', 'D', nan},\n",
       " 'Airphrame': {'A'},\n",
       " 'Airpost.io': {nan},\n",
       " 'Airstone': {nan},\n",
       " 'Airware': {'A', 'B', nan},\n",
       " 'Airy Labs': {nan},\n",
       " 'Akimbi Systems': {'B'},\n",
       " 'Akimbo': {'B', 'C', 'D'},\n",
       " 'Aktana': {'A', nan},\n",
       " 'Alcanzar Solar': {nan},\n",
       " 'AlephCloud Systems': {'B'},\n",
       " 'AlertEnterprise': {'A', 'B'},\n",
       " 'Algolia': {nan},\n",
       " 'Alicanto': {'A'},\n",
       " 'Alien Technology': {'C', 'D', 'F', nan},\n",
       " 'AlienVault': {'A', 'B', 'C', 'D'},\n",
       " 'Aligo': {nan},\n",
       " 'Alios BioPharma': {'A', 'B'},\n",
       " 'AliveCor': {'A', 'B'},\n",
       " 'AllBusiness.com': {'B', 'C'},\n",
       " 'AllTrails': {nan},\n",
       " 'Allakos': {'A', nan},\n",
       " 'Allbound': {nan},\n",
       " 'Allergen Research Corporation': {'A'},\n",
       " 'Allihub': {nan},\n",
       " 'Allocade': {'C'},\n",
       " 'Alloptic': {'E', nan},\n",
       " 'Allux Medical': {nan},\n",
       " 'Allvoices': {'A', nan},\n",
       " 'Alminder': {nan},\n",
       " 'Almond Systems, Inc.': {'A'},\n",
       " 'Alpha and Omega Semiconductor': {nan},\n",
       " 'Alphabet Energy': {'A', 'B', nan},\n",
       " 'Alpine Data Labs': {'A', 'B'},\n",
       " 'Alt12 Apps': {nan},\n",
       " 'AltSchool': {'A'},\n",
       " 'Alta Devices': {nan},\n",
       " 'Alter Eco': {nan},\n",
       " 'Alter-G': {'A', 'B', 'C'},\n",
       " 'Altheos': {'A'},\n",
       " 'Altia Systems': {'A', 'B'},\n",
       " 'Altierre': {'A', 'B', 'C', 'F', nan},\n",
       " 'Altius Education': {'A', 'B'},\n",
       " 'Altor Networks': {'A', 'B'},\n",
       " 'Altos Design Automation': {'A'},\n",
       " 'AltspaceVR': {nan},\n",
       " 'Altura Medical': {'A'},\n",
       " 'Alverix': {'A'},\n",
       " 'Alvine Pharmaceuticals': {'A', nan},\n",
       " 'Amalfi Semiconductor': {'B', 'C', nan},\n",
       " 'Amaranth Medical': {'B'},\n",
       " 'Ambarella': {'C'},\n",
       " 'AmberPoint': {'D', nan},\n",
       " 'American Efficient': {nan},\n",
       " 'Amiato': {nan},\n",
       " 'Amitive': {'A'},\n",
       " 'Amobee': {'A', 'B', 'C', 'D'},\n",
       " 'Ampex': {nan},\n",
       " 'Ample Communications': {nan},\n",
       " 'Amplitude': {nan},\n",
       " 'Amprius': {'B', 'C'},\n",
       " 'Amulyte': {nan},\n",
       " 'Amyris Biotechnologies': {'A', 'B', 'C', 'D'},\n",
       " 'Anacor Pharmaceutical': {'C', 'E', nan},\n",
       " 'Anagran': {'B', 'D'},\n",
       " 'Analogix Semiconductor': {'B', nan},\n",
       " 'Anaplan': {'B', 'C', 'D'},\n",
       " 'Anapsis': {nan},\n",
       " 'Anchiva Systems': {nan},\n",
       " 'Anchor Bay Technologies': {nan},\n",
       " 'Anchor Intelligence': {'A', 'B'},\n",
       " 'Anchor Semiconductor': {'B'},\n",
       " 'AnchorFree': {'A', 'B', 'C'},\n",
       " 'AngelList': {'B', nan},\n",
       " 'AngioScore': {'E', nan},\n",
       " 'Angstro': {nan},\n",
       " 'Animated Speech': {'C'},\n",
       " 'Animeeple': {nan},\n",
       " 'Ankeena Networks': {'A', 'B'},\n",
       " 'Anki': {'C', nan},\n",
       " 'Anthera Pharmaceuticals': {nan},\n",
       " 'Anthology Solutions': {'B'},\n",
       " 'Anvato': {'A', nan},\n",
       " 'AnyCloud': {nan},\n",
       " 'AnyPerk': {nan},\n",
       " 'AorTx': {nan},\n",
       " 'ApaceWave Technologies': {'A', nan},\n",
       " 'Apartment List': {'A', nan},\n",
       " 'Apcera': {'A', nan},\n",
       " 'Aperia Technologies': {nan},\n",
       " 'Aperto Networks': {'D', 'E', 'F'},\n",
       " 'Apexigen': {'A'},\n",
       " 'Apiary': {nan},\n",
       " 'Apieron': {'B', 'C', 'D'},\n",
       " 'Apigee': {'A', 'B', 'C', 'E', 'F', nan},\n",
       " 'Apixio': {'C'},\n",
       " 'ApniCure': {nan},\n",
       " 'App Annie': {'A', 'B', 'C', 'D'},\n",
       " 'App.io': {nan},\n",
       " 'App.net': {'A'},\n",
       " 'AppDirect': {'A', 'B', 'C', nan},\n",
       " 'AppDynamics': {'A', 'B', 'C', 'D', 'E', nan},\n",
       " 'AppEnsure': {nan},\n",
       " 'AppGyver': {nan},\n",
       " 'AppJet': {nan},\n",
       " 'AppMesh': {'A'},\n",
       " 'AppRedeem': {nan},\n",
       " 'AppSlingr': {nan},\n",
       " 'Appbistro': {nan},\n",
       " 'Appcelerator': {'A', 'B', 'C', 'D', nan},\n",
       " 'Appington': {nan},\n",
       " 'Appiphany': {nan},\n",
       " 'Appirio': {'A', 'B', 'C', 'D'},\n",
       " 'Appiterate': {nan},\n",
       " 'Applauze': {'A', nan},\n",
       " 'Applied Identity': {'A', 'B', 'C'},\n",
       " 'Applied MicroStructures': {'B'},\n",
       " 'Appnomic Systems': {'A', 'B', 'C'},\n",
       " 'Apportable': {nan},\n",
       " 'Apprion': {'A', 'B', 'C'},\n",
       " 'Appstores.com': {nan},\n",
       " 'Apptera': {'D', nan},\n",
       " 'ApptheGame': {nan},\n",
       " 'Appthority': {'A'},\n",
       " 'Apptimize': {nan},\n",
       " 'Appurify': {'A', nan},\n",
       " 'Apropose': {nan},\n",
       " 'Apsalar': {'A', 'B', nan},\n",
       " 'Aptana': {nan},\n",
       " 'Aptible': {nan},\n",
       " 'Apttus': {'A'},\n",
       " 'Apture': {'A', nan},\n",
       " 'Aptus Endosystems': {'A', 'B'},\n",
       " 'Aquantia': {'A', 'B', 'D', 'E', 'F', 'G'},\n",
       " 'Aquest Systems': {'B'},\n",
       " 'Aragon Consulting Group': {'A'},\n",
       " 'Aragon Surgical': {'B'},\n",
       " 'Aravo Solutions': {'C', 'D'},\n",
       " 'ArcSight': {'C'},\n",
       " 'ArcSoft': {nan},\n",
       " 'Arcaris': {nan},\n",
       " 'Arch Rock Corporation': {'A', 'B'},\n",
       " 'ArchPro Design Automation': {'B'},\n",
       " 'Arcot Systems': {'A', 'B', nan},\n",
       " 'Arcxis Biotechnologies': {'B'},\n",
       " 'Ardelyx': {'B'},\n",
       " 'Ardian': {'B', 'C'},\n",
       " 'Arena Solutions': {nan},\n",
       " 'Argyle Data': {'A', 'B', 'C', nan},\n",
       " 'Aria Retirement Solutions': {nan},\n",
       " 'Aria Systems': {'A', 'B', 'C', 'D'},\n",
       " 'Ariosa Diagnostics, Inc.': {'C'},\n",
       " 'Arithmatica': {nan},\n",
       " 'Ark': {nan},\n",
       " 'Arkin Net': {'A'},\n",
       " 'Armetheon': {'A'},\n",
       " 'Armor5': {nan},\n",
       " 'ArrayComm': {nan},\n",
       " 'ArrayPower, Inc.': {nan},\n",
       " 'Arrayent': {'B', nan},\n",
       " 'Arroyo Video Solutions': {'C'},\n",
       " 'Art.com': {'A', 'C'},\n",
       " 'ArtCorgi': {nan},\n",
       " 'ArtSquare': {nan},\n",
       " 'Arteris': {'B', 'C', 'D'},\n",
       " 'Articulinx Inc.': {nan},\n",
       " 'Artify It': {nan},\n",
       " 'Artillery': {nan},\n",
       " 'Artimi': {'B'},\n",
       " 'Aruba Networks': {'D'},\n",
       " 'Aruspex': {'A'},\n",
       " 'Aryaka Networks': {'A', 'B', 'C', 'D'},\n",
       " 'Asana': {'A', 'B', nan},\n",
       " 'Ascendis Pharma': {'D'},\n",
       " 'Asempra Technologies': {'B'},\n",
       " 'Asetek': {'B', nan},\n",
       " 'Asoka': {nan},\n",
       " 'Assemblage': {nan},\n",
       " 'Assembly': {nan},\n",
       " 'AssertID': {nan},\n",
       " 'Asseta': {nan},\n",
       " 'Assurz': {'A'},\n",
       " 'Aster Data Systems': {'A', 'B', 'C', nan},\n",
       " 'Astrid': {nan},\n",
       " 'AtHoc': {'A', 'B'},\n",
       " 'Atempo': {'A', 'B'},\n",
       " 'Atheer Labs': {'A'},\n",
       " 'Athena Design Systems': {'B'},\n",
       " 'Athena Feminine Technologies': {'A'},\n",
       " 'AtheroMed': {'D', nan},\n",
       " 'Athos': {nan},\n",
       " 'Atieva': {nan},\n",
       " 'Atlantis Computing': {'C', 'D'},\n",
       " 'Atooma': {nan},\n",
       " 'Atreca': {nan},\n",
       " 'Atrenta': {'D', nan},\n",
       " 'Atrica': {'F'},\n",
       " 'Atrua Technologies': {'D', 'E'},\n",
       " 'Attachments.me': {'A', nan},\n",
       " 'Attainia': {'C'},\n",
       " 'Attendify': {nan},\n",
       " 'Attributor': {'A', 'B', 'C', 'D'},\n",
       " 'Attune': {nan},\n",
       " 'Attune Systems': {'B', nan},\n",
       " 'Auctomatic': {nan},\n",
       " 'Audentes Therapeutics': {'A', 'B'},\n",
       " 'Audible Magic': {nan},\n",
       " 'Audiodraft': {nan},\n",
       " 'AuditFile': {nan},\n",
       " 'Auditude': {'A', 'B'},\n",
       " 'Augmedix': {nan},\n",
       " 'August': {'A', nan},\n",
       " 'Aurora Biofuels': {'A', 'B', 'C', nan},\n",
       " 'Aurora Feint': {nan},\n",
       " 'Ausra': {'A', 'C', 'D'},\n",
       " 'AutekBio': {'A', 'B'},\n",
       " 'Authernative': {'A'},\n",
       " 'Authy': {nan},\n",
       " 'Autogrid': {'C', nan},\n",
       " 'Automattic': {'A', 'B', 'C', nan},\n",
       " 'Autonomic Technologies': {'A', 'B'},\n",
       " 'Autopilot (formerly Bislr)': {'A', 'B'},\n",
       " 'Auxogyn': {'A', 'B'},\n",
       " 'Avaamo': {nan},\n",
       " 'Availigent': {'B'},\n",
       " 'Avalanche Biotech': {'B'},\n",
       " 'Avalanche Technology': {'B', 'C', 'D'},\n",
       " 'Avangate BV': {'A', nan},\n",
       " 'Avantis Medical Systems': {'B', nan},\n",
       " 'Avega Systems': {'B'},\n",
       " 'Avegant': {'A', nan},\n",
       " 'Avenda Systems': {'B'},\n",
       " 'Averail': {'A', nan},\n",
       " 'Aviate': {nan},\n",
       " 'Avidia': {'B', 'C'},\n",
       " 'Aviso, Inc.': {'A'},\n",
       " 'Avocado™': {nan},\n",
       " 'Avogy': {'B'},\n",
       " 'Avolent': {nan},\n",
       " 'Avvenu': {nan},\n",
       " 'Awear': {nan},\n",
       " 'Axcient': {'A', 'B', 'C', 'D', nan},\n",
       " 'Ayasdi': {'A', 'B', nan},\n",
       " 'Ayla Networks': {'A', 'B', nan},\n",
       " 'Azaire Networks': {'C'},\n",
       " 'Azalea Networks': {nan},\n",
       " 'Azingo': {'A', 'B'},\n",
       " 'Azteq Mobile': {nan},\n",
       " 'Azul Systems': {nan},\n",
       " 'Azumio': {'A'},\n",
       " 'Azuro': {'B'},\n",
       " 'B-Bridge International': {nan},\n",
       " 'B-Stock Solutions': {'B', nan},\n",
       " 'B-hive Networks': {'A'},\n",
       " 'BA Systems': {nan},\n",
       " 'BARRX Medical': {'D'},\n",
       " 'BASH Gaming': {nan},\n",
       " 'BBVA Ventures': {'E'},\n",
       " 'BDNA': {'C', 'D'},\n",
       " 'BIO-NEMS': {nan},\n",
       " 'BLADE Network Technologies': {'B'},\n",
       " 'BMG Controls': {nan},\n",
       " 'BO.LT': {'A'},\n",
       " 'BRD Motorcycles': {'A'},\n",
       " 'BRIVAS LABS': {nan},\n",
       " 'BTCJam': {nan},\n",
       " 'BUILD': {nan},\n",
       " 'BabyList': {nan},\n",
       " 'Bacchus Vascular': {nan},\n",
       " 'BackOps': {'A', nan},\n",
       " 'BackType': {nan},\n",
       " 'Backblaze': {'A'},\n",
       " 'Backpack': {nan},\n",
       " 'Backplane': {'A', nan},\n",
       " 'Badger Maps': {nan},\n",
       " 'Badgeville': {'A', 'B', 'C', nan},\n",
       " 'BakedCode': {nan},\n",
       " 'Balanced': {nan},\n",
       " 'Balluun': {'B'},\n",
       " 'BandPage': {'A', 'B', 'C'},\n",
       " 'Banjo': {'B'},\n",
       " 'Bannerman': {nan},\n",
       " 'Banter!': {nan},\n",
       " 'Barosense': {'D', nan},\n",
       " 'Barracuda Networks': {nan},\n",
       " 'Base CRM': {'A', 'B', nan},\n",
       " 'Basis Science': {'A', 'B'},\n",
       " 'Baxano': {'C'},\n",
       " 'Bay Dynamics': {'A'},\n",
       " 'Bay Microsystems': {'D'},\n",
       " 'BayPackets': {'D'},\n",
       " 'Baydin': {nan},\n",
       " 'Bayes Impact': {nan},\n",
       " 'Baynote': {'A', 'B', 'C', 'D'},\n",
       " 'Be Here': {'A'},\n",
       " 'Be-Bound': {'A'},\n",
       " 'BeVocal': {'E'},\n",
       " 'BeamExpress': {'C', nan},\n",
       " 'Beatrobo': {'A', nan},\n",
       " 'Beauty Noted': {nan},\n",
       " 'Beautylish': {nan},\n",
       " 'Bebo': {'A'},\n",
       " 'Beceem Communications': {'B', 'D', nan},\n",
       " 'Beckon, Inc.': {'A'},\n",
       " 'Become, Inc.': {'A', 'B', 'C', 'D'},\n",
       " 'Beep': {nan},\n",
       " 'Beepi': {'A', 'B', nan},\n",
       " 'Before the Call': {'A'},\n",
       " 'Behavio': {nan},\n",
       " 'Bell Biosystems': {'A', nan},\n",
       " 'Bella Pictures': {nan},\n",
       " 'Bellabeat': {nan},\n",
       " 'Benefitter': {nan},\n",
       " 'Benvenue Medical': {'B', 'C', 'D', 'E', nan},\n",
       " 'Berggi': {nan},\n",
       " 'Berkeley Design Automation': {'B', nan},\n",
       " 'Betabrand': {'A', nan},\n",
       " 'Better Finance': {'A', 'C'},\n",
       " 'Better Place': {'A', 'B', 'C', nan},\n",
       " 'BetterDoctor': {'A', nan},\n",
       " 'BetterWorks': {'A'},\n",
       " 'Beyond Lucid Technologies': {nan},\n",
       " 'BeyondCore': {'A'},\n",
       " 'BiPar Sciences': {'A', 'B', 'C', nan},\n",
       " 'BiTMICRO Networks Inc': {'E', nan},\n",
       " 'Biba': {'A', 'B'},\n",
       " 'Bidgely': {'A', nan},\n",
       " 'Big Box Labs': {nan},\n",
       " 'Big Live': {'A'},\n",
       " 'Big Switch Networks': {'A', 'B', nan},\n",
       " 'BigFix': {'E'},\n",
       " 'BigPanda': {'A'},\n",
       " 'BigTent Design': {'A'},\n",
       " 'Bigfoot Networks': {'A', 'B', nan},\n",
       " 'Bikanta': {nan},\n",
       " 'Bill.Forward': {nan},\n",
       " 'Bill.com': {'A', 'B', 'C', 'D', 'E'},\n",
       " 'BillShrink': {'A', 'B'},\n",
       " 'Billeo': {'A', 'B', nan},\n",
       " 'Billowby': {nan},\n",
       " 'Bina Technologies': {'B'},\n",
       " 'Binpress': {nan},\n",
       " 'Bio Architecture Lab': {nan},\n",
       " 'BioBeats': {nan},\n",
       " 'BioCision': {nan},\n",
       " 'BioPro Pharmaceutical': {'A'},\n",
       " 'BioSeek': {'C'},\n",
       " 'Biodesy': {'A'},\n",
       " 'Biofuelbox': {nan},\n",
       " 'Biomimedica': {'B', nan},\n",
       " 'Bionic Panda Games': {nan},\n",
       " 'Biozone Pharmaceuticals': {nan},\n",
       " 'Bipsync': {nan},\n",
       " 'Birst': {'D', 'E'},\n",
       " 'BitGo': {'A'},\n",
       " 'BitGravity': {'A'},\n",
       " 'BitPass': {'B'},\n",
       " 'BitTorrent': {'A', 'B', 'C'},\n",
       " 'Bitfury Group': {'A'},\n",
       " 'Bitglass': {'A', 'B'},\n",
       " 'Bitnet Technologies': {'A'},\n",
       " 'Bityota': {nan},\n",
       " 'Bitzer Mobile': {'A'},\n",
       " 'Bivio Networks': {'D', nan},\n",
       " 'Biz360': {nan},\n",
       " 'Bizanga': {'B'},\n",
       " 'BizeeBee': {nan},\n",
       " 'Bizo': {'A', 'B', nan},\n",
       " 'Black Lotus': {nan},\n",
       " 'BlackArrow': {'A', 'B', 'C'},\n",
       " 'Blazent': {'C', nan},\n",
       " 'Bleacher Report': {'A', 'B', 'C', nan},\n",
       " 'Blekko': {'A', 'B', 'C', nan},\n",
       " 'Blend Systems': {nan},\n",
       " 'Bling Nation': {'A', 'B'},\n",
       " 'Blippy Social Commerce': {'A', nan},\n",
       " 'Bloc': {'A', nan},\n",
       " 'BlockScore': {nan},\n",
       " 'Blockboard': {nan},\n",
       " 'BlogHer': {'A', 'B', 'C'},\n",
       " 'Bloodhound': {'A', nan},\n",
       " 'Bloom Energy': {nan},\n",
       " 'BloomBoard': {'A'},\n",
       " 'BloomReach': {'A', 'B', 'C'},\n",
       " 'BloomThat': {nan},\n",
       " 'Bloomspot': {'A', 'B', nan},\n",
       " 'Blossom': {nan},\n",
       " 'Blowtorch': {'A'},\n",
       " 'BluWrap': {nan},\n",
       " 'Blue Bottle Coffee': {'B', nan},\n",
       " 'Blue Buzz Network': {nan},\n",
       " 'Blue Jeans Network': {'A', 'B', 'C', 'D'},\n",
       " 'Blue Lane Technologies': {'B'},\n",
       " 'Blue Perch': {nan},\n",
       " 'Blue River Technology': {'A', nan},\n",
       " 'Blue Vector Systems': {'B'},\n",
       " 'BlueArc': {'E', nan},\n",
       " 'BlueData Software': {'B', nan},\n",
       " 'BlueKai': {'A', 'B', 'C', 'D'},\n",
       " 'BlueLithium': {'A'},\n",
       " 'BlueOak Resources': {nan},\n",
       " 'BluePoint Security™': {nan},\n",
       " 'BlueRoads': {'C', 'E'},\n",
       " 'BlueShift Labs': {nan},\n",
       " 'BlueSprig': {'A'},\n",
       " 'BlueStacks': {'A', 'B', nan},\n",
       " 'BlueTalon': {nan},\n",
       " 'BlueVine': {'A'},\n",
       " 'Bluebox': {'A', 'B'},\n",
       " 'Bluechilli': {'A'},\n",
       " 'Bluenose Analytics': {'A', nan},\n",
       " 'Blueprint Labs': {nan},\n",
       " 'Blueseed': {nan},\n",
       " 'Blurb': {'A', 'B', 'C', nan},\n",
       " 'BoardVantage': {'D'},\n",
       " 'Boardwalktech': {nan},\n",
       " 'Boatbound': {nan},\n",
       " 'Bonfaire': {'A', nan},\n",
       " 'BookFresh': {nan},\n",
       " 'Booktrack': {'A', nan},\n",
       " 'Boom Inc.': {nan},\n",
       " 'Boombotix': {'A'},\n",
       " 'Boomerang Commerce': {'A'},\n",
       " 'Boomtown!': {nan},\n",
       " 'Booshaka': {nan},\n",
       " 'Boost Media': {'A', 'B', 'C', nan},\n",
       " 'Boostable': {nan},\n",
       " 'Booyah': {'A', 'C'},\n",
       " 'Boreal Genomics': {'C', nan},\n",
       " 'Bottlenose': {'A', nan},\n",
       " 'Boundary': {'A', 'B', 'C', nan},\n",
       " 'Bountii': {nan},\n",
       " 'Bountysource': {nan},\n",
       " 'Box': {'A', 'B', 'C', 'D', 'E', 'F', nan},\n",
       " 'Boxbe': {'A'},\n",
       " 'Boxbee': {nan},\n",
       " 'Boxfish': {'A', 'B'},\n",
       " 'Bracket Computing': {'B'},\n",
       " 'BrainBot': {nan},\n",
       " 'Branch Metrics': {nan},\n",
       " 'BranchOut': {'A', 'B', 'C'},\n",
       " 'Brand.net': {'A', 'B', 'C'},\n",
       " 'Brandcast': {nan},\n",
       " 'BraveNewTalent': {nan},\n",
       " 'Bread': {'A', nan},\n",
       " 'Breakthrough Behavioral': {'A', nan},\n",
       " 'Breaktime Studios': {nan},\n",
       " 'Breathometer': {nan},\n",
       " 'Breezeworks': {'A', nan},\n",
       " 'Breezy': {'A', nan},\n",
       " 'Breker Verification Systems': {'A'},\n",
       " 'Bricsnet': {nan},\n",
       " 'Bridge U.S.': {nan},\n",
       " 'BridgeLux': {'C', 'D', 'E', nan},\n",
       " 'BridgeWave Communications': {'B', 'C', 'D', nan},\n",
       " 'Bridgestream': {'B'},\n",
       " 'Brigade': {'A'},\n",
       " 'Bright Computing': {'B'},\n",
       " 'Bright Funds': {nan},\n",
       " 'Bright Pattern': {nan},\n",
       " 'Bright.com': {'B'},\n",
       " 'BrightBytes': {'A', 'B', nan},\n",
       " 'BrightEdge': {'B', 'C', 'D'},\n",
       " 'BrightFunnel': {nan},\n",
       " 'BrightRoll': {'A', 'B', 'C', 'D'},\n",
       " 'BrightSource Energy': {'C', 'D', 'E', nan},\n",
       " 'BrightTALK': {nan},\n",
       " 'Brightkite': {nan},\n",
       " 'Brightpearl': {'A', 'B', 'C'},\n",
       " 'Brightstorm': {'A'},\n",
       " 'Brilliant Telecommunications': {'A', 'B', nan},\n",
       " 'BringIt': {'A'},\n",
       " 'Brit + Co.': {'A', nan},\n",
       " 'Britely': {nan},\n",
       " 'Brittmore Group': {nan},\n",
       " 'BroadLight': {'D', 'E', nan},\n",
       " 'BroadLogic Network Technologies': {'B'},\n",
       " 'Broadway Networks': {nan},\n",
       " 'Bromium': {'A', 'B', 'C', nan},\n",
       " 'Browserling': {nan},\n",
       " 'Browster': {'A'},\n",
       " 'Buddy Drinks': {nan},\n",
       " 'Buffer': {nan},\n",
       " 'BufferBox': {nan},\n",
       " 'Bugcrowd': {nan},\n",
       " 'Bugsnag': {nan},\n",
       " 'BuildZoom': {nan},\n",
       " 'Building Robotics': {'A', nan},\n",
       " 'BuildingIQ': {nan},\n",
       " 'Bump Technologies': {'A', 'B'},\n",
       " 'Bunchball': {'A', 'B', 'C'},\n",
       " 'Bunndle': {nan},\n",
       " 'Bureau Of Trade': {nan},\n",
       " 'Business Engine': {nan},\n",
       " 'Business Exchange': {nan},\n",
       " 'Buttercoin': {nan},\n",
       " 'Butterfly Health': {'B'},\n",
       " 'Buxfer': {nan},\n",
       " 'Buy With Fetch': {nan},\n",
       " 'Buysight': {'A', 'B'},\n",
       " 'Buzz All Stars': {nan},\n",
       " 'Byliner': {nan},\n",
       " 'C2 Microsystems': {nan},\n",
       " 'C3Nano': {'A', 'B', 'C'},\n",
       " 'C8 MediSensors': {'C'},\n",
       " 'C9 Inc.': {'A', 'B', 'C', 'D'},\n",
       " 'CAPNIA': {'B'},\n",
       " 'CDNetworks': {nan},\n",
       " 'CFEngine': {'A'},\n",
       " 'CHF Technologies': {nan},\n",
       " 'CHOBOLABS': {nan},\n",
       " 'CITTIO': {'A', 'B'},\n",
       " 'CRAVE': {'A'},\n",
       " 'CRIX Labs': {nan},\n",
       " 'CSS Corp': {'B', nan},\n",
       " 'CTSpace': {nan},\n",
       " 'CV Ingenuity': {'B'},\n",
       " 'CX': {nan},\n",
       " 'Cake Health': {nan},\n",
       " 'Calera': {nan},\n",
       " 'Calibra Medical': {nan},\n",
       " 'Calithera Biosciences': {'A', 'C', 'D', nan},\n",
       " 'Calm': {nan},\n",
       " 'CalmSea': {nan},\n",
       " 'Calysta Energy': {'A'},\n",
       " 'Cambrian Genomics': {nan},\n",
       " 'Cambrios Technologies': {'B', 'D', nan},\n",
       " 'Camperoo': {nan},\n",
       " 'Campus Quad': {nan},\n",
       " 'Canara': {nan},\n",
       " 'Candi Controls': {nan},\n",
       " 'Canesta': {nan},\n",
       " 'Canopy Financial': {'B', 'C', nan},\n",
       " 'Canopy Labs': {nan},\n",
       " 'Cantaloupe Systems': {'C'},\n",
       " 'Cantimer': {'A'},\n",
       " 'Cape Clear Software': {'D', nan},\n",
       " 'Capella Photonics': {'D', nan},\n",
       " 'Capricor Therapeutics': {nan},\n",
       " 'Capriza': {'A', 'B', 'C'},\n",
       " 'Captora': {'B'},\n",
       " 'Captricity': {'A', 'B'},\n",
       " 'Car Advisory Network': {'A'},\n",
       " 'CarWoo!': {'A', nan},\n",
       " 'CarbonFlow': {'A', 'B'},\n",
       " 'Carbonetworks': {'A'},\n",
       " 'Carbylan BioSurgery': {'B', 'C'},\n",
       " 'CardSpring': {'A'},\n",
       " 'Cardiio': {nan},\n",
       " 'Cardinal Blue Software': {nan},\n",
       " 'CardioDx': {'B', 'D', nan},\n",
       " 'CardioKinetix': {'E'},\n",
       " 'Care at Hand': {nan},\n",
       " 'CareDox': {nan},\n",
       " 'CareLinx': {nan},\n",
       " 'CareLuLu': {nan},\n",
       " 'CareParent': {'A'},\n",
       " 'CareinSync': {'A', nan},\n",
       " 'Caring.com': {'A', 'B'},\n",
       " 'Carlypso': {nan},\n",
       " 'Carmot Therapeutics': {nan},\n",
       " 'Carrier IQ': {'A', 'C', 'D'},\n",
       " 'Cartilix': {'B'},\n",
       " 'Casabi': {'A', 'B'},\n",
       " 'Casetext': {nan},\n",
       " 'CashBet': {nan},\n",
       " 'Casinity': {nan},\n",
       " 'Cask': {'A', nan},\n",
       " 'Cassatt': {'D'},\n",
       " 'Cast Iron Systems': {'D', 'F'},\n",
       " 'CastTV': {'A'},\n",
       " 'Castlight Health': {'C', 'D'},\n",
       " 'Catalog Spree': {'A'},\n",
       " 'Catalyst Biosciences': {'B', 'C', nan},\n",
       " 'Catalyst Mobile': {'B'},\n",
       " 'Catbird': {nan},\n",
       " 'Catch.com': {'A', nan},\n",
       " 'Causata': {'A', 'B'},\n",
       " 'Causes': {'A', 'B', 'C'},\n",
       " 'Cavendish Kinetics': {'B', nan},\n",
       " 'Caviar': {'A', nan},\n",
       " 'Cavium': {'B'},\n",
       " 'CayMay Education': {nan},\n",
       " 'Cazoomi': {nan},\n",
       " 'Celery': {nan},\n",
       " 'Celestial Semiconductor': {nan},\n",
       " 'Celiro': {'A'},\n",
       " 'CellBiosciences': {'B', 'C', 'F', nan},\n",
       " 'CellScape': {'A', 'B', nan},\n",
       " 'CellScope': {nan},\n",
       " 'Cellerant Therapeutics': {'B', nan},\n",
       " 'Cellfire': {'A', 'B', 'C'},\n",
       " 'Cellmax': {'A'},\n",
       " 'Cellworks': {'B'},\n",
       " \"Center'd\": {'A', nan},\n",
       " 'Centerbeam, Inc.': {nan},\n",
       " 'Centrality Communications': {'D'},\n",
       " 'Centric Software': {'B', 'C', 'D'},\n",
       " 'Centrify': {'B', 'C', 'D', 'E'},\n",
       " 'Cenzic': {'C'},\n",
       " 'Ceon': {nan},\n",
       " 'Cephasonics': {nan},\n",
       " 'Cerberus Co.': {nan},\n",
       " 'Cerebrotech Medical Systems': {nan},\n",
       " 'Cerephex': {'A'},\n",
       " 'Certess': {'B', nan},\n",
       " 'Certify Data Systems': {nan},\n",
       " 'Cervel Neurotech': {nan},\n",
       " 'Ceterix Orthopaedics': {'B'},\n",
       " 'ChaCha': {'A', 'B', 'F', nan},\n",
       " 'Chai Labs': {nan},\n",
       " 'Chain': {'A', nan},\n",
       " 'Change.org': {'B'},\n",
       " 'ChangeTip': {nan},\n",
       " 'Channel Medsystems': {'B'},\n",
       " 'ChannelMeter': {nan},\n",
       " 'ChargePoint, Inc.': {'A', 'C', 'D', 'E'},\n",
       " 'Charles Schwab': {'B'},\n",
       " 'Chartboost': {'A', 'B'},\n",
       " 'Chartcube': {'A'},\n",
       " 'Chartio': {'A', nan},\n",
       " 'Chat Sports': {nan},\n",
       " 'Check': {'A', 'C', nan},\n",
       " 'CheckInOn.Me': {nan},\n",
       " 'CheckInPage': {nan},\n",
       " 'Chef Surfing': {nan},\n",
       " 'Chegg': {'A', 'B', 'C', 'D', 'E', 'F', nan},\n",
       " 'Chelsio Communications': {'C', 'D', 'E', 'F'},\n",
       " 'ChemiSense': {nan},\n",
       " 'ChemoCentryx': {'C', 'D', nan},\n",
       " 'Chestnut Medical': {'C'},\n",
       " 'ChickRx': {nan},\n",
       " 'Chime': {nan},\n",
       " 'Chip Estimate': {nan},\n",
       " 'Chip Path Design Systems': {'A'},\n",
       " 'ChipX': {'B'},\n",
       " 'Chirply': {nan},\n",
       " 'Chomp': {'A', nan},\n",
       " 'Choose Energy': {'A', 'B'},\n",
       " 'Chronix Biomedical': {nan},\n",
       " 'Chronon Systems': {nan},\n",
       " 'Chubbies Shorts': {nan},\n",
       " 'Chug': {nan},\n",
       " 'Chute': {'A', nan},\n",
       " 'Ciel Medical': {nan},\n",
       " 'Ciespace': {'A'},\n",
       " 'CiiNOW': {'A'},\n",
       " 'Cinarra Systems': {'A'},\n",
       " 'Cinemacraft': {nan},\n",
       " 'CipherCloud': {'B', nan},\n",
       " 'CipherMax': {'B', nan},\n",
       " 'CiraNova': {'C', nan},\n",
       " 'Circa': {nan},\n",
       " 'Circle Inc': {'A', nan},\n",
       " 'CircleCI': {'A', nan},\n",
       " 'CircleUp': {'A', 'B', nan},\n",
       " 'CirroSecure': {nan},\n",
       " 'Cirtas Systems': {'A', 'B'},\n",
       " 'Citizen Sports': {nan},\n",
       " 'Citrus Lane': {'A', nan},\n",
       " 'CityStash Holdings': {nan},\n",
       " 'CivicSolar': {nan},\n",
       " 'ClairMail': {'A', 'D'},\n",
       " 'Clari': {'A', 'B'},\n",
       " 'Claritics': {'A'},\n",
       " 'Clarity': {nan},\n",
       " 'Clarus Systems': {'B', nan},\n",
       " 'ClassDojo': {'A', nan},\n",
       " 'ClassOwl': {nan},\n",
       " 'Clay.io': {nan},\n",
       " 'Clean Filtration Technology': {nan},\n",
       " 'Clean Power Finance': {'A', 'B', 'C'},\n",
       " 'CleanFish': {'A', nan},\n",
       " 'Clear Shape Technologies': {'B'},\n",
       " 'ClearApp': {'B'},\n",
       " 'ClearCare': {'A', 'B'},\n",
       " 'ClearFit': {'A', nan},\n",
       " 'ClearSlide': {'A', 'B', 'C'},\n",
       " 'ClearStory Data': {'A', 'B'},\n",
       " 'Clearwell Systems': {'B', 'C'},\n",
       " 'Cleave Biosciences': {'A'},\n",
       " 'Clef': {nan},\n",
       " 'Clever': {'A', nan},\n",
       " 'Clever Machine': {nan},\n",
       " 'Clever Sense': {'A', nan},\n",
       " 'CliQr Technologies': {'B', nan},\n",
       " 'Click & Grow': {'A', nan},\n",
       " 'ClickShift': {'A'},\n",
       " 'Clickability': {'C', nan},\n",
       " 'Clickatell': {'B'},\n",
       " 'Clickpass': {nan},\n",
       " 'Clickst': {nan},\n",
       " 'Clicktree': {nan},\n",
       " 'Clikthrough': {'A'},\n",
       " 'CliniCast': {nan},\n",
       " 'Clinkle': {nan},\n",
       " 'Cloud Engines': {'A', 'B', nan},\n",
       " 'Cloud.com': {'B'},\n",
       " 'Cloud4Wi': {'A'},\n",
       " 'Cloud9 IDE': {'A'},\n",
       " 'CloudAcademy': {nan},\n",
       " 'CloudByte': {'A', 'B'},\n",
       " 'CloudCannon': {nan},\n",
       " 'CloudCrowd': {'B'},\n",
       " 'CloudFlare': {'A', 'B', 'C'},\n",
       " 'CloudGenix': {'A'},\n",
       " 'CloudHelix': {nan},\n",
       " 'CloudMade': {'A', 'B', nan},\n",
       " 'CloudOn': {'A', 'B', nan},\n",
       " 'CloudPassage': {'A', 'B', 'C'},\n",
       " 'CloudPhysics': {'A', 'B', 'C'},\n",
       " 'CloudShare': {'B', nan},\n",
       " 'CloudShield Technologies': {nan},\n",
       " 'CloudVelocity': {'A', 'B'},\n",
       " 'CloudVolumes': {nan},\n",
       " 'Cloudera': {'A', 'B', 'C', 'D', 'E', 'F'},\n",
       " 'Cloudian': {'A', 'B', 'C'},\n",
       " 'Cloudike': {'A'},\n",
       " 'Cloudkick': {'A', nan},\n",
       " 'Cloudmach': {'B'},\n",
       " 'Cloudmark': {nan},\n",
       " 'Cloudmeter': {'A'},\n",
       " 'Cloudscaling': {'A', 'B'},\n",
       " 'Cloudwords': {'B'},\n",
       " 'Clover': {'A', nan},\n",
       " 'ClubJumpr.com': {nan},\n",
       " 'Cluster Labs': {nan},\n",
       " 'Clustrix': {'B', 'C', 'D', nan},\n",
       " 'Cnano Technology': {'A', nan},\n",
       " 'CoAdna Photonics': {'B'},\n",
       " 'CoMentis': {'C'},\n",
       " 'CoTweet': {'A'},\n",
       " 'CoWare': {'F'},\n",
       " 'Coapt Systems': {'E', nan},\n",
       " 'Cobalt Technologies': {'C', 'D', nan},\n",
       " 'Codasip': {'A'},\n",
       " 'Code Green Networks': {'B', 'C'},\n",
       " 'CodeCombat': {nan},\n",
       " 'Codeanywhere': {'A', nan},\n",
       " 'Codefast': {'A'},\n",
       " 'Codenomicon': {'A'},\n",
       " 'Codenvy': {'A'},\n",
       " 'CodersClan': {nan},\n",
       " 'Codexis': {'D'},\n",
       " 'Codie': {nan},\n",
       " 'Coffee Meets Bagel': {nan},\n",
       " 'Cogency Software': {nan},\n",
       " 'Cogentus Pharmaceuticals': {'C'},\n",
       " 'Cognitive Networks': {'B', nan},\n",
       " 'Coherus Biosciences': {'C', nan},\n",
       " 'Cohuman': {nan},\n",
       " 'Coin': {'A', 'B'},\n",
       " 'Coinalytics Co.': {nan},\n",
       " 'Coinbase': {'A', 'B', nan},\n",
       " 'Coinzone': {nan},\n",
       " 'Colabo': {nan},\n",
       " 'Colibrí': {nan},\n",
       " 'Colingo': {nan},\n",
       " 'CollabNet': {'B'},\n",
       " 'Collarity': {'B'},\n",
       " 'Color Labs Inc.': {'A', 'B'},\n",
       " 'Com2uS Corp.': {'A'},\n",
       " 'Commerce Sciences': {nan},\n",
       " 'CommitChange': {nan},\n",
       " 'Common Sense Media': {nan},\n",
       " 'Compact Particle Acceleration': {nan},\n",
       " 'CompanyLoop': {'A'},\n",
       " 'Compass Labs': {nan},\n",
       " 'Compass Quality Insight Inc.': {nan},\n",
       " 'Compiere': {'A'},\n",
       " 'Complete Genomics': {'A', 'D', 'E'},\n",
       " 'Complete Solar': {nan},\n",
       " 'Complex Polygon': {nan},\n",
       " 'Compose': {'A', nan},\n",
       " 'Composite Software': {'D'},\n",
       " 'Comprehend Systems': {'A', 'B', nan},\n",
       " 'ConSentry Networks': {'C', 'D', nan},\n",
       " 'ConXtech': {'B'},\n",
       " 'Concept.io': {'A', nan},\n",
       " 'Concilio Networks': {nan},\n",
       " 'Concurrent Inc': {'A', 'B', nan},\n",
       " 'Condition One': {nan},\n",
       " 'Conduit': {'B', nan},\n",
       " 'Conecta 2': {nan},\n",
       " 'Conference Hound': {nan},\n",
       " 'Confluent': {nan},\n",
       " 'Conformia Software': {'C', 'D', nan},\n",
       " 'Conformiq': {nan},\n",
       " 'Connect': {nan},\n",
       " 'ConnectAndSell': {'C'},\n",
       " 'Connectbeam': {'A'},\n",
       " 'Connected': {nan},\n",
       " 'Connected Data': {'A'},\n",
       " 'Consorte Media': {'B'},\n",
       " 'Constellation Research': {nan},\n",
       " 'Contacts+': {nan},\n",
       " 'Contactual': {'A'},\n",
       " 'ConteXtream': {'A', 'B', nan},\n",
       " 'ContentForest': {nan},\n",
       " 'Continuent': {'B'},\n",
       " 'Contrail Systems': {'A'},\n",
       " 'Convergent.io Technologies': {nan},\n",
       " 'Conviva': {'A', 'B', 'C', 'D', nan},\n",
       " 'Convo': {'A'},\n",
       " 'Convo Communications': {nan},\n",
       " 'Convoke Systems': {'B'},\n",
       " 'Convozine': {nan},\n",
       " 'Cool Earth Solar': {nan},\n",
       " 'Cool Lumens': {nan},\n",
       " 'CoolSystems': {nan},\n",
       " 'Cooliris': {'A', 'B', 'C'},\n",
       " 'Copilot Labs': {nan},\n",
       " 'Copious': {'A'},\n",
       " 'Coraid': {'A', 'B', 'C'},\n",
       " 'CoreOS': {'A'},\n",
       " 'Corefino': {'A'},\n",
       " 'Coremetrics': {'D', 'E'},\n",
       " 'Corepair': {'B', 'C'},\n",
       " 'Corium International': {'C'},\n",
       " 'Corona Labs': {'A', nan},\n",
       " 'Corsair': {nan},\n",
       " 'Corthera': {'C'},\n",
       " 'Cortina Systems': {'C', 'D'},\n",
       " 'Cotap': {'A', 'B'},\n",
       " 'Cotendo': {'B', 'C', 'D'},\n",
       " 'Cotera': {nan},\n",
       " 'Coterie, Inc.': {nan},\n",
       " 'CouchOne': {nan},\n",
       " 'Couchbase': {'B', 'C', 'D', 'E', nan},\n",
       " 'Couchsurfing': {'B', nan},\n",
       " 'Counsyl': {'B', 'D', nan},\n",
       " 'Coupa Software': {'A', 'B', 'C', 'D', 'E', 'F'},\n",
       " 'Couple': {nan},\n",
       " 'Coupons.com': {'C', 'D', 'E', nan},\n",
       " 'Course Hero': {'A', nan},\n",
       " 'Coursera': {'A', 'B', nan},\n",
       " 'Coursmos': {nan},\n",
       " 'CoverHound': {'A', nan},\n",
       " 'Coverity': {'A'},\n",
       " 'Coveroo': {'A', 'B'},\n",
       " 'Cradle Technologies': {'D'},\n",
       " 'Craigslist': {nan},\n",
       " 'Cranite Systems': {'C'},\n",
       " 'Creative Market': {nan},\n",
       " 'CreativeLive': {'A', 'B'},\n",
       " 'Credible': {nan},\n",
       " 'Credit Karma': {'A', 'B', 'C', 'D'},\n",
       " 'Credit Sesame': {'A', 'B', 'C'},\n",
       " 'Crescendo Bioscience': {'B', 'C', 'D'},\n",
       " 'Crescendo Networks': {'A', 'C', 'D'},\n",
       " 'CrestaTech': {'A', nan},\n",
       " 'Crittercism': {'A', 'B', 'C', nan},\n",
       " 'Crocus Technology': {'A', 'B', 'D'},\n",
       " ...}"
      ]
     },
     "execution_count": 169,
     "metadata": {},
     "output_type": "execute_result"
    }
   ],
   "source": [
    "funding_rounds_dict"
   ]
  },
  {
   "cell_type": "code",
   "execution_count": 182,
   "metadata": {},
   "outputs": [],
   "source": [
    "round_dict = {'A':1,'B':2,'C':3,'D':4,'E':5,'F':6,'G':7,'H':8}"
   ]
  },
  {
   "cell_type": "code",
   "execution_count": 190,
   "metadata": {},
   "outputs": [],
   "source": [
    "def enum_round(round_,dictionary):\n",
    "    if round_ in list(dictionary.keys()):\n",
    "        return dictionary[round_]\n",
    "    else:\n",
    "        return (0)\n",
    "        "
   ]
  },
  {
   "cell_type": "code",
   "execution_count": 192,
   "metadata": {},
   "outputs": [],
   "source": [
    "max_funding_dict = {}\n",
    "for company in funding_rounds_dict.keys():\n",
    "    max_funding_dict[company] = max([enum_round(round_, round_dict) for round_ in funding_rounds_dict[company]])"
   ]
  },
  {
   "cell_type": "code",
   "execution_count": 196,
   "metadata": {},
   "outputs": [],
   "source": [
    "data_cleaned['company_max_round'] = data_cleaned['company_name'].map(max_funding_dict)"
   ]
  },
  {
   "cell_type": "code",
   "execution_count": 23,
   "metadata": {},
   "outputs": [],
   "source": [
    "rounds_flatten =  [y for x in list(funding_rounds_dict.values()) for y in x]"
   ]
  },
  {
   "cell_type": "code",
   "execution_count": 24,
   "metadata": {},
   "outputs": [],
   "source": [
    "from collections import Counter\n",
    "rounds_sums_dict = Counter(rounds_flatten)"
   ]
  },
  {
   "cell_type": "markdown",
   "metadata": {},
   "source": [
    "## Number of startups who achieved funding per round"
   ]
  },
  {
   "cell_type": "code",
   "execution_count": 25,
   "metadata": {},
   "outputs": [
    {
     "data": {
      "application/vnd.plotly.v1+json": {
       "data": [
        {
         "type": "bar",
         "uid": "24bc7f64-d7c9-11e8-8b91-6a000073fc60",
         "x": [
          null,
          "A",
          "B",
          "E",
          "D",
          "C",
          "F",
          "G",
          "H"
         ],
         "y": [
          2864,
          1851,
          1301,
          174,
          445,
          800,
          63,
          11,
          1
         ]
        }
       ],
       "layout": {
        "font": {
         "size": 11
        },
        "title": "Amount of Companies with Funding Between 2004-2014"
       }
      },
      "text/html": [
       "<div id=\"39986cf8-8b67-4d8b-9de2-ce1a0f2306de\" style=\"height: 525px; width: 100%;\" class=\"plotly-graph-div\"></div><script type=\"text/javascript\">require([\"plotly\"], function(Plotly) { window.PLOTLYENV=window.PLOTLYENV || {};window.PLOTLYENV.BASE_URL=\"https://plot.ly\";Plotly.newPlot(\"39986cf8-8b67-4d8b-9de2-ce1a0f2306de\", [{\"x\": [null, \"A\", \"B\", \"E\", \"D\", \"C\", \"F\", \"G\", \"H\"], \"y\": [2864, 1851, 1301, 174, 445, 800, 63, 11, 1], \"type\": \"bar\", \"uid\": \"24c01ad4-d7c9-11e8-a2f0-6a000073fc60\"}], {\"font\": {\"size\": 11}, \"title\": \"Amount of Companies with Funding Between 2004-2014\"}, {\"showLink\": true, \"linkText\": \"Export to plot.ly\"})});</script>"
      ],
      "text/vnd.plotly.v1+html": [
       "<div id=\"39986cf8-8b67-4d8b-9de2-ce1a0f2306de\" style=\"height: 525px; width: 100%;\" class=\"plotly-graph-div\"></div><script type=\"text/javascript\">require([\"plotly\"], function(Plotly) { window.PLOTLYENV=window.PLOTLYENV || {};window.PLOTLYENV.BASE_URL=\"https://plot.ly\";Plotly.newPlot(\"39986cf8-8b67-4d8b-9de2-ce1a0f2306de\", [{\"x\": [null, \"A\", \"B\", \"E\", \"D\", \"C\", \"F\", \"G\", \"H\"], \"y\": [2864, 1851, 1301, 174, 445, 800, 63, 11, 1], \"type\": \"bar\", \"uid\": \"24c01ad4-d7c9-11e8-a2f0-6a000073fc60\"}], {\"font\": {\"size\": 11}, \"title\": \"Amount of Companies with Funding Between 2004-2014\"}, {\"showLink\": true, \"linkText\": \"Export to plot.ly\"})});</script>"
      ]
     },
     "metadata": {},
     "output_type": "display_data"
    }
   ],
   "source": [
    "avg_funding_per_round_bar = [go.Bar(\n",
    "            x=list(rounds_sums_dict.keys()),\n",
    "            y=list(rounds_sums_dict.values())\n",
    "    )]\n",
    "\n",
    "iplot({'data':avg_funding_per_round_bar, 'layout':{'title': 'Amount of Companies with Funding Between 2004-2014',\n",
    "                          'font': dict(size=11)}}, filename='basic-bar')"
   ]
  },
  {
   "cell_type": "markdown",
   "metadata": {},
   "source": [
    "## Companies With The Most Funding"
   ]
  },
  {
   "cell_type": "code",
   "execution_count": 26,
   "metadata": {},
   "outputs": [
    {
     "name": "stdout",
     "output_type": "stream",
     "text": [
      "['Verizon Communications', 'Sberbank', 'Clearwire', 'sigmacare', 'Facebook', 'Flipkart', 'Solyndra', 'Uber', 'Venari Resources', 'Fisker Automotive', 'O3b Networks', 'Youku', 'Cloudera', 'Cape Wind', 'Twitter', 'Groupon', 'Alibaba', 'Dropbox', 'Snapdeal', 'Wave Broadband']\n"
     ]
    }
   ],
   "source": [
    "most_funded_companies = nlargest(20, funding_dict, key=funding_dict.get)\n",
    "print(most_funded_companies) "
   ]
  },
  {
   "cell_type": "code",
   "execution_count": 27,
   "metadata": {},
   "outputs": [
    {
     "data": {
      "application/vnd.plotly.v1+json": {
       "data": [
        {
         "type": "bar",
         "uid": "24c69b1e-d7c9-11e8-81b3-6a000073fc60",
         "x": [
          "Verizon Communications",
          "Sberbank",
          "Clearwire",
          "sigmacare",
          "Facebook",
          "Flipkart",
          "Solyndra",
          "Uber",
          "Venari Resources",
          "Fisker Automotive",
          "O3b Networks",
          "Youku",
          "Cloudera",
          "Cape Wind",
          "Twitter",
          "Groupon",
          "Alibaba",
          "Dropbox",
          "Snapdeal",
          "Wave Broadband"
         ],
         "y": [
          30079.503,
          5800,
          5700,
          2600,
          2425.7,
          2351.14,
          1567.504319,
          1507.45,
          1498.51534,
          1451,
          1371.634404,
          1320,
          1201,
          1200,
          1160.166511,
          1137,
          1112,
          1107.215,
          1062.7,
          1050
         ]
        }
       ],
       "layout": {
        "font": {
         "size": 11
        },
        "title": "Start Ups With Funding Between 2004-2014 (Millions)"
       }
      },
      "text/html": [
       "<div id=\"a797cbac-e9ad-4a48-b27b-fadca5980798\" style=\"height: 525px; width: 100%;\" class=\"plotly-graph-div\"></div><script type=\"text/javascript\">require([\"plotly\"], function(Plotly) { window.PLOTLYENV=window.PLOTLYENV || {};window.PLOTLYENV.BASE_URL=\"https://plot.ly\";Plotly.newPlot(\"a797cbac-e9ad-4a48-b27b-fadca5980798\", [{\"x\": [\"Verizon Communications\", \"Sberbank\", \"Clearwire\", \"sigmacare\", \"Facebook\", \"Flipkart\", \"Solyndra\", \"Uber\", \"Venari Resources\", \"Fisker Automotive\", \"O3b Networks\", \"Youku\", \"Cloudera\", \"Cape Wind\", \"Twitter\", \"Groupon\", \"Alibaba\", \"Dropbox\", \"Snapdeal\", \"Wave Broadband\"], \"y\": [30079.503, 5800.0, 5700.0, 2600.0, 2425.7, 2351.14, 1567.504319, 1507.45, 1498.51534, 1451.0, 1371.634404, 1320.0, 1201.0, 1200.0, 1160.166511, 1137.0, 1112.0, 1107.215, 1062.7, 1050.0], \"type\": \"bar\", \"uid\": \"24ca3fdc-d7c9-11e8-a93e-6a000073fc60\"}], {\"font\": {\"size\": 11}, \"title\": \"Start Ups With Funding Between 2004-2014 (Millions)\"}, {\"showLink\": true, \"linkText\": \"Export to plot.ly\"})});</script>"
      ],
      "text/vnd.plotly.v1+html": [
       "<div id=\"a797cbac-e9ad-4a48-b27b-fadca5980798\" style=\"height: 525px; width: 100%;\" class=\"plotly-graph-div\"></div><script type=\"text/javascript\">require([\"plotly\"], function(Plotly) { window.PLOTLYENV=window.PLOTLYENV || {};window.PLOTLYENV.BASE_URL=\"https://plot.ly\";Plotly.newPlot(\"a797cbac-e9ad-4a48-b27b-fadca5980798\", [{\"x\": [\"Verizon Communications\", \"Sberbank\", \"Clearwire\", \"sigmacare\", \"Facebook\", \"Flipkart\", \"Solyndra\", \"Uber\", \"Venari Resources\", \"Fisker Automotive\", \"O3b Networks\", \"Youku\", \"Cloudera\", \"Cape Wind\", \"Twitter\", \"Groupon\", \"Alibaba\", \"Dropbox\", \"Snapdeal\", \"Wave Broadband\"], \"y\": [30079.503, 5800.0, 5700.0, 2600.0, 2425.7, 2351.14, 1567.504319, 1507.45, 1498.51534, 1451.0, 1371.634404, 1320.0, 1201.0, 1200.0, 1160.166511, 1137.0, 1112.0, 1107.215, 1062.7, 1050.0], \"type\": \"bar\", \"uid\": \"24ca3fdc-d7c9-11e8-a93e-6a000073fc60\"}], {\"font\": {\"size\": 11}, \"title\": \"Start Ups With Funding Between 2004-2014 (Millions)\"}, {\"showLink\": true, \"linkText\": \"Export to plot.ly\"})});</script>"
      ]
     },
     "metadata": {},
     "output_type": "display_data"
    }
   ],
   "source": [
    "company_funding_bar = [go.Bar(\n",
    "            x=list(most_funded_companies),\n",
    "            y=list([funding_dict[x] for x in most_funded_companies])\n",
    "    )]\n",
    "\n",
    "iplot({'data':company_funding_bar, 'layout':{'title': 'Start Ups With Funding Between 2004-2014 (Millions)',\n",
    "                          'font': dict(size=11)}}, filename='basic-bar')"
   ]
  },
  {
   "cell_type": "code",
   "execution_count": 28,
   "metadata": {},
   "outputs": [
    {
     "data": {
      "text/plain": [
       "Index(['company_name', 'total_funding', 'company_market', 'company_city'], dtype='object')"
      ]
     },
     "execution_count": 28,
     "metadata": {},
     "output_type": "execute_result"
    }
   ],
   "source": [
    "data_cleaned.columns"
   ]
  },
  {
   "cell_type": "code",
   "execution_count": 29,
   "metadata": {},
   "outputs": [],
   "source": [
    "df_base = df1[['company_name','company_market','company_city']]\n",
    "df_base.drop_duplicates();"
   ]
  },
  {
   "cell_type": "code",
   "execution_count": 30,
   "metadata": {
    "scrolled": true
   },
   "outputs": [],
   "source": [
    "df_base = df_base[df_base['company_city']=='San Francisco'];\n",
    "df_base.reset_index;"
   ]
  },
  {
   "cell_type": "markdown",
   "metadata": {},
   "source": [
    "## Bringing In Acquisition Data"
   ]
  },
  {
   "cell_type": "code",
   "execution_count": 99,
   "metadata": {},
   "outputs": [],
   "source": [
    "# Create a dataframe of all acquisitions\n",
    "df_acq = pd.read_csv('acquisitions_data.csv')\n",
    "\n",
    "# List of all companies that have been acquired\n",
    "acquired_list = list(df_acq['company_name'])"
   ]
  },
  {
   "cell_type": "code",
   "execution_count": 100,
   "metadata": {},
   "outputs": [],
   "source": [
    "# Function to check whether a company has been acquired or not.\n",
    "\n",
    "def acquired_check(i):\n",
    "    if i in acquired_list:\n",
    "        return 1\n",
    "    else: \n",
    "        return 0"
   ]
  },
  {
   "cell_type": "code",
   "execution_count": 101,
   "metadata": {},
   "outputs": [],
   "source": [
    "data_cleaned['isAcquired'] = data_cleaned['company_name'].map(acquired_check);\n"
   ]
  },
  {
   "cell_type": "code",
   "execution_count": 102,
   "metadata": {},
   "outputs": [],
   "source": [
    "data_cleaned.reset_index;"
   ]
  },
  {
   "cell_type": "code",
   "execution_count": 103,
   "metadata": {},
   "outputs": [
    {
     "name": "stdout",
     "output_type": "stream",
     "text": [
      "Index(['company_name', 'total_funding', 'company_market', 'company_city',\n",
      "       'isAquired', 'company_city_popular', 'company_market_popular',\n",
      "       'isAcquired'],\n",
      "      dtype='object')\n",
      "(1140, 8)\n"
     ]
    }
   ],
   "source": [
    "print(data_cleaned.columns)\n",
    "print(data_cleaned.shape)"
   ]
  },
  {
   "cell_type": "markdown",
   "metadata": {},
   "source": [
    "## Adding Total Funding Time Feature"
   ]
  },
  {
   "cell_type": "markdown",
   "metadata": {},
   "source": [
    "with open('sf_total_funding_time_dict.pickle', 'rb') as handle:\n",
    "    total_funding_time_dict = pickle.load(handle)"
   ]
  },
  {
   "cell_type": "markdown",
   "metadata": {},
   "source": [
    "list(total_funding_time_dict.keys())"
   ]
  },
  {
   "cell_type": "markdown",
   "metadata": {},
   "source": [
    "data_cleaned['total_funding_time'] = data_cleaned['company_name'].map(total_funding_time_dict)"
   ]
  },
  {
   "cell_type": "markdown",
   "metadata": {},
   "source": [
    "## Finding Most Popular Cities"
   ]
  },
  {
   "cell_type": "code",
   "execution_count": 83,
   "metadata": {
    "scrolled": true
   },
   "outputs": [
    {
     "data": {
      "text/plain": [
       "Index(['San Francisco', 'Palo Alto', 'Mountain View', 'Santa Clara',\n",
       "       'San Jose', 'San Mateo', 'Sunnyvale', 'Redwood City', 'Menlo Park',\n",
       "       'Fremont', 'Cupertino', 'Oakland', 'Milpitas', 'Berkeley', 'Emeryville',\n",
       "       'Foster City', 'South San Francisco', 'Campbell', 'Los Gatos',\n",
       "       'San Carlos', 'Hayward', 'Pleasanton', 'Newark', 'Burlingame',\n",
       "       'San Rafael', 'Belmont', 'Los Altos', 'Brisbane', 'San Ramon',\n",
       "       'Alameda', 'Redwood Shores', 'San Leandro', 'Millbrae', 'Corte Madera',\n",
       "       'Novato', 'Santa Cruz', 'Richmond', 'San Bruno', 'Larkspur', 'Benicia',\n",
       "       'Los Altos Hills', 'Livermore', 'Portola Valley', 'Sausalito',\n",
       "       'Stanford', 'Mill Valley', 'Scotts Valley'],\n",
       "      dtype='object')"
      ]
     },
     "execution_count": 83,
     "metadata": {},
     "output_type": "execute_result"
    }
   ],
   "source": [
    "popular_cities= data_cleaned['company_city'].value_counts()\n",
    "popular_cities.keys()"
   ]
  },
  {
   "cell_type": "code",
   "execution_count": 87,
   "metadata": {},
   "outputs": [
    {
     "data": {
      "application/vnd.plotly.v1+json": {
       "data": [
        {
         "type": "bar",
         "uid": "503789ee-d7ca-11e8-ad44-6a000073fc60",
         "x": [
          "San Francisco",
          "Palo Alto",
          "Mountain View",
          "Santa Clara",
          "San Jose",
          "San Mateo",
          "Sunnyvale",
          "Redwood City",
          "Menlo Park",
          "Fremont"
         ],
         "y": [
          428,
          89,
          82,
          74,
          60,
          60,
          58,
          55,
          38,
          15
         ]
        }
       ],
       "layout": {
        "font": {
         "size": 11
        },
        "title": "Most Popular Markets in SF"
       }
      },
      "text/html": [
       "<div id=\"91d9d564-8edf-43ca-a05e-3b96519f83c8\" style=\"height: 525px; width: 100%;\" class=\"plotly-graph-div\"></div><script type=\"text/javascript\">require([\"plotly\"], function(Plotly) { window.PLOTLYENV=window.PLOTLYENV || {};window.PLOTLYENV.BASE_URL=\"https://plot.ly\";Plotly.newPlot(\"91d9d564-8edf-43ca-a05e-3b96519f83c8\", [{\"x\": [\"San Francisco\", \"Palo Alto\", \"Mountain View\", \"Santa Clara\", \"San Jose\", \"San Mateo\", \"Sunnyvale\", \"Redwood City\", \"Menlo Park\", \"Fremont\"], \"y\": [428, 89, 82, 74, 60, 60, 58, 55, 38, 15], \"type\": \"bar\", \"uid\": \"503a9670-d7ca-11e8-b9e1-6a000073fc60\"}], {\"font\": {\"size\": 11}, \"title\": \"Most Popular Markets in SF\"}, {\"showLink\": true, \"linkText\": \"Export to plot.ly\"})});</script>"
      ],
      "text/vnd.plotly.v1+html": [
       "<div id=\"91d9d564-8edf-43ca-a05e-3b96519f83c8\" style=\"height: 525px; width: 100%;\" class=\"plotly-graph-div\"></div><script type=\"text/javascript\">require([\"plotly\"], function(Plotly) { window.PLOTLYENV=window.PLOTLYENV || {};window.PLOTLYENV.BASE_URL=\"https://plot.ly\";Plotly.newPlot(\"91d9d564-8edf-43ca-a05e-3b96519f83c8\", [{\"x\": [\"San Francisco\", \"Palo Alto\", \"Mountain View\", \"Santa Clara\", \"San Jose\", \"San Mateo\", \"Sunnyvale\", \"Redwood City\", \"Menlo Park\", \"Fremont\"], \"y\": [428, 89, 82, 74, 60, 60, 58, 55, 38, 15], \"type\": \"bar\", \"uid\": \"503a9670-d7ca-11e8-b9e1-6a000073fc60\"}], {\"font\": {\"size\": 11}, \"title\": \"Most Popular Markets in SF\"}, {\"showLink\": true, \"linkText\": \"Export to plot.ly\"})});</script>"
      ]
     },
     "metadata": {},
     "output_type": "display_data"
    }
   ],
   "source": [
    "popular_cities_bar = [go.Bar(\n",
    "            x=popular_cities.keys()[:10],\n",
    "            y=[popular_cities[key] for key in popular_cities.keys()[:10]]\n",
    "    )]\n",
    "\n",
    "iplot({'data':popular_cities_bar, 'layout':{'title': 'Most Popular Markets in SF',\n",
    "                          'font': dict(size=11)}}, filename='basic-bar')"
   ]
  },
  {
   "cell_type": "code",
   "execution_count": 128,
   "metadata": {
    "collapsed": true
   },
   "outputs": [
    {
     "name": "stdout",
     "output_type": "stream",
     "text": [
      "{'Alameda': Counter({1: 2, 0: 1}), 'Belmont': Counter({0: 2, 1: 1}), 'Benicia': Counter({1: 1}), 'Berkeley': Counter({0: 9, 1: 3}), 'Brisbane': Counter({1: 2, 0: 1}), 'Burlingame': Counter({0: 5}), 'Campbell': Counter({1: 6, 0: 3}), 'Corte Madera': Counter({1: 1, 0: 1}), 'Cupertino': Counter({0: 8, 1: 6}), 'Emeryville': Counter({1: 6, 0: 5}), 'Foster City': Counter({0: 8, 1: 2}), 'Fremont': Counter({1: 8, 0: 7}), 'Hayward': Counter({0: 4, 1: 4}), 'Larkspur': Counter({0: 2}), 'Livermore': Counter({0: 1}), 'Los Altos': Counter({0: 2, 1: 1}), 'Los Altos Hills': Counter({0: 1}), 'Los Gatos': Counter({1: 4, 0: 4}), 'Menlo Park': Counter({0: 24, 1: 14}), 'Mill Valley': Counter({0: 1}), 'Millbrae': Counter({0: 2}), 'Milpitas': Counter({0: 10, 1: 3}), 'Mountain View': Counter({0: 59, 1: 23}), 'Newark': Counter({1: 4, 0: 2}), 'Novato': Counter({0: 2}), 'Oakland': Counter({1: 7, 0: 6}), 'Palo Alto': Counter({0: 58, 1: 31}), 'Pleasanton': Counter({0: 6, 1: 1}), 'Portola Valley': Counter({0: 1}), 'Redwood City': Counter({0: 33, 1: 22}), 'Redwood Shores': Counter({0: 2, 1: 1}), 'Richmond': Counter({1: 1, 0: 1}), 'San Bruno': Counter({1: 1, 0: 1}), 'San Carlos': Counter({1: 4, 0: 4}), 'San Francisco': Counter({0: 267, 1: 161}), 'San Jose': Counter({0: 44, 1: 16}), 'San Leandro': Counter({0: 3}), 'San Mateo': Counter({0: 44, 1: 16}), 'San Rafael': Counter({0: 3, 1: 2}), 'San Ramon': Counter({0: 3}), 'Santa Clara': Counter({0: 39, 1: 35}), 'Santa Cruz': Counter({0: 2}), 'Sausalito': Counter({0: 1}), 'Scotts Valley': Counter({0: 1}), 'South San Francisco': Counter({0: 6, 1: 3}), 'Stanford': Counter({0: 1}), 'Sunnyvale': Counter({0: 44, 1: 14})}\n"
     ]
    }
   ],
   "source": [
    "from collections import Counter\n",
    "grouped_city = data_cleaned.groupby(['company_city'])['isAcquired']\n",
    "\n",
    "city_popular_dict = {}\n",
    "\n",
    "for key, item in grouped_city:\n",
    "    city_popular_dict[key] = Counter(grouped_city.get_group(key))\n",
    "    \n",
    "acquired_pop_cities = [city_popular_dict[key][0] for key in popular_cities.keys()]\n",
    "not_acquired_pop_cities = [city_popular_dict[key][1] for key in popular_cities.keys()]"
   ]
  },
  {
   "cell_type": "code",
   "execution_count": 155,
   "metadata": {},
   "outputs": [
    {
     "data": {
      "application/vnd.plotly.v1+json": {
       "data": [
        {
         "name": "Acquired",
         "type": "bar",
         "uid": "9eb497ee-d7cd-11e8-bedb-6a000073fc60",
         "x": [
          "San Francisco",
          "Palo Alto",
          "Mountain View",
          "Santa Clara",
          "San Jose",
          "San Mateo",
          "Sunnyvale",
          "Redwood City",
          "Menlo Park",
          "Fremont"
         ],
         "y": [
          267,
          58,
          59,
          39,
          44,
          44,
          44,
          33,
          24,
          7
         ]
        },
        {
         "name": "Not Acquired",
         "type": "bar",
         "uid": "9eb49968-d7cd-11e8-b0f6-6a000073fc60",
         "x": [
          "San Francisco",
          "Palo Alto",
          "Mountain View",
          "Santa Clara",
          "San Jose",
          "San Mateo",
          "Sunnyvale",
          "Redwood City",
          "Menlo Park",
          "Fremont"
         ],
         "y": [
          161,
          31,
          23,
          35,
          16,
          16,
          14,
          22,
          14,
          8
         ]
        }
       ],
       "layout": {
        "barmode": "stack",
        "title": "Most Popular Bay Area Cities For Startups "
       }
      },
      "text/html": [
       "<div id=\"1afca477-9550-47a9-9efb-54f0dcb62740\" style=\"height: 525px; width: 100%;\" class=\"plotly-graph-div\"></div><script type=\"text/javascript\">require([\"plotly\"], function(Plotly) { window.PLOTLYENV=window.PLOTLYENV || {};window.PLOTLYENV.BASE_URL=\"https://plot.ly\";Plotly.newPlot(\"1afca477-9550-47a9-9efb-54f0dcb62740\", [{\"name\": \"Acquired\", \"x\": [\"San Francisco\", \"Palo Alto\", \"Mountain View\", \"Santa Clara\", \"San Jose\", \"San Mateo\", \"Sunnyvale\", \"Redwood City\", \"Menlo Park\", \"Fremont\"], \"y\": [267, 58, 59, 39, 44, 44, 44, 33, 24, 7], \"type\": \"bar\", \"uid\": \"9eb497ee-d7cd-11e8-bedb-6a000073fc60\"}, {\"name\": \"Not Acquired\", \"x\": [\"San Francisco\", \"Palo Alto\", \"Mountain View\", \"Santa Clara\", \"San Jose\", \"San Mateo\", \"Sunnyvale\", \"Redwood City\", \"Menlo Park\", \"Fremont\"], \"y\": [161, 31, 23, 35, 16, 16, 14, 22, 14, 8], \"type\": \"bar\", \"uid\": \"9eb49968-d7cd-11e8-b0f6-6a000073fc60\"}], {\"barmode\": \"stack\", \"title\": \"Most Popular Bay Area Cities For Startups \"}, {\"showLink\": true, \"linkText\": \"Export to plot.ly\"})});</script>"
      ],
      "text/vnd.plotly.v1+html": [
       "<div id=\"1afca477-9550-47a9-9efb-54f0dcb62740\" style=\"height: 525px; width: 100%;\" class=\"plotly-graph-div\"></div><script type=\"text/javascript\">require([\"plotly\"], function(Plotly) { window.PLOTLYENV=window.PLOTLYENV || {};window.PLOTLYENV.BASE_URL=\"https://plot.ly\";Plotly.newPlot(\"1afca477-9550-47a9-9efb-54f0dcb62740\", [{\"name\": \"Acquired\", \"x\": [\"San Francisco\", \"Palo Alto\", \"Mountain View\", \"Santa Clara\", \"San Jose\", \"San Mateo\", \"Sunnyvale\", \"Redwood City\", \"Menlo Park\", \"Fremont\"], \"y\": [267, 58, 59, 39, 44, 44, 44, 33, 24, 7], \"type\": \"bar\", \"uid\": \"9eb497ee-d7cd-11e8-bedb-6a000073fc60\"}, {\"name\": \"Not Acquired\", \"x\": [\"San Francisco\", \"Palo Alto\", \"Mountain View\", \"Santa Clara\", \"San Jose\", \"San Mateo\", \"Sunnyvale\", \"Redwood City\", \"Menlo Park\", \"Fremont\"], \"y\": [161, 31, 23, 35, 16, 16, 14, 22, 14, 8], \"type\": \"bar\", \"uid\": \"9eb49968-d7cd-11e8-b0f6-6a000073fc60\"}], {\"barmode\": \"stack\", \"title\": \"Most Popular Bay Area Cities For Startups \"}, {\"showLink\": true, \"linkText\": \"Export to plot.ly\"})});</script>"
      ]
     },
     "metadata": {},
     "output_type": "display_data"
    }
   ],
   "source": [
    "trace1 = go.Bar(\n",
    "    x=popular_cities.keys()[:10],\n",
    "    y=acquired_pop_cities[:10],\n",
    "    name='Acquired'\n",
    ")\n",
    "trace2 = go.Bar(\n",
    "    x=popular_cities.keys()[:10],\n",
    "    y=not_acquired_pop_cities[:10],\n",
    "    name='Not Acquired'\n",
    ")\n",
    "    \n",
    "data = [trace1, trace2]\n",
    "layout = go.Layout(\n",
    "    title ='Most Popular Bay Area Cities For Startups ',\n",
    "    barmode='stack'\n",
    ")\n",
    "\n",
    "fig = go.Figure(data=data, layout=layout)\n",
    "iplot(fig, filename='stacked-bar')"
   ]
  },
  {
   "cell_type": "code",
   "execution_count": 88,
   "metadata": {},
   "outputs": [],
   "source": [
    "def otherizer_city(string):\n",
    "\n",
    "    if string not in popular_cities.keys()[:9]:\n",
    "        return 'Other_city'\n",
    "    else:\n",
    "        return string"
   ]
  },
  {
   "cell_type": "code",
   "execution_count": 89,
   "metadata": {},
   "outputs": [],
   "source": [
    "data_cleaned['company_city_popular'] = data_cleaned['company_city'].map(otherizer_city)"
   ]
  },
  {
   "cell_type": "code",
   "execution_count": 90,
   "metadata": {
    "scrolled": false
   },
   "outputs": [
    {
     "data": {
      "text/plain": [
       "count              1140\n",
       "unique               10\n",
       "top       San Francisco\n",
       "freq                428\n",
       "Name: company_city_popular, dtype: object"
      ]
     },
     "execution_count": 90,
     "metadata": {},
     "output_type": "execute_result"
    }
   ],
   "source": [
    "data_cleaned['company_city_popular'].describe()"
   ]
  },
  {
   "cell_type": "code",
   "execution_count": 197,
   "metadata": {},
   "outputs": [
    {
     "data": {
      "text/html": [
       "<div>\n",
       "<style scoped>\n",
       "    .dataframe tbody tr th:only-of-type {\n",
       "        vertical-align: middle;\n",
       "    }\n",
       "\n",
       "    .dataframe tbody tr th {\n",
       "        vertical-align: top;\n",
       "    }\n",
       "\n",
       "    .dataframe thead th {\n",
       "        text-align: right;\n",
       "    }\n",
       "</style>\n",
       "<table border=\"1\" class=\"dataframe\">\n",
       "  <thead>\n",
       "    <tr style=\"text-align: right;\">\n",
       "      <th></th>\n",
       "      <th>company_name</th>\n",
       "      <th>total_funding</th>\n",
       "      <th>company_market</th>\n",
       "      <th>company_city</th>\n",
       "      <th>isAquired</th>\n",
       "      <th>company_city_popular</th>\n",
       "      <th>company_market_popular</th>\n",
       "      <th>isAcquired</th>\n",
       "      <th>company_max_round</th>\n",
       "    </tr>\n",
       "  </thead>\n",
       "  <tbody>\n",
       "    <tr>\n",
       "      <th>0</th>\n",
       "      <td>VirtualLogix</td>\n",
       "      <td>29.288979</td>\n",
       "      <td>Software</td>\n",
       "      <td>Sunnyvale</td>\n",
       "      <td>1</td>\n",
       "      <td>Sunnyvale</td>\n",
       "      <td>Software</td>\n",
       "      <td>1</td>\n",
       "      <td>2</td>\n",
       "    </tr>\n",
       "    <tr>\n",
       "      <th>1</th>\n",
       "      <td>Deem</td>\n",
       "      <td>56.300000</td>\n",
       "      <td>Broadcasting</td>\n",
       "      <td>Oakland</td>\n",
       "      <td>0</td>\n",
       "      <td>Other_city</td>\n",
       "      <td>Other_market</td>\n",
       "      <td>0</td>\n",
       "      <td>8</td>\n",
       "    </tr>\n",
       "    <tr>\n",
       "      <th>2</th>\n",
       "      <td>Pandora Media</td>\n",
       "      <td>32.000000</td>\n",
       "      <td>Hotels</td>\n",
       "      <td>Santa Clara</td>\n",
       "      <td>0</td>\n",
       "      <td>Santa Clara</td>\n",
       "      <td>Other_market</td>\n",
       "      <td>0</td>\n",
       "      <td>4</td>\n",
       "    </tr>\n",
       "    <tr>\n",
       "      <th>3</th>\n",
       "      <td>PlayFirst</td>\n",
       "      <td>5.800000</td>\n",
       "      <td>Music</td>\n",
       "      <td>San Francisco</td>\n",
       "      <td>1</td>\n",
       "      <td>San Francisco</td>\n",
       "      <td>Music</td>\n",
       "      <td>1</td>\n",
       "      <td>3</td>\n",
       "    </tr>\n",
       "    <tr>\n",
       "      <th>4</th>\n",
       "      <td>Socialtext</td>\n",
       "      <td>3.000000</td>\n",
       "      <td>iPhone</td>\n",
       "      <td>Mountain View</td>\n",
       "      <td>1</td>\n",
       "      <td>Mountain View</td>\n",
       "      <td>Other_market</td>\n",
       "      <td>1</td>\n",
       "      <td>4</td>\n",
       "    </tr>\n",
       "    <tr>\n",
       "      <th>5</th>\n",
       "      <td>SideStep</td>\n",
       "      <td>33.400000</td>\n",
       "      <td>Music</td>\n",
       "      <td>Emeryville</td>\n",
       "      <td>1</td>\n",
       "      <td>Other_city</td>\n",
       "      <td>Music</td>\n",
       "      <td>1</td>\n",
       "      <td>3</td>\n",
       "    </tr>\n",
       "    <tr>\n",
       "      <th>6</th>\n",
       "      <td>Soundflavor</td>\n",
       "      <td>28.300000</td>\n",
       "      <td>Curated Web</td>\n",
       "      <td>Sunnyvale</td>\n",
       "      <td>0</td>\n",
       "      <td>Sunnyvale</td>\n",
       "      <td>Curated Web</td>\n",
       "      <td>0</td>\n",
       "      <td>1</td>\n",
       "    </tr>\n",
       "    <tr>\n",
       "      <th>7</th>\n",
       "      <td>Executive Caddie</td>\n",
       "      <td>823.000000</td>\n",
       "      <td>Automotive</td>\n",
       "      <td>Palo Alto</td>\n",
       "      <td>0</td>\n",
       "      <td>Palo Alto</td>\n",
       "      <td>Other_market</td>\n",
       "      <td>0</td>\n",
       "      <td>0</td>\n",
       "    </tr>\n",
       "    <tr>\n",
       "      <th>8</th>\n",
       "      <td>VisualOn</td>\n",
       "      <td>80.540000</td>\n",
       "      <td>Health Care</td>\n",
       "      <td>Mountain View</td>\n",
       "      <td>0</td>\n",
       "      <td>Mountain View</td>\n",
       "      <td>Health Care</td>\n",
       "      <td>0</td>\n",
       "      <td>2</td>\n",
       "    </tr>\n",
       "    <tr>\n",
       "      <th>9</th>\n",
       "      <td>Innovative Silicon</td>\n",
       "      <td>62.000000</td>\n",
       "      <td>Health Care</td>\n",
       "      <td>Campbell</td>\n",
       "      <td>0</td>\n",
       "      <td>Other_city</td>\n",
       "      <td>Health Care</td>\n",
       "      <td>0</td>\n",
       "      <td>3</td>\n",
       "    </tr>\n",
       "  </tbody>\n",
       "</table>\n",
       "</div>"
      ],
      "text/plain": [
       "         company_name  total_funding company_market   company_city  isAquired  \\\n",
       "0        VirtualLogix      29.288979       Software      Sunnyvale          1   \n",
       "1                Deem      56.300000   Broadcasting        Oakland          0   \n",
       "2       Pandora Media      32.000000         Hotels    Santa Clara          0   \n",
       "3           PlayFirst       5.800000          Music  San Francisco          1   \n",
       "4          Socialtext       3.000000         iPhone  Mountain View          1   \n",
       "5            SideStep      33.400000          Music     Emeryville          1   \n",
       "6         Soundflavor      28.300000    Curated Web      Sunnyvale          0   \n",
       "7    Executive Caddie     823.000000     Automotive      Palo Alto          0   \n",
       "8            VisualOn      80.540000    Health Care  Mountain View          0   \n",
       "9  Innovative Silicon      62.000000    Health Care       Campbell          0   \n",
       "\n",
       "  company_city_popular company_market_popular  isAcquired  company_max_round  \n",
       "0            Sunnyvale               Software           1                  2  \n",
       "1           Other_city           Other_market           0                  8  \n",
       "2          Santa Clara           Other_market           0                  4  \n",
       "3        San Francisco                  Music           1                  3  \n",
       "4        Mountain View           Other_market           1                  4  \n",
       "5           Other_city                  Music           1                  3  \n",
       "6            Sunnyvale            Curated Web           0                  1  \n",
       "7            Palo Alto           Other_market           0                  0  \n",
       "8        Mountain View            Health Care           0                  2  \n",
       "9           Other_city            Health Care           0                  3  "
      ]
     },
     "execution_count": 197,
     "metadata": {},
     "output_type": "execute_result"
    }
   ],
   "source": [
    "data_cleaned.head(10)"
   ]
  },
  {
   "cell_type": "markdown",
   "metadata": {},
   "source": [
    "## Finding Most Popular Market"
   ]
  },
  {
   "cell_type": "code",
   "execution_count": 162,
   "metadata": {},
   "outputs": [
    {
     "data": {
      "text/plain": [
       "Index(['Software', 'Biotechnology', 'Mobile', 'Curated Web',\n",
       "       'Enterprise Software', 'Advertising', 'Health Care', 'Semiconductors',\n",
       "       'Clean Technology', 'Games',\n",
       "       ...\n",
       "       'Environmental Innovation', 'Doctors', 'Virtual Workforces',\n",
       "       'Communities', 'Mass Customization', 'Risk Management', 'Auctions',\n",
       "       'Tablets', 'Diagnostics', 'Shipping'],\n",
       "      dtype='object', length=246)"
      ]
     },
     "execution_count": 162,
     "metadata": {},
     "output_type": "execute_result"
    }
   ],
   "source": [
    "popular_markets= data_cleaned['company_market'].value_counts()\n",
    "popular_markets.keys()"
   ]
  },
  {
   "cell_type": "code",
   "execution_count": 165,
   "metadata": {},
   "outputs": [],
   "source": [
    "from collections import Counter\n",
    "popular_markets_acq = data_cleaned.groupby(['company_market'])['isAcquired']\n",
    "\n",
    "popular_markets_acq_dict = {}\n",
    "\n",
    "for key, item in popular_markets_acq:\n",
    "    popular_markets_acq_dict[key] = Counter(popular_markets_acq.get_group(key))\n",
    "    \n",
    "acquired_markets = [popular_markets_acq_dict[key][0] for key in popular_markets.keys()[:30]]\n",
    "not_acquired_markets = [popular_markets_acq_dict[key][1] for key in popular_markets.keys()[:30]]"
   ]
  },
  {
   "cell_type": "code",
   "execution_count": 167,
   "metadata": {},
   "outputs": [
    {
     "data": {
      "application/vnd.plotly.v1+json": {
       "data": [
        {
         "name": "Acquired",
         "type": "bar",
         "uid": "e59d9ec6-d7d2-11e8-99ea-6a000073fc60",
         "x": [
          "Software",
          "Biotechnology",
          "Mobile",
          "Curated Web",
          "Enterprise Software",
          "Advertising",
          "Health Care",
          "Semiconductors",
          "Clean Technology",
          "Games"
         ],
         "y": [
          63,
          36,
          34,
          43,
          32,
          24,
          25,
          22,
          12,
          18
         ]
        },
        {
         "name": "Not Acquired",
         "type": "bar",
         "uid": "e59da04c-d7d2-11e8-8e39-6a000073fc60",
         "x": [
          "Software",
          "Biotechnology",
          "Mobile",
          "Curated Web",
          "Enterprise Software",
          "Advertising",
          "Health Care",
          "Semiconductors",
          "Clean Technology",
          "Games"
         ],
         "y": [
          41,
          26,
          27,
          18,
          23,
          13,
          11,
          13,
          15,
          8
         ]
        }
       ],
       "layout": {
        "barmode": "stack",
        "title": "Most Popular Markets in SF"
       }
      },
      "text/html": [
       "<div id=\"4d8360bc-16dc-40ad-87f8-0b1aaefe67eb\" style=\"height: 525px; width: 100%;\" class=\"plotly-graph-div\"></div><script type=\"text/javascript\">require([\"plotly\"], function(Plotly) { window.PLOTLYENV=window.PLOTLYENV || {};window.PLOTLYENV.BASE_URL=\"https://plot.ly\";Plotly.newPlot(\"4d8360bc-16dc-40ad-87f8-0b1aaefe67eb\", [{\"name\": \"Acquired\", \"x\": [\"Software\", \"Biotechnology\", \"Mobile\", \"Curated Web\", \"Enterprise Software\", \"Advertising\", \"Health Care\", \"Semiconductors\", \"Clean Technology\", \"Games\"], \"y\": [63, 36, 34, 43, 32, 24, 25, 22, 12, 18], \"type\": \"bar\", \"uid\": \"e59d9ec6-d7d2-11e8-99ea-6a000073fc60\"}, {\"name\": \"Not Acquired\", \"x\": [\"Software\", \"Biotechnology\", \"Mobile\", \"Curated Web\", \"Enterprise Software\", \"Advertising\", \"Health Care\", \"Semiconductors\", \"Clean Technology\", \"Games\"], \"y\": [41, 26, 27, 18, 23, 13, 11, 13, 15, 8], \"type\": \"bar\", \"uid\": \"e59da04c-d7d2-11e8-8e39-6a000073fc60\"}], {\"barmode\": \"stack\", \"title\": \"Most Popular Markets in SF\"}, {\"showLink\": true, \"linkText\": \"Export to plot.ly\"})});</script>"
      ],
      "text/vnd.plotly.v1+html": [
       "<div id=\"4d8360bc-16dc-40ad-87f8-0b1aaefe67eb\" style=\"height: 525px; width: 100%;\" class=\"plotly-graph-div\"></div><script type=\"text/javascript\">require([\"plotly\"], function(Plotly) { window.PLOTLYENV=window.PLOTLYENV || {};window.PLOTLYENV.BASE_URL=\"https://plot.ly\";Plotly.newPlot(\"4d8360bc-16dc-40ad-87f8-0b1aaefe67eb\", [{\"name\": \"Acquired\", \"x\": [\"Software\", \"Biotechnology\", \"Mobile\", \"Curated Web\", \"Enterprise Software\", \"Advertising\", \"Health Care\", \"Semiconductors\", \"Clean Technology\", \"Games\"], \"y\": [63, 36, 34, 43, 32, 24, 25, 22, 12, 18], \"type\": \"bar\", \"uid\": \"e59d9ec6-d7d2-11e8-99ea-6a000073fc60\"}, {\"name\": \"Not Acquired\", \"x\": [\"Software\", \"Biotechnology\", \"Mobile\", \"Curated Web\", \"Enterprise Software\", \"Advertising\", \"Health Care\", \"Semiconductors\", \"Clean Technology\", \"Games\"], \"y\": [41, 26, 27, 18, 23, 13, 11, 13, 15, 8], \"type\": \"bar\", \"uid\": \"e59da04c-d7d2-11e8-8e39-6a000073fc60\"}], {\"barmode\": \"stack\", \"title\": \"Most Popular Markets in SF\"}, {\"showLink\": true, \"linkText\": \"Export to plot.ly\"})});</script>"
      ]
     },
     "metadata": {},
     "output_type": "display_data"
    }
   ],
   "source": [
    "trace1 = go.Bar(\n",
    "    x=popular_markets.keys()[:10],\n",
    "    y=acquired_markets[:10],\n",
    "    name='Acquired'\n",
    ")\n",
    "trace2 = go.Bar(\n",
    "    x=popular_markets.keys()[:10],\n",
    "    y=not_acquired_markets[:10],\n",
    "    name='Not Acquired'\n",
    ")\n",
    "    \n",
    "data = [trace1, trace2]\n",
    "layout = go.Layout(\n",
    "    title ='Most Popular Markets in SF',\n",
    "    barmode='stack'\n",
    ")\n",
    "\n",
    "fig = go.Figure(data=data, layout=layout)\n",
    "iplot(fig, filename='stacked-bar')"
   ]
  },
  {
   "cell_type": "code",
   "execution_count": 94,
   "metadata": {},
   "outputs": [],
   "source": [
    "def otherizer_markets(string):\n",
    "\n",
    "    if string not in popular_markets.keys()[:30]:\n",
    "        return 'Other_market'\n",
    "    else:\n",
    "        return string"
   ]
  },
  {
   "cell_type": "code",
   "execution_count": 95,
   "metadata": {},
   "outputs": [],
   "source": [
    "data_cleaned['company_market_popular'] = data_cleaned['company_market'].map(otherizer_markets)"
   ]
  },
  {
   "cell_type": "code",
   "execution_count": 96,
   "metadata": {},
   "outputs": [
    {
     "data": {
      "text/plain": [
       "count             1140\n",
       "unique              31\n",
       "top       Other_market\n",
       "freq               361\n",
       "Name: company_market_popular, dtype: object"
      ]
     },
     "execution_count": 96,
     "metadata": {},
     "output_type": "execute_result"
    }
   ],
   "source": [
    "data_cleaned['company_market_popular'].describe()"
   ]
  },
  {
   "cell_type": "code",
   "execution_count": 45,
   "metadata": {},
   "outputs": [
    {
     "data": {
      "application/vnd.plotly.v1+json": {
       "data": [
        {
         "type": "bar",
         "uid": "250f2368-d7c9-11e8-bca2-6a000073fc60",
         "x": [
          "Software",
          "Biotechnology",
          "Mobile",
          "Curated Web",
          "Enterprise Software",
          "Advertising",
          "Health Care",
          "Semiconductors",
          "Clean Technology",
          "Games",
          "Health and Wellness",
          "Security",
          "E-Commerce",
          "Hardware + Software",
          "Analytics",
          "Web Hosting",
          "Social Media",
          "Education",
          "Finance",
          "Music",
          "Big Data",
          "Technology",
          "News",
          "SaaS",
          "Cloud Computing",
          "Video",
          "Photography",
          "Internet of Things",
          "Search",
          "Real Estate"
         ],
         "y": [
          104,
          62,
          61,
          61,
          55,
          37,
          36,
          35,
          27,
          26,
          26,
          26,
          24,
          23,
          22,
          19,
          17,
          17,
          13,
          11,
          10,
          10,
          9,
          8,
          8,
          7,
          7,
          6,
          6,
          6
         ]
        }
       ],
       "layout": {
        "font": {
         "size": 11
        },
        "title": "Most Popular Markets in SF"
       }
      },
      "text/html": [
       "<div id=\"37aa2edf-5128-4f45-82bc-5ace670c8f09\" style=\"height: 525px; width: 100%;\" class=\"plotly-graph-div\"></div><script type=\"text/javascript\">require([\"plotly\"], function(Plotly) { window.PLOTLYENV=window.PLOTLYENV || {};window.PLOTLYENV.BASE_URL=\"https://plot.ly\";Plotly.newPlot(\"37aa2edf-5128-4f45-82bc-5ace670c8f09\", [{\"x\": [\"Software\", \"Biotechnology\", \"Mobile\", \"Curated Web\", \"Enterprise Software\", \"Advertising\", \"Health Care\", \"Semiconductors\", \"Clean Technology\", \"Games\", \"Health and Wellness\", \"Security\", \"E-Commerce\", \"Hardware + Software\", \"Analytics\", \"Web Hosting\", \"Social Media\", \"Education\", \"Finance\", \"Music\", \"Big Data\", \"Technology\", \"News\", \"SaaS\", \"Cloud Computing\", \"Video\", \"Photography\", \"Internet of Things\", \"Search\", \"Real Estate\"], \"y\": [104, 62, 61, 61, 55, 37, 36, 35, 27, 26, 26, 26, 24, 23, 22, 19, 17, 17, 13, 11, 10, 10, 9, 8, 8, 7, 7, 6, 6, 6], \"type\": \"bar\", \"uid\": \"251347d8-d7c9-11e8-aad0-6a000073fc60\"}], {\"font\": {\"size\": 11}, \"title\": \"Most Popular Markets in SF\"}, {\"showLink\": true, \"linkText\": \"Export to plot.ly\"})});</script>"
      ],
      "text/vnd.plotly.v1+html": [
       "<div id=\"37aa2edf-5128-4f45-82bc-5ace670c8f09\" style=\"height: 525px; width: 100%;\" class=\"plotly-graph-div\"></div><script type=\"text/javascript\">require([\"plotly\"], function(Plotly) { window.PLOTLYENV=window.PLOTLYENV || {};window.PLOTLYENV.BASE_URL=\"https://plot.ly\";Plotly.newPlot(\"37aa2edf-5128-4f45-82bc-5ace670c8f09\", [{\"x\": [\"Software\", \"Biotechnology\", \"Mobile\", \"Curated Web\", \"Enterprise Software\", \"Advertising\", \"Health Care\", \"Semiconductors\", \"Clean Technology\", \"Games\", \"Health and Wellness\", \"Security\", \"E-Commerce\", \"Hardware + Software\", \"Analytics\", \"Web Hosting\", \"Social Media\", \"Education\", \"Finance\", \"Music\", \"Big Data\", \"Technology\", \"News\", \"SaaS\", \"Cloud Computing\", \"Video\", \"Photography\", \"Internet of Things\", \"Search\", \"Real Estate\"], \"y\": [104, 62, 61, 61, 55, 37, 36, 35, 27, 26, 26, 26, 24, 23, 22, 19, 17, 17, 13, 11, 10, 10, 9, 8, 8, 7, 7, 6, 6, 6], \"type\": \"bar\", \"uid\": \"251347d8-d7c9-11e8-aad0-6a000073fc60\"}], {\"font\": {\"size\": 11}, \"title\": \"Most Popular Markets in SF\"}, {\"showLink\": true, \"linkText\": \"Export to plot.ly\"})});</script>"
      ]
     },
     "metadata": {},
     "output_type": "display_data"
    }
   ],
   "source": [
    "popular_markets_bar = [go.Bar(\n",
    "            x=popular_markets.keys()[:30],\n",
    "            y=[popular_markets[key] for key in popular_markets.keys()[:30]]\n",
    "    )]\n",
    "\n",
    "iplot({'data':popular_markets_bar, 'layout':{'title': 'Most Popular Markets in SF',\n",
    "                          'font': dict(size=11)}}, filename='basic-bar')"
   ]
  },
  {
   "cell_type": "markdown",
   "metadata": {},
   "source": [
    "## Including Investor Rank, if no ratings = 0"
   ]
  },
  {
   "cell_type": "code",
   "execution_count": 239,
   "metadata": {},
   "outputs": [],
   "source": [
    "with open('investor_rating_dict.pickle', 'rb') as handle:\n",
    "    investor_rating_dict = pickle.load(handle)"
   ]
  },
  {
   "cell_type": "code",
   "execution_count": 240,
   "metadata": {},
   "outputs": [],
   "source": [
    "data_cleaned['investor_ratings'] = data_cleaned['company_name'].map(investor_rating_dict)"
   ]
  },
  {
   "cell_type": "markdown",
   "metadata": {},
   "source": [
    "## Create Dummy Variables For Categorical Data"
   ]
  },
  {
   "cell_type": "code",
   "execution_count": 46,
   "metadata": {},
   "outputs": [],
   "source": [
    "from sklearn.preprocessing import MultiLabelBinarizer\n",
    "def bin_multi_label(dataframe,column_name):\n",
    "    data_ = dataframe[column_name].value_counts()\n",
    "\n",
    "    list_ = [[i] for i in list(dataframe[column_name])]\n",
    "\n",
    "    one_hot = MultiLabelBinarizer()\n",
    "    one_hot.fit([list(data_.index)]) \n",
    "    one_hot_data_= one_hot.transform(list_)\n",
    "\n",
    "    model_df = pd.DataFrame(one_hot_data_,columns = one_hot.classes_)\n",
    "\n",
    "    return one_hot, model_df"
   ]
  },
  {
   "cell_type": "code",
   "execution_count": 47,
   "metadata": {},
   "outputs": [],
   "source": [
    "mlb_market,market_df = bin_multi_label(data_cleaned,'company_market_popular');\n",
    "mlb_city,city_df = bin_multi_label(data_cleaned,'company_city_popular');"
   ]
  },
  {
   "cell_type": "code",
   "execution_count": 48,
   "metadata": {},
   "outputs": [
    {
     "data": {
      "text/plain": [
       "count    1140.000000\n",
       "mean        0.356140\n",
       "std         0.479068\n",
       "min         0.000000\n",
       "25%         0.000000\n",
       "50%         0.000000\n",
       "75%         1.000000\n",
       "max         1.000000\n",
       "Name: isAquired, dtype: float64"
      ]
     },
     "execution_count": 48,
     "metadata": {},
     "output_type": "execute_result"
    }
   ],
   "source": [
    "data_cleaned['isAquired'].describe()"
   ]
  },
  {
   "cell_type": "code",
   "execution_count": 49,
   "metadata": {},
   "outputs": [
    {
     "name": "stdout",
     "output_type": "stream",
     "text": [
      "(1140, 31) (1140,)\n"
     ]
    }
   ],
   "source": [
    "print(market_df.shape,data_cleaned['total_funding'].shape)"
   ]
  },
  {
   "cell_type": "code",
   "execution_count": 253,
   "metadata": {},
   "outputs": [],
   "source": [
    "#data_cleaned = data_cleaned.dropna()"
   ]
  },
  {
   "cell_type": "code",
   "execution_count": 264,
   "metadata": {},
   "outputs": [],
   "source": [
    "data_encoded = pd.concat([market_df,city_df,data_cleaned['investor_ratings'],data_cleaned['company_max_round'],data_cleaned['total_funding'],data_cleaned['isAquired']], axis=1,sort=False)"
   ]
  },
  {
   "cell_type": "code",
   "execution_count": 261,
   "metadata": {
    "scrolled": true
   },
   "outputs": [
    {
     "name": "stdout",
     "output_type": "stream",
     "text": [
      "shape (1132, 40)\n"
     ]
    }
   ],
   "source": [
    "print('shape',data_encoded.shape) "
   ]
  },
  {
   "cell_type": "markdown",
   "metadata": {},
   "source": [
    "Counter(list(data_cleaned['total_funding_time'].isna()))"
   ]
  },
  {
   "cell_type": "code",
   "execution_count": 265,
   "metadata": {},
   "outputs": [],
   "source": [
    "data_encoded = data_encoded[data_encoded['investor_ratings'].isna() != True]"
   ]
  },
  {
   "cell_type": "code",
   "execution_count": 266,
   "metadata": {},
   "outputs": [
    {
     "data": {
      "text/plain": [
       "Index(['Advertising', 'Analytics', 'Big Data', 'Biotechnology',\n",
       "       'Clean Technology', 'Cloud Computing', 'Curated Web', 'E-Commerce',\n",
       "       'Education', 'Enterprise Software', 'Finance', 'Games',\n",
       "       'Hardware + Software', 'Health Care', 'Health and Wellness',\n",
       "       'Internet of Things', 'Mobile', 'Music', 'News', 'Other_market',\n",
       "       'Photography', 'Real Estate', 'SaaS', 'Search', 'Security',\n",
       "       'Semiconductors', 'Social Media', 'Software', 'Technology', 'Video',\n",
       "       'Web Hosting', 'Mountain View', 'Other_city', 'Palo Alto',\n",
       "       'San Francisco', 'San Jose', 'Santa Clara', 'investor_ratings',\n",
       "       'company_max_round', 'total_funding', 'isAquired'],\n",
       "      dtype='object')"
      ]
     },
     "execution_count": 266,
     "metadata": {},
     "output_type": "execute_result"
    }
   ],
   "source": [
    "data_encoded.columns"
   ]
  },
  {
   "cell_type": "markdown",
   "metadata": {},
   "source": [
    "## Testing A Logistic Regression Model With Base Data\n",
    "\n",
    "Metrics interpretations\n",
    "\n",
    "1) **Precision** - We don't want to spend money on startups that will fail\n",
    "\n",
    "2) **Recall** - Minimizing missed opportunities \n",
    "\n",
    "**Accuracy** - We want to ideally correctly identify all startups\n",
    "\n",
    "**False Negative** - We missed out on very good opportunities "
   ]
  },
  {
   "cell_type": "markdown",
   "metadata": {},
   "source": [
    "## Prepare Data From Model"
   ]
  },
  {
   "cell_type": "code",
   "execution_count": 267,
   "metadata": {
    "scrolled": true
   },
   "outputs": [
    {
     "name": "stdout",
     "output_type": "stream",
     "text": [
      "(1132,) (1132, 40)\n"
     ]
    }
   ],
   "source": [
    "from sklearn import linear_model\n",
    "from sklearn.model_selection import train_test_split\n",
    "\n",
    "from sklearn.model_selection import cross_validate\n",
    "from sklearn import metrics\n",
    "from sklearn.metrics import confusion_matrix\n",
    "\n",
    "y = data_encoded.pop('isAquired')\n",
    "X = data_encoded\n",
    "print(y.shape,X.shape)\n",
    "X_train, X_test, y_train, y_test = train_test_split(X, y, test_size=0.3, random_state=444)\n"
   ]
  },
  {
   "cell_type": "code",
   "execution_count": 268,
   "metadata": {},
   "outputs": [
    {
     "data": {
      "text/html": [
       "<div>\n",
       "<style scoped>\n",
       "    .dataframe tbody tr th:only-of-type {\n",
       "        vertical-align: middle;\n",
       "    }\n",
       "\n",
       "    .dataframe tbody tr th {\n",
       "        vertical-align: top;\n",
       "    }\n",
       "\n",
       "    .dataframe thead th {\n",
       "        text-align: right;\n",
       "    }\n",
       "</style>\n",
       "<table border=\"1\" class=\"dataframe\">\n",
       "  <thead>\n",
       "    <tr style=\"text-align: right;\">\n",
       "      <th></th>\n",
       "      <th>Advertising</th>\n",
       "      <th>Analytics</th>\n",
       "      <th>Big Data</th>\n",
       "      <th>Biotechnology</th>\n",
       "      <th>Clean Technology</th>\n",
       "      <th>Cloud Computing</th>\n",
       "      <th>Curated Web</th>\n",
       "      <th>E-Commerce</th>\n",
       "      <th>Education</th>\n",
       "      <th>Enterprise Software</th>\n",
       "      <th>...</th>\n",
       "      <th>Web Hosting</th>\n",
       "      <th>Mountain View</th>\n",
       "      <th>Other_city</th>\n",
       "      <th>Palo Alto</th>\n",
       "      <th>San Francisco</th>\n",
       "      <th>San Jose</th>\n",
       "      <th>Santa Clara</th>\n",
       "      <th>investor_ratings</th>\n",
       "      <th>company_max_round</th>\n",
       "      <th>total_funding</th>\n",
       "    </tr>\n",
       "  </thead>\n",
       "  <tbody>\n",
       "    <tr>\n",
       "      <th>count</th>\n",
       "      <td>1132.000000</td>\n",
       "      <td>1132.000000</td>\n",
       "      <td>1132.000000</td>\n",
       "      <td>1132.000000</td>\n",
       "      <td>1132.000000</td>\n",
       "      <td>1132.000000</td>\n",
       "      <td>1132.000000</td>\n",
       "      <td>1132.000000</td>\n",
       "      <td>1132.000000</td>\n",
       "      <td>1132.000000</td>\n",
       "      <td>...</td>\n",
       "      <td>1132.000000</td>\n",
       "      <td>1132.000000</td>\n",
       "      <td>1132.000000</td>\n",
       "      <td>1132.000000</td>\n",
       "      <td>1132.000000</td>\n",
       "      <td>1132.000000</td>\n",
       "      <td>1132.000000</td>\n",
       "      <td>1132.000000</td>\n",
       "      <td>1132.000000</td>\n",
       "      <td>1132.000000</td>\n",
       "    </tr>\n",
       "    <tr>\n",
       "      <th>mean</th>\n",
       "      <td>0.032686</td>\n",
       "      <td>0.019435</td>\n",
       "      <td>0.008834</td>\n",
       "      <td>0.053004</td>\n",
       "      <td>0.023852</td>\n",
       "      <td>0.006184</td>\n",
       "      <td>0.053887</td>\n",
       "      <td>0.021201</td>\n",
       "      <td>0.015018</td>\n",
       "      <td>0.048587</td>\n",
       "      <td>...</td>\n",
       "      <td>0.016784</td>\n",
       "      <td>0.072438</td>\n",
       "      <td>0.357774</td>\n",
       "      <td>0.077739</td>\n",
       "      <td>0.373675</td>\n",
       "      <td>0.053004</td>\n",
       "      <td>0.065371</td>\n",
       "      <td>9.551948</td>\n",
       "      <td>2.480565</td>\n",
       "      <td>33.778923</td>\n",
       "    </tr>\n",
       "    <tr>\n",
       "      <th>std</th>\n",
       "      <td>0.177891</td>\n",
       "      <td>0.138108</td>\n",
       "      <td>0.093614</td>\n",
       "      <td>0.224140</td>\n",
       "      <td>0.152654</td>\n",
       "      <td>0.078428</td>\n",
       "      <td>0.225894</td>\n",
       "      <td>0.144119</td>\n",
       "      <td>0.121677</td>\n",
       "      <td>0.215097</td>\n",
       "      <td>...</td>\n",
       "      <td>0.128520</td>\n",
       "      <td>0.259327</td>\n",
       "      <td>0.479557</td>\n",
       "      <td>0.267878</td>\n",
       "      <td>0.483993</td>\n",
       "      <td>0.224140</td>\n",
       "      <td>0.247289</td>\n",
       "      <td>1.035308</td>\n",
       "      <td>1.670616</td>\n",
       "      <td>107.393129</td>\n",
       "    </tr>\n",
       "    <tr>\n",
       "      <th>min</th>\n",
       "      <td>0.000000</td>\n",
       "      <td>0.000000</td>\n",
       "      <td>0.000000</td>\n",
       "      <td>0.000000</td>\n",
       "      <td>0.000000</td>\n",
       "      <td>0.000000</td>\n",
       "      <td>0.000000</td>\n",
       "      <td>0.000000</td>\n",
       "      <td>0.000000</td>\n",
       "      <td>0.000000</td>\n",
       "      <td>...</td>\n",
       "      <td>0.000000</td>\n",
       "      <td>0.000000</td>\n",
       "      <td>0.000000</td>\n",
       "      <td>0.000000</td>\n",
       "      <td>0.000000</td>\n",
       "      <td>0.000000</td>\n",
       "      <td>0.000000</td>\n",
       "      <td>2.000000</td>\n",
       "      <td>0.000000</td>\n",
       "      <td>0.006000</td>\n",
       "    </tr>\n",
       "    <tr>\n",
       "      <th>25%</th>\n",
       "      <td>0.000000</td>\n",
       "      <td>0.000000</td>\n",
       "      <td>0.000000</td>\n",
       "      <td>0.000000</td>\n",
       "      <td>0.000000</td>\n",
       "      <td>0.000000</td>\n",
       "      <td>0.000000</td>\n",
       "      <td>0.000000</td>\n",
       "      <td>0.000000</td>\n",
       "      <td>0.000000</td>\n",
       "      <td>...</td>\n",
       "      <td>0.000000</td>\n",
       "      <td>0.000000</td>\n",
       "      <td>0.000000</td>\n",
       "      <td>0.000000</td>\n",
       "      <td>0.000000</td>\n",
       "      <td>0.000000</td>\n",
       "      <td>0.000000</td>\n",
       "      <td>9.632143</td>\n",
       "      <td>1.000000</td>\n",
       "      <td>2.500000</td>\n",
       "    </tr>\n",
       "    <tr>\n",
       "      <th>50%</th>\n",
       "      <td>0.000000</td>\n",
       "      <td>0.000000</td>\n",
       "      <td>0.000000</td>\n",
       "      <td>0.000000</td>\n",
       "      <td>0.000000</td>\n",
       "      <td>0.000000</td>\n",
       "      <td>0.000000</td>\n",
       "      <td>0.000000</td>\n",
       "      <td>0.000000</td>\n",
       "      <td>0.000000</td>\n",
       "      <td>...</td>\n",
       "      <td>0.000000</td>\n",
       "      <td>0.000000</td>\n",
       "      <td>0.000000</td>\n",
       "      <td>0.000000</td>\n",
       "      <td>0.000000</td>\n",
       "      <td>0.000000</td>\n",
       "      <td>0.000000</td>\n",
       "      <td>10.000000</td>\n",
       "      <td>2.000000</td>\n",
       "      <td>9.500000</td>\n",
       "    </tr>\n",
       "    <tr>\n",
       "      <th>75%</th>\n",
       "      <td>0.000000</td>\n",
       "      <td>0.000000</td>\n",
       "      <td>0.000000</td>\n",
       "      <td>0.000000</td>\n",
       "      <td>0.000000</td>\n",
       "      <td>0.000000</td>\n",
       "      <td>0.000000</td>\n",
       "      <td>0.000000</td>\n",
       "      <td>0.000000</td>\n",
       "      <td>0.000000</td>\n",
       "      <td>...</td>\n",
       "      <td>0.000000</td>\n",
       "      <td>0.000000</td>\n",
       "      <td>1.000000</td>\n",
       "      <td>0.000000</td>\n",
       "      <td>1.000000</td>\n",
       "      <td>0.000000</td>\n",
       "      <td>0.000000</td>\n",
       "      <td>10.000000</td>\n",
       "      <td>4.000000</td>\n",
       "      <td>28.776481</td>\n",
       "    </tr>\n",
       "    <tr>\n",
       "      <th>max</th>\n",
       "      <td>1.000000</td>\n",
       "      <td>1.000000</td>\n",
       "      <td>1.000000</td>\n",
       "      <td>1.000000</td>\n",
       "      <td>1.000000</td>\n",
       "      <td>1.000000</td>\n",
       "      <td>1.000000</td>\n",
       "      <td>1.000000</td>\n",
       "      <td>1.000000</td>\n",
       "      <td>1.000000</td>\n",
       "      <td>...</td>\n",
       "      <td>1.000000</td>\n",
       "      <td>1.000000</td>\n",
       "      <td>1.000000</td>\n",
       "      <td>1.000000</td>\n",
       "      <td>1.000000</td>\n",
       "      <td>1.000000</td>\n",
       "      <td>1.000000</td>\n",
       "      <td>10.000000</td>\n",
       "      <td>8.000000</td>\n",
       "      <td>1507.450000</td>\n",
       "    </tr>\n",
       "  </tbody>\n",
       "</table>\n",
       "<p>8 rows × 40 columns</p>\n",
       "</div>"
      ],
      "text/plain": [
       "       Advertising    Analytics     Big Data  Biotechnology  Clean Technology  \\\n",
       "count  1132.000000  1132.000000  1132.000000    1132.000000       1132.000000   \n",
       "mean      0.032686     0.019435     0.008834       0.053004          0.023852   \n",
       "std       0.177891     0.138108     0.093614       0.224140          0.152654   \n",
       "min       0.000000     0.000000     0.000000       0.000000          0.000000   \n",
       "25%       0.000000     0.000000     0.000000       0.000000          0.000000   \n",
       "50%       0.000000     0.000000     0.000000       0.000000          0.000000   \n",
       "75%       0.000000     0.000000     0.000000       0.000000          0.000000   \n",
       "max       1.000000     1.000000     1.000000       1.000000          1.000000   \n",
       "\n",
       "       Cloud Computing  Curated Web   E-Commerce    Education  \\\n",
       "count      1132.000000  1132.000000  1132.000000  1132.000000   \n",
       "mean          0.006184     0.053887     0.021201     0.015018   \n",
       "std           0.078428     0.225894     0.144119     0.121677   \n",
       "min           0.000000     0.000000     0.000000     0.000000   \n",
       "25%           0.000000     0.000000     0.000000     0.000000   \n",
       "50%           0.000000     0.000000     0.000000     0.000000   \n",
       "75%           0.000000     0.000000     0.000000     0.000000   \n",
       "max           1.000000     1.000000     1.000000     1.000000   \n",
       "\n",
       "       Enterprise Software      ...        Web Hosting  Mountain View  \\\n",
       "count          1132.000000      ...        1132.000000    1132.000000   \n",
       "mean              0.048587      ...           0.016784       0.072438   \n",
       "std               0.215097      ...           0.128520       0.259327   \n",
       "min               0.000000      ...           0.000000       0.000000   \n",
       "25%               0.000000      ...           0.000000       0.000000   \n",
       "50%               0.000000      ...           0.000000       0.000000   \n",
       "75%               0.000000      ...           0.000000       0.000000   \n",
       "max               1.000000      ...           1.000000       1.000000   \n",
       "\n",
       "        Other_city    Palo Alto  San Francisco     San Jose  Santa Clara  \\\n",
       "count  1132.000000  1132.000000    1132.000000  1132.000000  1132.000000   \n",
       "mean      0.357774     0.077739       0.373675     0.053004     0.065371   \n",
       "std       0.479557     0.267878       0.483993     0.224140     0.247289   \n",
       "min       0.000000     0.000000       0.000000     0.000000     0.000000   \n",
       "25%       0.000000     0.000000       0.000000     0.000000     0.000000   \n",
       "50%       0.000000     0.000000       0.000000     0.000000     0.000000   \n",
       "75%       1.000000     0.000000       1.000000     0.000000     0.000000   \n",
       "max       1.000000     1.000000       1.000000     1.000000     1.000000   \n",
       "\n",
       "       investor_ratings  company_max_round  total_funding  \n",
       "count       1132.000000        1132.000000    1132.000000  \n",
       "mean           9.551948           2.480565      33.778923  \n",
       "std            1.035308           1.670616     107.393129  \n",
       "min            2.000000           0.000000       0.006000  \n",
       "25%            9.632143           1.000000       2.500000  \n",
       "50%           10.000000           2.000000       9.500000  \n",
       "75%           10.000000           4.000000      28.776481  \n",
       "max           10.000000           8.000000    1507.450000  \n",
       "\n",
       "[8 rows x 40 columns]"
      ]
     },
     "execution_count": 268,
     "metadata": {},
     "output_type": "execute_result"
    }
   ],
   "source": [
    "X.describe()"
   ]
  },
  {
   "cell_type": "markdown",
   "metadata": {},
   "source": [
    "## Plotting Categorical"
   ]
  },
  {
   "cell_type": "code",
   "execution_count": 269,
   "metadata": {},
   "outputs": [
    {
     "data": {
      "image/png": "[encoded data removed]",
      "text/plain": [
       "<Figure size 432x288 with 1 Axes>"
      ]
     },
     "metadata": {
      "needs_background": "light"
     },
     "output_type": "display_data"
    }
   ],
   "source": [
    "plt.scatter(list(X['total_funding']), list(y))\n",
    "plt.title('Total Funding vs Aquisitions')\n",
    "plt.show()"
   ]
  },
  {
   "cell_type": "markdown",
   "metadata": {},
   "source": [
    "## Initial Feature Selection With Stats Models"
   ]
  },
  {
   "cell_type": "markdown",
   "metadata": {
    "scrolled": true
   },
   "source": [
    "import statsmodels.api as sm\n",
    "\n",
    "X_train = sm.add_constant(X_train)\n",
    "\n",
    "logit_model = sm.Logit(y_train, X_train)\n",
    "results = logit_model.fit()"
   ]
  },
  {
   "cell_type": "markdown",
   "metadata": {},
   "source": [
    "results.summary()"
   ]
  },
  {
   "cell_type": "code",
   "execution_count": 270,
   "metadata": {
    "scrolled": true
   },
   "outputs": [
    {
     "data": {
      "text/html": [
       "<div>\n",
       "<style scoped>\n",
       "    .dataframe tbody tr th:only-of-type {\n",
       "        vertical-align: middle;\n",
       "    }\n",
       "\n",
       "    .dataframe tbody tr th {\n",
       "        vertical-align: top;\n",
       "    }\n",
       "\n",
       "    .dataframe thead th {\n",
       "        text-align: right;\n",
       "    }\n",
       "</style>\n",
       "<table border=\"1\" class=\"dataframe\">\n",
       "  <thead>\n",
       "    <tr style=\"text-align: right;\">\n",
       "      <th></th>\n",
       "      <th>Advertising</th>\n",
       "      <th>Analytics</th>\n",
       "      <th>Big Data</th>\n",
       "      <th>Biotechnology</th>\n",
       "      <th>Clean Technology</th>\n",
       "      <th>Cloud Computing</th>\n",
       "      <th>Curated Web</th>\n",
       "      <th>E-Commerce</th>\n",
       "      <th>Education</th>\n",
       "      <th>Enterprise Software</th>\n",
       "      <th>...</th>\n",
       "      <th>Web Hosting</th>\n",
       "      <th>Mountain View</th>\n",
       "      <th>Other_city</th>\n",
       "      <th>Palo Alto</th>\n",
       "      <th>San Francisco</th>\n",
       "      <th>San Jose</th>\n",
       "      <th>Santa Clara</th>\n",
       "      <th>investor_ratings</th>\n",
       "      <th>company_max_round</th>\n",
       "      <th>total_funding</th>\n",
       "    </tr>\n",
       "  </thead>\n",
       "  <tbody>\n",
       "    <tr>\n",
       "      <th>316</th>\n",
       "      <td>0</td>\n",
       "      <td>0</td>\n",
       "      <td>0</td>\n",
       "      <td>0</td>\n",
       "      <td>0</td>\n",
       "      <td>0</td>\n",
       "      <td>1</td>\n",
       "      <td>0</td>\n",
       "      <td>0</td>\n",
       "      <td>0</td>\n",
       "      <td>...</td>\n",
       "      <td>0</td>\n",
       "      <td>0</td>\n",
       "      <td>0</td>\n",
       "      <td>0</td>\n",
       "      <td>1</td>\n",
       "      <td>0</td>\n",
       "      <td>0</td>\n",
       "      <td>9.863636</td>\n",
       "      <td>5.0</td>\n",
       "      <td>67.500000</td>\n",
       "    </tr>\n",
       "    <tr>\n",
       "      <th>432</th>\n",
       "      <td>0</td>\n",
       "      <td>0</td>\n",
       "      <td>0</td>\n",
       "      <td>0</td>\n",
       "      <td>1</td>\n",
       "      <td>0</td>\n",
       "      <td>0</td>\n",
       "      <td>0</td>\n",
       "      <td>0</td>\n",
       "      <td>0</td>\n",
       "      <td>...</td>\n",
       "      <td>0</td>\n",
       "      <td>0</td>\n",
       "      <td>1</td>\n",
       "      <td>0</td>\n",
       "      <td>0</td>\n",
       "      <td>0</td>\n",
       "      <td>0</td>\n",
       "      <td>10.000000</td>\n",
       "      <td>2.0</td>\n",
       "      <td>87.186401</td>\n",
       "    </tr>\n",
       "    <tr>\n",
       "      <th>1105</th>\n",
       "      <td>0</td>\n",
       "      <td>0</td>\n",
       "      <td>0</td>\n",
       "      <td>0</td>\n",
       "      <td>0</td>\n",
       "      <td>0</td>\n",
       "      <td>0</td>\n",
       "      <td>0</td>\n",
       "      <td>0</td>\n",
       "      <td>0</td>\n",
       "      <td>...</td>\n",
       "      <td>0</td>\n",
       "      <td>0</td>\n",
       "      <td>0</td>\n",
       "      <td>0</td>\n",
       "      <td>1</td>\n",
       "      <td>0</td>\n",
       "      <td>0</td>\n",
       "      <td>8.500000</td>\n",
       "      <td>2.0</td>\n",
       "      <td>6.500000</td>\n",
       "    </tr>\n",
       "    <tr>\n",
       "      <th>474</th>\n",
       "      <td>0</td>\n",
       "      <td>0</td>\n",
       "      <td>0</td>\n",
       "      <td>0</td>\n",
       "      <td>0</td>\n",
       "      <td>0</td>\n",
       "      <td>0</td>\n",
       "      <td>0</td>\n",
       "      <td>0</td>\n",
       "      <td>0</td>\n",
       "      <td>...</td>\n",
       "      <td>0</td>\n",
       "      <td>0</td>\n",
       "      <td>0</td>\n",
       "      <td>1</td>\n",
       "      <td>0</td>\n",
       "      <td>0</td>\n",
       "      <td>0</td>\n",
       "      <td>10.000000</td>\n",
       "      <td>2.0</td>\n",
       "      <td>19.300000</td>\n",
       "    </tr>\n",
       "    <tr>\n",
       "      <th>47</th>\n",
       "      <td>0</td>\n",
       "      <td>0</td>\n",
       "      <td>0</td>\n",
       "      <td>1</td>\n",
       "      <td>0</td>\n",
       "      <td>0</td>\n",
       "      <td>0</td>\n",
       "      <td>0</td>\n",
       "      <td>0</td>\n",
       "      <td>0</td>\n",
       "      <td>...</td>\n",
       "      <td>0</td>\n",
       "      <td>0</td>\n",
       "      <td>0</td>\n",
       "      <td>0</td>\n",
       "      <td>1</td>\n",
       "      <td>0</td>\n",
       "      <td>0</td>\n",
       "      <td>10.000000</td>\n",
       "      <td>4.0</td>\n",
       "      <td>106.023000</td>\n",
       "    </tr>\n",
       "    <tr>\n",
       "      <th>647</th>\n",
       "      <td>0</td>\n",
       "      <td>0</td>\n",
       "      <td>0</td>\n",
       "      <td>0</td>\n",
       "      <td>0</td>\n",
       "      <td>0</td>\n",
       "      <td>0</td>\n",
       "      <td>0</td>\n",
       "      <td>0</td>\n",
       "      <td>0</td>\n",
       "      <td>...</td>\n",
       "      <td>0</td>\n",
       "      <td>1</td>\n",
       "      <td>0</td>\n",
       "      <td>0</td>\n",
       "      <td>0</td>\n",
       "      <td>0</td>\n",
       "      <td>0</td>\n",
       "      <td>10.000000</td>\n",
       "      <td>2.0</td>\n",
       "      <td>0.020000</td>\n",
       "    </tr>\n",
       "    <tr>\n",
       "      <th>651</th>\n",
       "      <td>0</td>\n",
       "      <td>0</td>\n",
       "      <td>0</td>\n",
       "      <td>0</td>\n",
       "      <td>0</td>\n",
       "      <td>0</td>\n",
       "      <td>0</td>\n",
       "      <td>0</td>\n",
       "      <td>0</td>\n",
       "      <td>1</td>\n",
       "      <td>...</td>\n",
       "      <td>0</td>\n",
       "      <td>0</td>\n",
       "      <td>1</td>\n",
       "      <td>0</td>\n",
       "      <td>0</td>\n",
       "      <td>0</td>\n",
       "      <td>0</td>\n",
       "      <td>10.000000</td>\n",
       "      <td>0.0</td>\n",
       "      <td>0.500000</td>\n",
       "    </tr>\n",
       "    <tr>\n",
       "      <th>190</th>\n",
       "      <td>0</td>\n",
       "      <td>0</td>\n",
       "      <td>0</td>\n",
       "      <td>0</td>\n",
       "      <td>0</td>\n",
       "      <td>0</td>\n",
       "      <td>0</td>\n",
       "      <td>0</td>\n",
       "      <td>0</td>\n",
       "      <td>0</td>\n",
       "      <td>...</td>\n",
       "      <td>0</td>\n",
       "      <td>0</td>\n",
       "      <td>1</td>\n",
       "      <td>0</td>\n",
       "      <td>0</td>\n",
       "      <td>0</td>\n",
       "      <td>0</td>\n",
       "      <td>10.000000</td>\n",
       "      <td>4.0</td>\n",
       "      <td>2.000000</td>\n",
       "    </tr>\n",
       "    <tr>\n",
       "      <th>254</th>\n",
       "      <td>0</td>\n",
       "      <td>0</td>\n",
       "      <td>0</td>\n",
       "      <td>0</td>\n",
       "      <td>0</td>\n",
       "      <td>0</td>\n",
       "      <td>0</td>\n",
       "      <td>0</td>\n",
       "      <td>0</td>\n",
       "      <td>0</td>\n",
       "      <td>...</td>\n",
       "      <td>0</td>\n",
       "      <td>0</td>\n",
       "      <td>0</td>\n",
       "      <td>0</td>\n",
       "      <td>1</td>\n",
       "      <td>0</td>\n",
       "      <td>0</td>\n",
       "      <td>10.000000</td>\n",
       "      <td>3.0</td>\n",
       "      <td>7.000000</td>\n",
       "    </tr>\n",
       "    <tr>\n",
       "      <th>498</th>\n",
       "      <td>0</td>\n",
       "      <td>0</td>\n",
       "      <td>0</td>\n",
       "      <td>0</td>\n",
       "      <td>0</td>\n",
       "      <td>0</td>\n",
       "      <td>0</td>\n",
       "      <td>0</td>\n",
       "      <td>0</td>\n",
       "      <td>0</td>\n",
       "      <td>...</td>\n",
       "      <td>0</td>\n",
       "      <td>0</td>\n",
       "      <td>1</td>\n",
       "      <td>0</td>\n",
       "      <td>0</td>\n",
       "      <td>0</td>\n",
       "      <td>0</td>\n",
       "      <td>10.000000</td>\n",
       "      <td>4.0</td>\n",
       "      <td>1.200000</td>\n",
       "    </tr>\n",
       "  </tbody>\n",
       "</table>\n",
       "<p>10 rows × 40 columns</p>\n",
       "</div>"
      ],
      "text/plain": [
       "      Advertising  Analytics  Big Data  Biotechnology  Clean Technology  \\\n",
       "316             0          0         0              0                 0   \n",
       "432             0          0         0              0                 1   \n",
       "1105            0          0         0              0                 0   \n",
       "474             0          0         0              0                 0   \n",
       "47              0          0         0              1                 0   \n",
       "647             0          0         0              0                 0   \n",
       "651             0          0         0              0                 0   \n",
       "190             0          0         0              0                 0   \n",
       "254             0          0         0              0                 0   \n",
       "498             0          0         0              0                 0   \n",
       "\n",
       "      Cloud Computing  Curated Web  E-Commerce  Education  \\\n",
       "316                 0            1           0          0   \n",
       "432                 0            0           0          0   \n",
       "1105                0            0           0          0   \n",
       "474                 0            0           0          0   \n",
       "47                  0            0           0          0   \n",
       "647                 0            0           0          0   \n",
       "651                 0            0           0          0   \n",
       "190                 0            0           0          0   \n",
       "254                 0            0           0          0   \n",
       "498                 0            0           0          0   \n",
       "\n",
       "      Enterprise Software      ...        Web Hosting  Mountain View  \\\n",
       "316                     0      ...                  0              0   \n",
       "432                     0      ...                  0              0   \n",
       "1105                    0      ...                  0              0   \n",
       "474                     0      ...                  0              0   \n",
       "47                      0      ...                  0              0   \n",
       "647                     0      ...                  0              1   \n",
       "651                     1      ...                  0              0   \n",
       "190                     0      ...                  0              0   \n",
       "254                     0      ...                  0              0   \n",
       "498                     0      ...                  0              0   \n",
       "\n",
       "      Other_city  Palo Alto  San Francisco  San Jose  Santa Clara  \\\n",
       "316            0          0              1         0            0   \n",
       "432            1          0              0         0            0   \n",
       "1105           0          0              1         0            0   \n",
       "474            0          1              0         0            0   \n",
       "47             0          0              1         0            0   \n",
       "647            0          0              0         0            0   \n",
       "651            1          0              0         0            0   \n",
       "190            1          0              0         0            0   \n",
       "254            0          0              1         0            0   \n",
       "498            1          0              0         0            0   \n",
       "\n",
       "      investor_ratings  company_max_round  total_funding  \n",
       "316           9.863636                5.0      67.500000  \n",
       "432          10.000000                2.0      87.186401  \n",
       "1105          8.500000                2.0       6.500000  \n",
       "474          10.000000                2.0      19.300000  \n",
       "47           10.000000                4.0     106.023000  \n",
       "647          10.000000                2.0       0.020000  \n",
       "651          10.000000                0.0       0.500000  \n",
       "190          10.000000                4.0       2.000000  \n",
       "254          10.000000                3.0       7.000000  \n",
       "498          10.000000                4.0       1.200000  \n",
       "\n",
       "[10 rows x 40 columns]"
      ]
     },
     "execution_count": 270,
     "metadata": {},
     "output_type": "execute_result"
    }
   ],
   "source": [
    "X_train.head(10)"
   ]
  },
  {
   "cell_type": "code",
   "execution_count": 328,
   "metadata": {},
   "outputs": [
    {
     "name": "stdout",
     "output_type": "stream",
     "text": [
      "Training Data Accuracy: 0.67\n",
      "Test Data Accuracy:     0.60\n",
      "[[189  19]\n",
      " [116  16]]\n",
      "\n",
      "\n",
      "Precision:              0.46\n",
      "Recall:                 0.12\n",
      "F1 Score:               0.1916\n"
     ]
    },
    {
     "name": "stderr",
     "output_type": "stream",
     "text": [
      "/Library/Frameworks/Python.framework/Versions/3.6/lib/python3.6/site-packages/sklearn/linear_model/logistic.py:432: FutureWarning:\n",
      "\n",
      "Default solver will be changed to 'lbfgs' in 0.22. Specify a solver to silence this warning.\n",
      "\n"
     ]
    }
   ],
   "source": [
    "model = linear_model.LogisticRegression()\n",
    "model.fit(X_train, y_train)\n",
    "\n",
    "# accuracy for test & train:\n",
    "train_acc=model.score(X_train, y_train)\n",
    "test_acc=model.score(X_test,y_test)\n",
    "print(\"Training Data Accuracy: %0.2f\" %(train_acc))\n",
    "print(\"Test Data Accuracy:     %0.2f\" %(test_acc))\n",
    "\n",
    "y_true = y_test\n",
    "y_pred = model.predict(X_test)\n",
    "\n",
    "\n",
    "conf = confusion_matrix(y_true, y_pred)\n",
    "tn, fp, fn, tp = conf.ravel()\n",
    "\n",
    "print(conf)\n",
    "\n",
    "precision = (tp / (tp + fp))\n",
    "recall = (tp / (tp + fn))\n",
    "f1_score = 2*precision*recall/(precision + recall)\n",
    "\n",
    "print ('\\n')\n",
    "print (\"Precision:              %0.2f\" % precision)\n",
    "print (\"Recall:                 %0.2f\"% recall)\n",
    "print (\"F1 Score:               %0.4f\"% f1_score)"
   ]
  },
  {
   "cell_type": "code",
   "execution_count": 329,
   "metadata": {},
   "outputs": [
    {
     "data": {
      "text/plain": [
       "1"
      ]
     },
     "execution_count": 329,
     "metadata": {},
     "output_type": "execute_result"
    }
   ],
   "source": [
    "len(X.columns)\n",
    "len(model.coef_)"
   ]
  },
  {
   "cell_type": "code",
   "execution_count": 330,
   "metadata": {},
   "outputs": [
    {
     "data": {
      "text/plain": [
       "[('Advertising', -0.37735676896837633),\n",
       " ('Analytics', 0.2242681286478761),\n",
       " ('Big Data', -0.028983244454615652),\n",
       " ('Biotechnology', 0.39239775657515263),\n",
       " ('Clean Technology', 0.7140716153688323),\n",
       " ('Cloud Computing', -0.5424766363443909),\n",
       " ('Curated Web', -0.812847440129138),\n",
       " ('E-Commerce', -0.48017123622542446),\n",
       " ('Education', -0.40563199811662515),\n",
       " ('Enterprise Software', 0.15995183089288004),\n",
       " ('Finance', 0.6136783402596133),\n",
       " ('Games', -0.20847316746720995),\n",
       " ('Hardware + Software', -1.0958168876539802),\n",
       " ('Health Care', -0.3218982519392942),\n",
       " ('Health and Wellness', -0.8350354405531136),\n",
       " ('Internet of Things', 0.731465768534601),\n",
       " ('Mobile', -0.15202978177182028),\n",
       " ('Music', 0.40068846098401517),\n",
       " ('News', -0.13482085645354086),\n",
       " ('Other_market', -0.3974425935187079),\n",
       " ('Photography', 0.18941274070047748),\n",
       " ('Real Estate', -0.03177058034240241),\n",
       " ('SaaS', -0.5705008202729008),\n",
       " ('Search', 1.1440263340729653),\n",
       " ('Security', -0.014731454666096289),\n",
       " ('Semiconductors', 0.07858219772876998),\n",
       " ('Social Media', 0.6503853890478871),\n",
       " ('Software', 0.08604267962055721),\n",
       " ('Technology', -0.30521774829587434),\n",
       " ('Video', -0.6308905571468176),\n",
       " ('Web Hosting', 0.1408945364232473),\n",
       " ('Mountain View', -0.167343578639158),\n",
       " ('Other_city', -0.31910833362932345),\n",
       " ('Palo Alto', -0.24019891420449396),\n",
       " ('San Francisco', -0.19050105300484596),\n",
       " ('San Jose', -0.9166371896225833),\n",
       " ('Santa Clara', 0.013559383636958258),\n",
       " ('investor_ratings', 0.19713136707133627),\n",
       " ('company_max_round', -0.10001186907622255),\n",
       " ('total_funding', -0.0010137449129370565),\n",
       " ('Intercept', -1.8202296854635356)]"
      ]
     },
     "execution_count": 330,
     "metadata": {},
     "output_type": "execute_result"
    }
   ],
   "source": [
    "coef = list(zip(list(X.columns),list(model.coef_[0])))  \n",
    "coef.append(('Intercept',model.intercept_[0]))\n",
    "coef"
   ]
  },
  {
   "cell_type": "code",
   "execution_count": 332,
   "metadata": {},
   "outputs": [
    {
     "name": "stdout",
     "output_type": "stream",
     "text": [
      "0.5492060023310024\n"
     ]
    },
    {
     "data": {
      "text/plain": [
       "<Figure size 432x288 with 0 Axes>"
      ]
     },
     "execution_count": 332,
     "metadata": {},
     "output_type": "execute_result"
    },
    {
     "data": {
      "image/png": "[encoded data removed]",
      "text/plain": [
       "<Figure size 432x288 with 1 Axes>"
      ]
     },
     "metadata": {
      "needs_background": "light"
     },
     "output_type": "display_data"
    },
    {
     "data": {
      "text/plain": [
       "<Figure size 432x288 with 0 Axes>"
      ]
     },
     "metadata": {},
     "output_type": "display_data"
    }
   ],
   "source": [
    "from sklearn.metrics import roc_curve, auc\n",
    "\n",
    "y_score=model.predict_proba(X_test)[:,1]\n",
    "\n",
    "FPR, TPR,thresholds = roc_curve(y_test, y_score)\n",
    "roc_auc = auc(FPR, TPR)\n",
    "\n",
    "\n",
    "# Plotting our Baseline..\n",
    "plt.plot([0,1],[0,1])\n",
    "plt.plot(FPR,TPR)\n",
    "plt.title('ROC Curve')\n",
    "plt.xlabel('FPR')\n",
    "plt.ylabel('TPR')\n",
    "print(roc_auc)\n",
    "plt.figure()"
   ]
  },
  {
   "cell_type": "code",
   "execution_count": 314,
   "metadata": {},
   "outputs": [],
   "source": [
    "ROC_DATA = list(zip(list(FPR),list(TPR),list(thresholds)))  "
   ]
  },
  {
   "cell_type": "markdown",
   "metadata": {},
   "source": [
    "## Testing Polynomial Features"
   ]
  },
  {
   "cell_type": "code",
   "execution_count": 334,
   "metadata": {},
   "outputs": [
    {
     "name": "stderr",
     "output_type": "stream",
     "text": [
      "/Library/Frameworks/Python.framework/Versions/3.6/lib/python3.6/site-packages/sklearn/linear_model/logistic.py:432: FutureWarning:\n",
      "\n",
      "Default solver will be changed to 'lbfgs' in 0.22. Specify a solver to silence this warning.\n",
      "\n",
      "/Library/Frameworks/Python.framework/Versions/3.6/lib/python3.6/site-packages/ipykernel_launcher.py:27: RuntimeWarning:\n",
      "\n",
      "invalid value encountered in long_scalars\n",
      "\n",
      "/Library/Frameworks/Python.framework/Versions/3.6/lib/python3.6/site-packages/sklearn/linear_model/logistic.py:432: FutureWarning:\n",
      "\n",
      "Default solver will be changed to 'lbfgs' in 0.22. Specify a solver to silence this warning.\n",
      "\n",
      "/Library/Frameworks/Python.framework/Versions/3.6/lib/python3.6/site-packages/sklearn/linear_model/logistic.py:432: FutureWarning:\n",
      "\n",
      "Default solver will be changed to 'lbfgs' in 0.22. Specify a solver to silence this warning.\n",
      "\n",
      "/Library/Frameworks/Python.framework/Versions/3.6/lib/python3.6/site-packages/sklearn/svm/base.py:922: ConvergenceWarning:\n",
      "\n",
      "Liblinear failed to converge, increase the number of iterations.\n",
      "\n"
     ]
    },
    {
     "name": "stdout",
     "output_type": "stream",
     "text": [
      "Degree 0\n",
      "Training Data Accuracy: 0.67\n",
      "Test Data Accuracy:     0.60\n",
      "[[208   0]\n",
      " [132   0]]\n",
      "Precision:              nan\n",
      "Recall:                 0.00\n",
      "F1 Score:               nan\n",
      "\n",
      "\n",
      "0.5492060023310024\n",
      "Degree 1\n",
      "Training Data Accuracy: 0.67\n",
      "Test Data Accuracy:     0.60\n",
      "[[113  95]\n",
      " [ 63  69]]\n",
      "Precision:              0.42\n",
      "Recall:                 0.52\n",
      "F1 Score:               0.4662\n",
      "\n",
      "\n",
      "0.5492060023310024\n",
      "Degree 2\n",
      "Training Data Accuracy: 0.67\n",
      "Test Data Accuracy:     0.60\n",
      "[[125  83]\n",
      " [ 71  61]]\n",
      "Precision:              0.42\n",
      "Recall:                 0.46\n",
      "F1 Score:               0.4420\n",
      "\n",
      "\n",
      "0.5492060023310024\n"
     ]
    },
    {
     "data": {
      "image/png": "[encoded data removed]",
      "text/plain": [
       "<Figure size 432x288 with 1 Axes>"
      ]
     },
     "metadata": {
      "needs_background": "light"
     },
     "output_type": "display_data"
    },
    {
     "data": {
      "image/png": "[encoded data removed]",
      "text/plain": [
       "<Figure size 432x288 with 1 Axes>"
      ]
     },
     "metadata": {
      "needs_background": "light"
     },
     "output_type": "display_data"
    },
    {
     "data": {
      "image/png": "[encoded data removed]",
      "text/plain": [
       "<Figure size 432x288 with 1 Axes>"
      ]
     },
     "metadata": {
      "needs_background": "light"
     },
     "output_type": "display_data"
    },
    {
     "data": {
      "text/plain": [
       "<Figure size 432x288 with 0 Axes>"
      ]
     },
     "metadata": {},
     "output_type": "display_data"
    }
   ],
   "source": [
    "# import PolynomialFeatures and make_pipeline for Polynomial Regression\n",
    "from sklearn.preprocessing import PolynomialFeatures\n",
    "from sklearn.pipeline import make_pipeline\n",
    "\n",
    "for degree in range(3):\n",
    "    est = make_pipeline(PolynomialFeatures(degree), linear_model.LogisticRegression(class_weight='balanced'))\n",
    "    \n",
    "    \n",
    "    est.fit(X_train, y_train)\n",
    "    # accuracy for test & train:\n",
    "    train_acc=model.score(X_train, y_train)\n",
    "    test_acc=model.score(X_test,y_test)\n",
    "    \n",
    "    print(f'Degree {degree}')\n",
    "    print(\"Training Data Accuracy: %0.2f\" %(train_acc))\n",
    "    print(\"Test Data Accuracy:     %0.2f\" %(test_acc))\n",
    "\n",
    "    y_true = y_test\n",
    "    y_pred = est.predict(X_test)\n",
    "\n",
    "\n",
    "    conf = confusion_matrix(y_true, y_pred)\n",
    "    tn, fp, fn, tp = conf.ravel()\n",
    "\n",
    "    print(conf)\n",
    "\n",
    "    precision = (tp / (tp + fp))\n",
    "    recall = (tp / (tp + fn))\n",
    "    f1_score = 2*precision*recall/(precision + recall)\n",
    "\n",
    "    #print ('\\n')\n",
    "    print (\"Precision:              %0.2f\" % precision)\n",
    "    print (\"Recall:                 %0.2f\"% recall)\n",
    "    print (\"F1 Score:               %0.4f\"% f1_score)\n",
    "    print('\\n')\n",
    "\n",
    "    "
   ]
  },
  {
   "cell_type": "markdown",
   "metadata": {},
   "source": [
    "## Optimize wrt F1\n",
    "\n",
    "RandomSearchCV to find the optimal model\n"
   ]
  },
  {
   "cell_type": "code",
   "execution_count": 277,
   "metadata": {},
   "outputs": [],
   "source": [
    "import numpy as np\n",
    "c_range = list(np.logspace(-3, 1, 256))\n",
    "param_grid = dict(C=c_range)"
   ]
  },
  {
   "cell_type": "code",
   "execution_count": 278,
   "metadata": {},
   "outputs": [
    {
     "name": "stdout",
     "output_type": "stream",
     "text": [
      "Fitting 5 folds for each of 10 candidates, totalling 50 fits\n"
     ]
    },
    {
     "name": "stderr",
     "output_type": "stream",
     "text": [
      "[Parallel(n_jobs=-1)]: Using backend LokyBackend with 8 concurrent workers.\n",
      "[Parallel(n_jobs=-1)]: Done  34 tasks      | elapsed:    4.3s\n",
      "[Parallel(n_jobs=-1)]: Done  50 out of  50 | elapsed:    4.4s finished\n",
      "/Library/Frameworks/Python.framework/Versions/3.6/lib/python3.6/site-packages/sklearn/linear_model/logistic.py:432: FutureWarning:\n",
      "\n",
      "Default solver will be changed to 'lbfgs' in 0.22. Specify a solver to silence this warning.\n",
      "\n"
     ]
    },
    {
     "data": {
      "text/plain": [
       "RandomizedSearchCV(cv=5, error_score='raise-deprecating',\n",
       "          estimator=LogisticRegression(C=1.0, class_weight=None, dual=False, fit_intercept=True,\n",
       "          intercept_scaling=1, max_iter=100, multi_class='warn',\n",
       "          n_jobs=None, penalty='l2', random_state=None, solver='warn',\n",
       "          tol=0.0001, verbose=0, warm_start=False),\n",
       "          fit_params=None, iid='warn', n_iter=10, n_jobs=-1,\n",
       "          param_distributions={'C': [0.001, 0.001036779197060366, 0.001074911103457137, 0.0011144454707535626, 0.00115543388033544, 0.0011979298107105216, 0.0012419887072831308, 0.001287668054695046, 0.0013350274518270132, 0.0013841286895587572, 0.0014350358313889448, 0.0014878152970202849, 0.0015425359490188...8.347734492114153, 8.654757464007233, 8.973072494285637, 9.303094895789918, 9.64525525623346, 10.0]},\n",
       "          pre_dispatch='2*n_jobs', random_state=None, refit=True,\n",
       "          return_train_score='warn', scoring='f1', verbose=True)"
      ]
     },
     "execution_count": 278,
     "metadata": {},
     "output_type": "execute_result"
    }
   ],
   "source": [
    "from sklearn.model_selection import train_test_split, RandomizedSearchCV, GridSearchCV\n",
    "\n",
    "grid = RandomizedSearchCV(model, param_grid, cv=5, scoring='f1', n_jobs=-1, verbose=True)\n",
    "grid.fit(X_train, y_train)"
   ]
  },
  {
   "cell_type": "code",
   "execution_count": 279,
   "metadata": {},
   "outputs": [
    {
     "name": "stdout",
     "output_type": "stream",
     "text": [
      "LogisticRegression(C=9.303094895789918, class_weight=None, dual=False,\n",
      "          fit_intercept=True, intercept_scaling=1, max_iter=100,\n",
      "          multi_class='warn', n_jobs=None, penalty='l2', random_state=None,\n",
      "          solver='warn', tol=0.0001, verbose=0, warm_start=False)\n",
      "{'C': 9.303094895789918}\n",
      "0.23151530622290856\n"
     ]
    }
   ],
   "source": [
    "print(grid.best_estimator_)\n",
    "print(grid.best_params_)\n",
    "print(grid.best_score_)"
   ]
  },
  {
   "cell_type": "markdown",
   "metadata": {},
   "source": [
    "## Optimize wrt Precision"
   ]
  },
  {
   "cell_type": "code",
   "execution_count": 308,
   "metadata": {},
   "outputs": [
    {
     "name": "stdout",
     "output_type": "stream",
     "text": [
      "Fitting 10 folds for each of 10 candidates, totalling 100 fits\n"
     ]
    },
    {
     "name": "stderr",
     "output_type": "stream",
     "text": [
      "[Parallel(n_jobs=-1)]: Using backend LokyBackend with 8 concurrent workers.\n",
      "[Parallel(n_jobs=-1)]: Done 100 out of 100 | elapsed:    0.4s finished\n",
      "/Library/Frameworks/Python.framework/Versions/3.6/lib/python3.6/site-packages/sklearn/linear_model/logistic.py:432: FutureWarning:\n",
      "\n",
      "Default solver will be changed to 'lbfgs' in 0.22. Specify a solver to silence this warning.\n",
      "\n"
     ]
    },
    {
     "data": {
      "text/plain": [
       "RandomizedSearchCV(cv=10, error_score='raise-deprecating',\n",
       "          estimator=LogisticRegression(C=1.0, class_weight='balanced', dual=False,\n",
       "          fit_intercept=True, intercept_scaling=1, max_iter=100,\n",
       "          multi_class='warn', n_jobs=None, penalty='l2', random_state=None,\n",
       "          solver='warn', tol=0.0001, verbose=0, warm_start=False),\n",
       "          fit_params=None, iid='warn', n_iter=10, n_jobs=-1,\n",
       "          param_distributions={'C': [0.001, 0.001036779197060366, 0.001074911103457137, 0.0011144454707535626, 0.00115543388033544, 0.0011979298107105216, 0.0012419887072831308, 0.001287668054695046, 0.0013350274518270132, 0.0013841286895587572, 0.0014350358313889448, 0.0014878152970202849, 0.0015425359490188...8.347734492114153, 8.654757464007233, 8.973072494285637, 9.303094895789918, 9.64525525623346, 10.0]},\n",
       "          pre_dispatch='2*n_jobs', random_state=None, refit=True,\n",
       "          return_train_score='warn', scoring='precision', verbose=True)"
      ]
     },
     "execution_count": 308,
     "metadata": {},
     "output_type": "execute_result"
    }
   ],
   "source": [
    "from sklearn.model_selection import train_test_split, RandomizedSearchCV, GridSearchCV\n",
    "\n",
    "grid = RandomizedSearchCV(model, param_grid, cv=10, scoring='precision', n_jobs=-1, verbose=True)\n",
    "grid.fit(X_train, y_train)"
   ]
  },
  {
   "cell_type": "code",
   "execution_count": 309,
   "metadata": {},
   "outputs": [
    {
     "name": "stdout",
     "output_type": "stream",
     "text": [
      "LogisticRegression(C=1.8312392912825683, class_weight='balanced', dual=False,\n",
      "          fit_intercept=True, intercept_scaling=1, max_iter=100,\n",
      "          multi_class='warn', n_jobs=None, penalty='l2', random_state=None,\n",
      "          solver='warn', tol=0.0001, verbose=0, warm_start=False)\n",
      "{'C': 1.8312392912825683}\n",
      "0.4017772967124735\n"
     ]
    }
   ],
   "source": [
    "print(grid.best_estimator_)\n",
    "print(grid.best_params_)\n",
    "print(grid.best_score_)"
   ]
  },
  {
   "cell_type": "markdown",
   "metadata": {},
   "source": [
    "## Rerunning The Found Optimal Model"
   ]
  },
  {
   "cell_type": "code",
   "execution_count": 286,
   "metadata": {},
   "outputs": [
    {
     "name": "stdout",
     "output_type": "stream",
     "text": [
      "Training Data Accuracy: 0.66\n",
      "Test Data Accuracy:     0.61\n",
      "[[202   6]\n",
      " [128   4]]\n",
      "\n",
      "\n",
      "Precision:              0.40\n",
      "Recall:                 0.03\n",
      "F1 Score:               0.0563\n"
     ]
    },
    {
     "name": "stderr",
     "output_type": "stream",
     "text": [
      "/Library/Frameworks/Python.framework/Versions/3.6/lib/python3.6/site-packages/sklearn/linear_model/logistic.py:432: FutureWarning:\n",
      "\n",
      "Default solver will be changed to 'lbfgs' in 0.22. Specify a solver to silence this warning.\n",
      "\n"
     ]
    }
   ],
   "source": [
    "model1 = linear_model.LogisticRegression(penalty='l2',C=0.27993604566431823)\n",
    "model1.fit(X_train, y_train)\n",
    "\n",
    "# accuracy for test & train:\n",
    "train_acc=model1.score(X_train, y_train)\n",
    "test_acc=model1.score(X_test,y_test)\n",
    "print(\"Training Data Accuracy: %0.2f\" %(train_acc))\n",
    "print(\"Test Data Accuracy:     %0.2f\" %(test_acc))\n",
    "\n",
    "y_true = y_test\n",
    "y_pred = model1.predict(X_test)\n",
    "\n",
    "\n",
    "conf = confusion_matrix(y_true, y_pred)\n",
    "tn, fp, fn, tp = conf.ravel()\n",
    "\n",
    "print(conf)\n",
    "\n",
    "precision = (tp / (tp + fp))\n",
    "recall = (tp / (tp + fn))\n",
    "f1_score = 2*precision*recall/(precision + recall)\n",
    "\n",
    "print ('\\n')\n",
    "print (\"Precision:              %0.2f\" % precision)\n",
    "print (\"Recall:                 %0.2f\"% recall)\n",
    "print (\"F1 Score:               %0.4f\"% f1_score)"
   ]
  },
  {
   "cell_type": "code",
   "execution_count": 287,
   "metadata": {},
   "outputs": [
    {
     "data": {
      "text/plain": [
       "Text(0,0.5,'TPR')"
      ]
     },
     "execution_count": 287,
     "metadata": {},
     "output_type": "execute_result"
    },
    {
     "data": {
      "image/png": "[encoded data removed]",
      "text/plain": [
       "<Figure size 432x288 with 1 Axes>"
      ]
     },
     "metadata": {
      "needs_background": "light"
     },
     "output_type": "display_data"
    }
   ],
   "source": [
    "#Make this into a function to generate a ROC curve\n",
    "y_score=model1.predict_proba(X_test)[:,1]\n",
    "\n",
    "FPR, TPR, thresholds = roc_curve(y_test, y_score)\n",
    "roc_auc = auc(FPR, TPR)\n",
    "\n",
    "plt.figure()\n",
    "# Plotting our Baseline..\n",
    "plt.plot([0,1],[0,1])\n",
    "plt.plot(FPR,TPR)\n",
    "plt.title('ROC Curve')\n",
    "plt.xlabel('FPR')\n",
    "plt.ylabel('TPR')"
   ]
  },
  {
   "cell_type": "markdown",
   "metadata": {},
   "source": [
    "## Testing SVM"
   ]
  },
  {
   "cell_type": "markdown",
   "metadata": {},
   "source": [
    "from sklearn import svm\n",
    "\n",
    "model_svm = svm.SVC(kernel='linear')\n",
    "model_svm.fit(X_train, y_train)"
   ]
  },
  {
   "cell_type": "markdown",
   "metadata": {},
   "source": [
    "\n",
    "y_pred = model_svm.predict(X_test)\n",
    "accuracy_score(y_test,y_pred)\n",
    "\n",
    "conf = confusion_matrix(y_true, y_pred)\n",
    "tn, fp, fn, tp = conf.ravel()\n",
    "\n",
    "print(conf)\n",
    "\n",
    "precision = (tp / (tp + fp))\n",
    "recall = (tp / (tp + fn))\n",
    "f1_score = 2*precision*recall/(precision + recall)\n",
    "\n",
    "print ('\\n')\n",
    "print (\"Precision:              %0.2f\" % precision)\n",
    "print (\"Recall:                 %0.2f\" % recall)\n",
    "print (\"F1 Score:               %0.4f\" % f1_score)"
   ]
  },
  {
   "cell_type": "markdown",
   "metadata": {},
   "source": [
    "## Testing A Decision Tree"
   ]
  },
  {
   "cell_type": "code",
   "execution_count": 288,
   "metadata": {},
   "outputs": [
    {
     "data": {
      "text/plain": [
       "Index(['Advertising', 'Analytics', 'Big Data', 'Biotechnology',\n",
       "       'Clean Technology', 'Cloud Computing', 'Curated Web', 'E-Commerce',\n",
       "       'Education', 'Enterprise Software', 'Finance', 'Games',\n",
       "       'Hardware + Software', 'Health Care', 'Health and Wellness',\n",
       "       'Internet of Things', 'Mobile', 'Music', 'News', 'Other_market',\n",
       "       'Photography', 'Real Estate', 'SaaS', 'Search', 'Security',\n",
       "       'Semiconductors', 'Social Media', 'Software', 'Technology', 'Video',\n",
       "       'Web Hosting', 'Mountain View', 'Other_city', 'Palo Alto',\n",
       "       'San Francisco', 'San Jose', 'Santa Clara', 'investor_ratings',\n",
       "       'company_max_round', 'total_funding'],\n",
       "      dtype='object')"
      ]
     },
     "execution_count": 288,
     "metadata": {},
     "output_type": "execute_result"
    }
   ],
   "source": [
    "X.columns"
   ]
  },
  {
   "cell_type": "code",
   "execution_count": 289,
   "metadata": {},
   "outputs": [],
   "source": [
    "from sklearn import tree"
   ]
  },
  {
   "cell_type": "code",
   "execution_count": 290,
   "metadata": {},
   "outputs": [],
   "source": [
    "model_tree = tree.DecisionTreeClassifier(max_depth=5)"
   ]
  },
  {
   "cell_type": "code",
   "execution_count": 291,
   "metadata": {},
   "outputs": [
    {
     "data": {
      "text/plain": [
       "DecisionTreeClassifier(class_weight=None, criterion='gini', max_depth=5,\n",
       "            max_features=None, max_leaf_nodes=None,\n",
       "            min_impurity_decrease=0.0, min_impurity_split=None,\n",
       "            min_samples_leaf=1, min_samples_split=2,\n",
       "            min_weight_fraction_leaf=0.0, presort=False, random_state=None,\n",
       "            splitter='best')"
      ]
     },
     "execution_count": 291,
     "metadata": {},
     "output_type": "execute_result"
    }
   ],
   "source": [
    "model_tree.fit(X_train,y_train)"
   ]
  },
  {
   "cell_type": "code",
   "execution_count": 292,
   "metadata": {},
   "outputs": [
    {
     "name": "stdout",
     "output_type": "stream",
     "text": [
      "Training Data Accuracy: 0.68\n",
      "Test Data Accuracy:     0.56\n",
      "[[152  56]\n",
      " [ 92  40]]\n",
      "\n",
      "\n",
      "Precision:              0.42\n",
      "Recall:                 0.30\n",
      "F1 Score:               0.3509\n"
     ]
    }
   ],
   "source": [
    "# accuracy for test & train:\n",
    "train_acc=model_tree.score(X_train, y_train)\n",
    "test_acc=model_tree.score(X_test,y_test)\n",
    "print(\"Training Data Accuracy: %0.2f\" %(train_acc))\n",
    "print(\"Test Data Accuracy:     %0.2f\" %(test_acc))\n",
    "\n",
    "y_pred = model_tree.predict(X_test)\n",
    "\n",
    "conf = confusion_matrix(y_true, y_pred)\n",
    "tn, fp, fn, tp = conf.ravel()\n",
    "\n",
    "print(conf)\n",
    "\n",
    "precision = (tp / (tp + fp))\n",
    "recall = (tp / (tp + fn))\n",
    "f1_score = 2*precision*recall/(precision + recall)\n",
    "\n",
    "print ('\\n')\n",
    "print (\"Precision:              %0.2f\" % precision)\n",
    "print (\"Recall:                 %0.2f\" % recall)\n",
    "print (\"F1 Score:               %0.4f\" % f1_score)"
   ]
  },
  {
   "cell_type": "code",
   "execution_count": 293,
   "metadata": {},
   "outputs": [
    {
     "data": {
      "text/plain": [
       "Text(0,0.5,'TPR')"
      ]
     },
     "execution_count": 293,
     "metadata": {},
     "output_type": "execute_result"
    },
    {
     "data": {
      "image/png": "[encoded data removed]",
      "text/plain": [
       "<Figure size 432x288 with 1 Axes>"
      ]
     },
     "metadata": {
      "needs_background": "light"
     },
     "output_type": "display_data"
    }
   ],
   "source": [
    "#Make this into a function to generate a ROC curve\n",
    "y_score=model_tree.predict_proba(X_test)[:,1]\n",
    "\n",
    "FPR, TPR, thresholds = roc_curve(y_test, y_score)\n",
    "roc_auc = auc(FPR, TPR)\n",
    "\n",
    "plt.figure()\n",
    "# Plotting our Baseline..\n",
    "plt.plot([0,1],[0,1])\n",
    "plt.plot(FPR,TPR)\n",
    "plt.title('ROC Curve')\n",
    "plt.xlabel('FPR')\n",
    "plt.ylabel('TPR')"
   ]
  },
  {
   "cell_type": "code",
   "execution_count": null,
   "metadata": {},
   "outputs": [],
   "source": []
  }
 ],
 "metadata": {
  "kernelspec": {
   "display_name": "Python 3",
   "language": "python",
   "name": "python3"
  },
  "language_info": {
   "codemirror_mode": {
    "name": "ipython",
    "version": 3
   },
   "file_extension": ".py",
   "mimetype": "text/x-python",
   "name": "python",
   "nbconvert_exporter": "python",
   "pygments_lexer": "ipython3",
   "version": "3.6.5"
  }
 },
 "nbformat": 4,
 "nbformat_minor": 2
}
