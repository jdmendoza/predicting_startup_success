{
 "cells": [
  {
   "cell_type": "code",
   "execution_count": 1,
   "metadata": {},
   "outputs": [],
   "source": [
    "import pandas as pd\n",
    "import matplotlib.pyplot as plt\n",
    "\n",
    "%matplotlib inline"
   ]
  },
  {
   "cell_type": "markdown",
   "metadata": {},
   "source": [
    "### Dropping columns with Nan"
   ]
  },
  {
   "cell_type": "markdown",
   "metadata": {},
   "source": [
    "xls = pd.ExcelFile('crunchbase_monthly_export_d43b4klo2ade53.xlsx')\n",
    "\n",
    "df1 = pd.read_excel(xls, 'Investments')\n",
    "\n",
    "df1 = df1[(df1['company_region'] == 'SF Bay Area')]\n",
    "\n",
    "df1 = df1[(df1['funded_year'] >= 2004)]\n",
    "\n",
    "print(df1.shape)\n",
    "\n",
    "df1 = df1[df1['raised_amount_usd'].isna() == False]\n",
    "\n",
    "df1 = df1[df1['company_name'].isna() == False]\n",
    "\n",
    "print(df1.shape)"
   ]
  },
  {
   "cell_type": "markdown",
   "metadata": {},
   "source": [
    "### Dated Code\n",
    "\n",
    "xls = pd.ExcelFile('crunchbase_monthly_export_d43b4klo2ade53.xlsx')\n",
    "\n",
    "df1 = pd.read_excel(xls, 'Investments')\n",
    "\n",
    "df1 = df1[(df1['company_region'] == 'SF Bay Area')]\n",
    "\n",
    "df1 = df1[(df1['funded_year'] >= 2004)]\n",
    "\n",
    "print(df1.shape)\n",
    "\n",
    "df1 = df1[df1['raised_amount_usd'].isna() == False]\n",
    "\n",
    "df1 = df1[df1['company_name'].isna() == False]\n",
    "\n",
    "print(df1.shape)\n"
   ]
  },
  {
   "cell_type": "markdown",
   "metadata": {},
   "source": [
    "### What Years Are Represented?"
   ]
  },
  {
   "cell_type": "code",
   "execution_count": 2,
   "metadata": {},
   "outputs": [],
   "source": [
    "df1 = pd.read_csv('startups_sf_2004-14_data.csv')"
   ]
  },
  {
   "cell_type": "code",
   "execution_count": 3,
   "metadata": {},
   "outputs": [
    {
     "data": {
      "text/html": [
       "<div>\n",
       "<style scoped>\n",
       "    .dataframe tbody tr th:only-of-type {\n",
       "        vertical-align: middle;\n",
       "    }\n",
       "\n",
       "    .dataframe tbody tr th {\n",
       "        vertical-align: top;\n",
       "    }\n",
       "\n",
       "    .dataframe thead th {\n",
       "        text-align: right;\n",
       "    }\n",
       "</style>\n",
       "<table border=\"1\" class=\"dataframe\">\n",
       "  <thead>\n",
       "    <tr style=\"text-align: right;\">\n",
       "      <th></th>\n",
       "      <th>company_permalink</th>\n",
       "      <th>company_name</th>\n",
       "      <th>company_category_list</th>\n",
       "      <th>company_market</th>\n",
       "      <th>company_country_code</th>\n",
       "      <th>company_state_code</th>\n",
       "      <th>company_region</th>\n",
       "      <th>company_city</th>\n",
       "      <th>investor_permalink</th>\n",
       "      <th>fILIPPO Murroni</th>\n",
       "      <th>...</th>\n",
       "      <th>investor_region</th>\n",
       "      <th>investor_city</th>\n",
       "      <th>funding_round_permalink</th>\n",
       "      <th>funding_round_type</th>\n",
       "      <th>funding_round_code</th>\n",
       "      <th>funded_at</th>\n",
       "      <th>funded_month</th>\n",
       "      <th>funded_quarter</th>\n",
       "      <th>funded_year</th>\n",
       "      <th>raised_amount_usd</th>\n",
       "    </tr>\n",
       "  </thead>\n",
       "  <tbody>\n",
       "    <tr>\n",
       "      <th>0</th>\n",
       "      <td>/organization/virtuallogix</td>\n",
       "      <td>VirtualLogix</td>\n",
       "      <td>|Mobile|Virtualization|Software|</td>\n",
       "      <td>Software</td>\n",
       "      <td>USA</td>\n",
       "      <td>CA</td>\n",
       "      <td>SF Bay Area</td>\n",
       "      <td>Sunnyvale</td>\n",
       "      <td>/organization/atlas-venture</td>\n",
       "      <td>Atlas Venture</td>\n",
       "      <td>...</td>\n",
       "      <td>Boston</td>\n",
       "      <td>Cambridge</td>\n",
       "      <td>/funding-round/8534a4893af02254af3104fa91a4cdbf</td>\n",
       "      <td>venture</td>\n",
       "      <td>A</td>\n",
       "      <td>2004-01-01</td>\n",
       "      <td>2004-01</td>\n",
       "      <td>2004-Q1</td>\n",
       "      <td>2004</td>\n",
       "      <td>12000000.0</td>\n",
       "    </tr>\n",
       "    <tr>\n",
       "      <th>1</th>\n",
       "      <td>/organization/virtuallogix</td>\n",
       "      <td>VirtualLogix</td>\n",
       "      <td>|Mobile|Virtualization|Software|</td>\n",
       "      <td>Software</td>\n",
       "      <td>USA</td>\n",
       "      <td>CA</td>\n",
       "      <td>SF Bay Area</td>\n",
       "      <td>Sunnyvale</td>\n",
       "      <td>/organization/cisco</td>\n",
       "      <td>Cisco</td>\n",
       "      <td>...</td>\n",
       "      <td>SF Bay Area</td>\n",
       "      <td>San Jose</td>\n",
       "      <td>/funding-round/8534a4893af02254af3104fa91a4cdbf</td>\n",
       "      <td>venture</td>\n",
       "      <td>A</td>\n",
       "      <td>2004-01-01</td>\n",
       "      <td>2004-01</td>\n",
       "      <td>2004-Q1</td>\n",
       "      <td>2004</td>\n",
       "      <td>12000000.0</td>\n",
       "    </tr>\n",
       "    <tr>\n",
       "      <th>2</th>\n",
       "      <td>/organization/deem</td>\n",
       "      <td>Deem</td>\n",
       "      <td>|Trading|Marketplaces|Content Syndication|Prod...</td>\n",
       "      <td>E-Commerce</td>\n",
       "      <td>USA</td>\n",
       "      <td>CA</td>\n",
       "      <td>SF Bay Area</td>\n",
       "      <td>San Francisco</td>\n",
       "      <td>/organization/empire-capital-partners</td>\n",
       "      <td>Empire Capital Partners</td>\n",
       "      <td>...</td>\n",
       "      <td>Hartford</td>\n",
       "      <td>Westport</td>\n",
       "      <td>/funding-round/dc687f1c43ce40715ec25416113fbd62</td>\n",
       "      <td>venture</td>\n",
       "      <td>NaN</td>\n",
       "      <td>2004-01-01</td>\n",
       "      <td>2004-01</td>\n",
       "      <td>2004-Q1</td>\n",
       "      <td>2004</td>\n",
       "      <td>42000000.0</td>\n",
       "    </tr>\n",
       "    <tr>\n",
       "      <th>3</th>\n",
       "      <td>/organization/deem</td>\n",
       "      <td>Deem</td>\n",
       "      <td>|Trading|Marketplaces|Content Syndication|Prod...</td>\n",
       "      <td>E-Commerce</td>\n",
       "      <td>USA</td>\n",
       "      <td>CA</td>\n",
       "      <td>SF Bay Area</td>\n",
       "      <td>San Francisco</td>\n",
       "      <td>/organization/foundation-capital</td>\n",
       "      <td>Foundation Capital</td>\n",
       "      <td>...</td>\n",
       "      <td>SF Bay Area</td>\n",
       "      <td>Menlo Park</td>\n",
       "      <td>/funding-round/dc687f1c43ce40715ec25416113fbd62</td>\n",
       "      <td>venture</td>\n",
       "      <td>NaN</td>\n",
       "      <td>2004-01-01</td>\n",
       "      <td>2004-01</td>\n",
       "      <td>2004-Q1</td>\n",
       "      <td>2004</td>\n",
       "      <td>42000000.0</td>\n",
       "    </tr>\n",
       "  </tbody>\n",
       "</table>\n",
       "<p>4 rows × 24 columns</p>\n",
       "</div>"
      ],
      "text/plain": [
       "            company_permalink  company_name  \\\n",
       "0  /organization/virtuallogix  VirtualLogix   \n",
       "1  /organization/virtuallogix  VirtualLogix   \n",
       "2          /organization/deem          Deem   \n",
       "3          /organization/deem          Deem   \n",
       "\n",
       "                               company_category_list company_market  \\\n",
       "0                   |Mobile|Virtualization|Software|       Software   \n",
       "1                   |Mobile|Virtualization|Software|       Software   \n",
       "2  |Trading|Marketplaces|Content Syndication|Prod...     E-Commerce   \n",
       "3  |Trading|Marketplaces|Content Syndication|Prod...     E-Commerce   \n",
       "\n",
       "  company_country_code company_state_code company_region   company_city  \\\n",
       "0                  USA                 CA    SF Bay Area      Sunnyvale   \n",
       "1                  USA                 CA    SF Bay Area      Sunnyvale   \n",
       "2                  USA                 CA    SF Bay Area  San Francisco   \n",
       "3                  USA                 CA    SF Bay Area  San Francisco   \n",
       "\n",
       "                      investor_permalink          fILIPPO Murroni  \\\n",
       "0            /organization/atlas-venture            Atlas Venture   \n",
       "1                    /organization/cisco                    Cisco   \n",
       "2  /organization/empire-capital-partners  Empire Capital Partners   \n",
       "3       /organization/foundation-capital       Foundation Capital   \n",
       "\n",
       "         ...        investor_region investor_city  \\\n",
       "0        ...                 Boston     Cambridge   \n",
       "1        ...            SF Bay Area      San Jose   \n",
       "2        ...               Hartford      Westport   \n",
       "3        ...            SF Bay Area    Menlo Park   \n",
       "\n",
       "                           funding_round_permalink funding_round_type  \\\n",
       "0  /funding-round/8534a4893af02254af3104fa91a4cdbf            venture   \n",
       "1  /funding-round/8534a4893af02254af3104fa91a4cdbf            venture   \n",
       "2  /funding-round/dc687f1c43ce40715ec25416113fbd62            venture   \n",
       "3  /funding-round/dc687f1c43ce40715ec25416113fbd62            venture   \n",
       "\n",
       "  funding_round_code   funded_at funded_month funded_quarter funded_year  \\\n",
       "0                  A  2004-01-01      2004-01        2004-Q1        2004   \n",
       "1                  A  2004-01-01      2004-01        2004-Q1        2004   \n",
       "2                NaN  2004-01-01      2004-01        2004-Q1        2004   \n",
       "3                NaN  2004-01-01      2004-01        2004-Q1        2004   \n",
       "\n",
       "  raised_amount_usd  \n",
       "0        12000000.0  \n",
       "1        12000000.0  \n",
       "2        42000000.0  \n",
       "3        42000000.0  \n",
       "\n",
       "[4 rows x 24 columns]"
      ]
     },
     "execution_count": 3,
     "metadata": {},
     "output_type": "execute_result"
    }
   ],
   "source": [
    "df1.head(4)"
   ]
  },
  {
   "cell_type": "code",
   "execution_count": 4,
   "metadata": {},
   "outputs": [
    {
     "data": {
      "text/plain": [
       "[2004, 2005, 2006, 2007, 2008, 2009, 2010, 2011, 2012, 2013, 2014]"
      ]
     },
     "execution_count": 4,
     "metadata": {},
     "output_type": "execute_result"
    }
   ],
   "source": [
    "sorted(list(df1['funded_year'].unique()))"
   ]
  },
  {
   "cell_type": "code",
   "execution_count": 5,
   "metadata": {},
   "outputs": [],
   "source": [
    "grouped_df1 = df1.groupby(['company_name'])['raised_amount_usd']"
   ]
  },
  {
   "cell_type": "code",
   "execution_count": 6,
   "metadata": {},
   "outputs": [],
   "source": [
    "keys = []\n",
    "funding = []\n",
    "fund_dict = {}\n",
    "for key, item in grouped_df1:\n",
    "    keys.append(key)\n",
    "    fund_dict[key] = grouped_df1.get_group(key)\n",
    "    #print(key)\n",
    "    #print(grouped_df1.get_group(key), \"\\n\")"
   ]
  },
  {
   "cell_type": "markdown",
   "metadata": {},
   "source": [
    "## Looking at 23andMe, just because it's a cool company"
   ]
  },
  {
   "cell_type": "code",
   "execution_count": 7,
   "metadata": {
    "scrolled": true
   },
   "outputs": [
    {
     "data": {
      "image/png": "[encoded data removed]",
      "text/plain": [
       "<Figure size 432x288 with 1 Axes>"
      ]
     },
     "metadata": {
      "needs_background": "light"
     },
     "output_type": "display_data"
    }
   ],
   "source": [
    "plt.bar(range(len(fund_dict['23andMe'])), fund_dict['23andMe']/1e6)\n",
    "plt.title('23andMe Funding')\n",
    "plt.xlabel('Funding Index')\n",
    "plt.ylabel('Millions')\n",
    "plt.show()"
   ]
  },
  {
   "cell_type": "code",
   "execution_count": 8,
   "metadata": {},
   "outputs": [
    {
     "data": {
      "text/plain": [
       "4585"
      ]
     },
     "execution_count": 8,
     "metadata": {},
     "output_type": "execute_result"
    }
   ],
   "source": [
    "len(fund_dict.keys())"
   ]
  },
  {
   "cell_type": "markdown",
   "metadata": {},
   "source": [
    "## Looking Into Most Funded Markets"
   ]
  },
  {
   "cell_type": "code",
   "execution_count": 9,
   "metadata": {},
   "outputs": [],
   "source": [
    "grouped_df2 = df1.groupby(['company_market'])['raised_amount_usd']"
   ]
  },
  {
   "cell_type": "code",
   "execution_count": 10,
   "metadata": {},
   "outputs": [],
   "source": [
    "keys_market = []\n",
    "funding = []\n",
    "market_dict = {}\n",
    "for key, item in grouped_df2:\n",
    "    keys_market.append(key)\n",
    "    market_dict[key] = sum(grouped_df2.get_group(key))\n",
    "    #print(key)\n",
    "    #print(grouped_df2.get_group(key), \"\\n\")"
   ]
  },
  {
   "cell_type": "code",
   "execution_count": 11,
   "metadata": {},
   "outputs": [
    {
     "name": "stdout",
     "output_type": "stream",
     "text": [
      "['Biotechnology', 'Software', 'Clean Technology', 'Health Care', 'Enterprise Software', 'Semiconductors', 'Transportation', 'Curated Web', 'Mobile', 'Analytics', 'Technology', 'Advertising', 'Hardware + Software', 'Games', 'Security', 'E-Commerce', 'Web Hosting', 'Cloud Data Services', 'Solar', 'Storage']\n"
     ]
    }
   ],
   "source": [
    "from heapq import nlargest\n",
    "largest = nlargest(20, market_dict, key=market_dict.get)\n",
    "print(largest) "
   ]
  },
  {
   "cell_type": "code",
   "execution_count": 12,
   "metadata": {},
   "outputs": [
    {
     "data": {
      "image/png": "[encoded data removed]",
      "text/plain": [
       "<Figure size 432x288 with 1 Axes>"
      ]
     },
     "metadata": {
      "needs_background": "light"
     },
     "output_type": "display_data"
    }
   ],
   "source": [
    "plt.bar(largest,[market_dict[x]/1e9 for x in largest])\n",
    "plt.xticks(rotation='vertical')\n",
    "plt.show()"
   ]
  },
  {
   "cell_type": "code",
   "execution_count": 13,
   "metadata": {},
   "outputs": [],
   "source": [
    "#print(df_rp['raised_amount_usd'].sum()/1e6,\"million\")"
   ]
  },
  {
   "cell_type": "code",
   "execution_count": 14,
   "metadata": {},
   "outputs": [],
   "source": [
    "grouped_df3 = df1.groupby(['funding_round_code'])['raised_amount_usd']"
   ]
  },
  {
   "cell_type": "markdown",
   "metadata": {},
   "source": [
    "## Average Funding Per Round"
   ]
  },
  {
   "cell_type": "code",
   "execution_count": 15,
   "metadata": {},
   "outputs": [],
   "source": [
    "keys_funding_round_code = []\n",
    "funding_round_dict = {}\n",
    "for key, item in grouped_df3:\n",
    "    keys_funding_round_code.append(key)\n",
    "    funding_round_dict[key] = sum(grouped_df3.get_group(key))/len(grouped_df3.get_group(key))\n",
    "    #print(key)\n",
    "    #print(grouped_df2.get_group(key), \"\\n\")"
   ]
  },
  {
   "cell_type": "code",
   "execution_count": 16,
   "metadata": {},
   "outputs": [
    {
     "name": "stdout",
     "output_type": "stream",
     "text": [
      "dict_keys(['A', 'B', 'C', 'D', 'E', 'F', 'G', 'H'])\n"
     ]
    },
    {
     "data": {
      "text/plain": [
       "dict_values([7207014.403003107, 17139449.768692117, 24654974.959298685, 36226887.297698945, 37544372.876777254, 50240607.07931034, 74752909.9361702, 50000000.0])"
      ]
     },
     "execution_count": 16,
     "metadata": {},
     "output_type": "execute_result"
    }
   ],
   "source": [
    "print(funding_round_dict.keys())\n",
    "funding_round_dict.values()"
   ]
  },
  {
   "cell_type": "code",
   "execution_count": 17,
   "metadata": {},
   "outputs": [
    {
     "data": {
      "image/png": "[encoded data removed]",
      "text/plain": [
       "<Figure size 432x288 with 1 Axes>"
      ]
     },
     "metadata": {
      "needs_background": "light"
     },
     "output_type": "display_data"
    }
   ],
   "source": [
    "plt.bar(funding_round_dict.keys(),funding_round_dict.values())\n",
    "plt.xticks(rotation='vertical')\n",
    "plt.xlabel('Funding Round')\n",
    "plt.ylabel('Investment')\n",
    "plt.title('Funding Round Size Between 2004-2014')\n",
    "plt.show()"
   ]
  },
  {
   "cell_type": "markdown",
   "metadata": {},
   "source": [
    "Number of startups who achieved funding"
   ]
  },
  {
   "cell_type": "code",
   "execution_count": 18,
   "metadata": {},
   "outputs": [],
   "source": [
    "grouped_df4 = df1.groupby(['funding_round_code'])['company_name']"
   ]
  },
  {
   "cell_type": "code",
   "execution_count": 19,
   "metadata": {},
   "outputs": [],
   "source": [
    "keys_funding_name_code = []\n",
    "funding_name_dict = {}\n",
    "for key, item in grouped_df4:\n",
    "    keys_funding_name_code.append(key)\n",
    "    funding_name_dict[key] = grouped_df4.get_group(key)\n",
    "    #print(key)\n",
    "    #print(grouped_df2.get_group(key), \"\\n\")"
   ]
  },
  {
   "cell_type": "code",
   "execution_count": 20,
   "metadata": {},
   "outputs": [
    {
     "data": {
      "text/plain": [
       "dict_keys(['A', 'B', 'C', 'D', 'E', 'F', 'G', 'H'])"
      ]
     },
     "execution_count": 20,
     "metadata": {},
     "output_type": "execute_result"
    }
   ],
   "source": [
    "funding_name_dict.keys()"
   ]
  },
  {
   "cell_type": "code",
   "execution_count": 21,
   "metadata": {},
   "outputs": [],
   "source": [
    "funding_name_dict.values();"
   ]
  },
  {
   "cell_type": "code",
   "execution_count": 22,
   "metadata": {},
   "outputs": [],
   "source": [
    "funding_counts = []\n",
    "for alpha in funding_name_dict.keys():\n",
    "    funding_counts.append(sum([1 for x in funding_name_dict[alpha]]))"
   ]
  },
  {
   "cell_type": "code",
   "execution_count": 23,
   "metadata": {},
   "outputs": [
    {
     "data": {
      "image/png": "[encoded data removed]",
      "text/plain": [
       "<Figure size 432x288 with 1 Axes>"
      ]
     },
     "metadata": {
      "needs_background": "light"
     },
     "output_type": "display_data"
    }
   ],
   "source": [
    "plt.bar(funding_name_dict.keys(),funding_counts)\n",
    "plt.xticks(rotation='vertical')\n",
    "plt.xlabel('Funding Round')\n",
    "plt.ylabel('Achived Funding')\n",
    "plt.title('Start Ups With Funding Between 2004-2014')\n",
    "plt.show()"
   ]
  },
  {
   "cell_type": "markdown",
   "metadata": {},
   "source": [
    "## Companies With The Most Funding"
   ]
  },
  {
   "cell_type": "code",
   "execution_count": 24,
   "metadata": {},
   "outputs": [],
   "source": [
    "grouped_df5 = df1.groupby(['company_name'])['raised_amount_usd']"
   ]
  },
  {
   "cell_type": "code",
   "execution_count": 25,
   "metadata": {},
   "outputs": [],
   "source": [
    "keys_funding_company_code = []\n",
    "funding_company_dict = {}\n",
    "for key, item in grouped_df5:\n",
    "    keys_funding_company_code.append(key)\n",
    "    funding_company_dict[key] = sum(grouped_df5.get_group(key))\n",
    "    #print(key)\n",
    "    #print(grouped_df2.get_group(key), \"\\n\")"
   ]
  },
  {
   "cell_type": "code",
   "execution_count": 26,
   "metadata": {},
   "outputs": [],
   "source": [
    "funding_company_dict;"
   ]
  },
  {
   "cell_type": "code",
   "execution_count": 27,
   "metadata": {},
   "outputs": [
    {
     "name": "stdout",
     "output_type": "stream",
     "text": [
      "['Uber', 'Nanosolar', 'Dropbox', 'Facebook', 'Pinterest', 'Twitter', 'Pure Storage', 'Box', 'Airbnb', 'Zynga', 'SurveyMonkey', 'Bloom Energy', 'Lyft', 'Pacific Biosciences', 'CardioDx', 'BrightSource Energy', 'Better Place', 'Square', 'InVitae', 'Cloudera']\n"
     ]
    }
   ],
   "source": [
    "most_funded_companies = nlargest(20, funding_company_dict, key=funding_company_dict.get)\n",
    "print(most_funded_companies) "
   ]
  },
  {
   "cell_type": "code",
   "execution_count": 28,
   "metadata": {},
   "outputs": [
    {
     "data": {
      "image/png": "[encoded data removed]",
      "text/plain": [
       "<Figure size 432x288 with 1 Axes>"
      ]
     },
     "metadata": {
      "needs_background": "light"
     },
     "output_type": "display_data"
    }
   ],
   "source": [
    "plt.bar(most_funded_companies,[funding_company_dict[x]/1e9 for x in most_funded_companies])\n",
    "plt.xticks(rotation='vertical')\n",
    "plt.xlabel('Funding Round')\n",
    "plt.ylabel('Achived Funding (Billions)')\n",
    "plt.title('Start Ups With Funding Between 2004-2014')\n",
    "plt.show()"
   ]
  },
  {
   "cell_type": "code",
   "execution_count": 29,
   "metadata": {},
   "outputs": [
    {
     "data": {
      "text/plain": [
       "Index(['company_permalink', 'company_name', 'company_category_list',\n",
       "       'company_market', 'company_country_code', 'company_state_code',\n",
       "       'company_region', 'company_city', 'investor_permalink',\n",
       "       'fILIPPO Murroni', 'investor_category_list', 'investor_market',\n",
       "       'investor_country_code', 'investor_state_code', 'investor_region',\n",
       "       'investor_city', 'funding_round_permalink', 'funding_round_type',\n",
       "       'funding_round_code', 'funded_at', 'funded_month', 'funded_quarter',\n",
       "       'funded_year', 'raised_amount_usd'],\n",
       "      dtype='object')"
      ]
     },
     "execution_count": 29,
     "metadata": {},
     "output_type": "execute_result"
    }
   ],
   "source": [
    "df1.columns"
   ]
  },
  {
   "cell_type": "code",
   "execution_count": 30,
   "metadata": {},
   "outputs": [],
   "source": [
    "df_base = df1[['company_name','company_market','company_city']]\n",
    "df_base.drop_duplicates();"
   ]
  },
  {
   "cell_type": "code",
   "execution_count": 31,
   "metadata": {},
   "outputs": [
    {
     "data": {
      "text/plain": [
       "<bound method DataFrame.reset_index of                 company_name         company_market   company_city\n",
       "2                       Deem             E-Commerce  San Francisco\n",
       "3                       Deem             E-Commerce  San Francisco\n",
       "6                  PlayFirst                  Games  San Francisco\n",
       "8                       Deem             E-Commerce  San Francisco\n",
       "11                 PlayFirst                  Games  San Francisco\n",
       "13                      Deem             E-Commerce  San Francisco\n",
       "14                      Deem             E-Commerce  San Francisco\n",
       "15               Soundflavor                  Music  San Francisco\n",
       "16               Soundflavor                  Music  San Francisco\n",
       "21                      Deem             E-Commerce  San Francisco\n",
       "22                      Deem             E-Commerce  San Francisco\n",
       "42                 Mobissimo                 Travel  San Francisco\n",
       "43                 Mobissimo                 Travel  San Francisco\n",
       "48                 Mobissimo                 Travel  San Francisco\n",
       "80             Fathom Online            Advertising  San Francisco\n",
       "90           AllBusiness.com            Curated Web  San Francisco\n",
       "91                      Yelp       Customer Service  San Francisco\n",
       "115               Craigslist            Curated Web  San Francisco\n",
       "119               Technorati            Advertising  San Francisco\n",
       "121                    imeem            Photography  San Francisco\n",
       "123                    imeem            Photography  San Francisco\n",
       "124                  adBrite             Publishing  San Francisco\n",
       "142               Linden Lab                  Games  San Francisco\n",
       "143               Linden Lab                  Games  San Francisco\n",
       "144               Linden Lab                  Games  San Francisco\n",
       "145               Linden Lab                  Games  San Francisco\n",
       "146               Linden Lab                  Games  San Francisco\n",
       "147                Switchfly               Software  San Francisco\n",
       "148                Switchfly               Software  San Francisco\n",
       "152                Switchfly               Software  San Francisco\n",
       "...                      ...                    ...            ...\n",
       "29176                VigLink           Monetization  San Francisco\n",
       "29178               Mobilize  Productivity Software  San Francisco\n",
       "29180               Scripted            Freelancers  San Francisco\n",
       "29182               Scripted            Freelancers  San Francisco\n",
       "29186                Feastly               Internet  San Francisco\n",
       "29187               Mobilize  Productivity Software  San Francisco\n",
       "29188               Mobilize  Productivity Software  San Francisco\n",
       "29189               Purse.IO                Bitcoin  San Francisco\n",
       "29190               Purse.IO                Bitcoin  San Francisco\n",
       "29191               Purse.IO                Bitcoin  San Francisco\n",
       "29192               Purse.IO                Bitcoin  San Francisco\n",
       "29193               Purse.IO                Bitcoin  San Francisco\n",
       "29194               Purse.IO                Bitcoin  San Francisco\n",
       "29203                   Beep   Consumer Electronics  San Francisco\n",
       "29204                   Beep   Consumer Electronics  San Francisco\n",
       "29205                   Beep   Consumer Electronics  San Francisco\n",
       "29206                   Beep   Consumer Electronics  San Francisco\n",
       "29207                   Beep   Consumer Electronics  San Francisco\n",
       "29208                   Beep   Consumer Electronics  San Francisco\n",
       "29209                   Beep   Consumer Electronics  San Francisco\n",
       "29210  Audentes Therapeutics          Biotechnology  San Francisco\n",
       "29211     Cognitive Networks      Image Recognition  San Francisco\n",
       "29212  Audentes Therapeutics          Biotechnology  San Francisco\n",
       "29213     Cognitive Networks      Image Recognition  San Francisco\n",
       "29214  Audentes Therapeutics          Biotechnology  San Francisco\n",
       "29215     Cognitive Networks      Image Recognition  San Francisco\n",
       "29216  Audentes Therapeutics          Biotechnology  San Francisco\n",
       "29217                 InMobi                 Mobile  San Francisco\n",
       "29218  Audentes Therapeutics          Biotechnology  San Francisco\n",
       "29219  Audentes Therapeutics          Biotechnology  San Francisco\n",
       "\n",
       "[12832 rows x 3 columns]>"
      ]
     },
     "execution_count": 31,
     "metadata": {},
     "output_type": "execute_result"
    }
   ],
   "source": [
    "df_base = df_base[df_base['company_city']=='San Francisco'];\n",
    "df_base.reset_index;"
   ]
  },
  {
   "cell_type": "markdown",
   "metadata": {},
   "source": [
    "## Bringing In Aquisition Data"
   ]
  },
  {
   "cell_type": "code",
   "execution_count": 32,
   "metadata": {},
   "outputs": [],
   "source": [
    "# Create a dataframe of all acquisitions\n",
    "df_acq = pd.read_csv('acquisitions_data.csv')\n",
    "\n",
    "# List of all companies that have been acquired\n",
    "acquired_list = list(df_acq['company_name'])"
   ]
  },
  {
   "cell_type": "code",
   "execution_count": 33,
   "metadata": {},
   "outputs": [],
   "source": [
    "# Function to check whether a company has been acquired or not.\n",
    "\n",
    "def acquired_check(i):\n",
    "    if i in acquired_list:\n",
    "        return 1\n",
    "    else: \n",
    "        return 0"
   ]
  },
  {
   "cell_type": "code",
   "execution_count": 34,
   "metadata": {},
   "outputs": [
    {
     "name": "stdout",
     "output_type": "stream",
     "text": [
      "(12832,)\n"
     ]
    }
   ],
   "source": [
    "target = df_base['company_name'].map(acquired_check);\n",
    "print(target.shape)"
   ]
  },
  {
   "cell_type": "code",
   "execution_count": 35,
   "metadata": {},
   "outputs": [],
   "source": [
    "df_base.reset_index;"
   ]
  },
  {
   "cell_type": "code",
   "execution_count": 36,
   "metadata": {},
   "outputs": [
    {
     "data": {
      "text/plain": [
       "100.0"
      ]
     },
     "execution_count": 36,
     "metadata": {},
     "output_type": "execute_result"
    }
   ],
   "source": [
    "funding_company_dict['VirtualLogix']/1e6"
   ]
  },
  {
   "cell_type": "code",
   "execution_count": 37,
   "metadata": {},
   "outputs": [],
   "source": [
    "df_base['total_funding'] = df_base['company_name'].apply(lambda x: funding_company_dict[x]/1e6)"
   ]
  },
  {
   "cell_type": "code",
   "execution_count": 38,
   "metadata": {},
   "outputs": [],
   "source": [
    "df_base = df_base.reset_index(drop=True);"
   ]
  },
  {
   "cell_type": "code",
   "execution_count": 39,
   "metadata": {},
   "outputs": [
    {
     "name": "stdout",
     "output_type": "stream",
     "text": [
      "Index(['company_name', 'company_market', 'company_city', 'total_funding'], dtype='object')\n",
      "(12832, 4)\n"
     ]
    }
   ],
   "source": [
    "print(df_base.columns)\n",
    "print(df_base.shape)"
   ]
  },
  {
   "cell_type": "code",
   "execution_count": 40,
   "metadata": {},
   "outputs": [],
   "source": [
    "df_base['company_market'].unique();"
   ]
  },
  {
   "cell_type": "markdown",
   "metadata": {},
   "source": [
    "## Finding Most Popular Cities"
   ]
  },
  {
   "cell_type": "code",
   "execution_count": 41,
   "metadata": {
    "scrolled": true
   },
   "outputs": [
    {
     "data": {
      "text/plain": [
       "Index(['San Francisco'], dtype='object')"
      ]
     },
     "execution_count": 41,
     "metadata": {},
     "output_type": "execute_result"
    }
   ],
   "source": [
    "global popular_cities \n",
    "popular_cities= df_base['company_city'].value_counts()\n",
    "popular_cities.keys()"
   ]
  },
  {
   "cell_type": "code",
   "execution_count": 42,
   "metadata": {},
   "outputs": [],
   "source": [
    "def otherizer_city(string):\n",
    "\n",
    "    if string not in popular_cities.keys()[:30]:\n",
    "        return 'Other_city'\n",
    "    else:\n",
    "        return string"
   ]
  },
  {
   "cell_type": "code",
   "execution_count": 43,
   "metadata": {},
   "outputs": [],
   "source": [
    "df_base['company_city_popular'] = df_base['company_city'].map(otherizer_city)"
   ]
  },
  {
   "cell_type": "code",
   "execution_count": 44,
   "metadata": {
    "scrolled": false
   },
   "outputs": [
    {
     "data": {
      "text/plain": [
       "count             12832\n",
       "unique                1\n",
       "top       San Francisco\n",
       "freq              12832\n",
       "Name: company_city_popular, dtype: object"
      ]
     },
     "execution_count": 44,
     "metadata": {},
     "output_type": "execute_result"
    }
   ],
   "source": [
    "df_base['company_city_popular'].describe()"
   ]
  },
  {
   "cell_type": "code",
   "execution_count": 45,
   "metadata": {},
   "outputs": [
    {
     "data": {
      "text/html": [
       "<div>\n",
       "<style scoped>\n",
       "    .dataframe tbody tr th:only-of-type {\n",
       "        vertical-align: middle;\n",
       "    }\n",
       "\n",
       "    .dataframe tbody tr th {\n",
       "        vertical-align: top;\n",
       "    }\n",
       "\n",
       "    .dataframe thead th {\n",
       "        text-align: right;\n",
       "    }\n",
       "</style>\n",
       "<table border=\"1\" class=\"dataframe\">\n",
       "  <thead>\n",
       "    <tr style=\"text-align: right;\">\n",
       "      <th></th>\n",
       "      <th>company_name</th>\n",
       "      <th>company_market</th>\n",
       "      <th>company_city</th>\n",
       "      <th>total_funding</th>\n",
       "      <th>company_city_popular</th>\n",
       "    </tr>\n",
       "  </thead>\n",
       "  <tbody>\n",
       "    <tr>\n",
       "      <th>0</th>\n",
       "      <td>Deem</td>\n",
       "      <td>E-Commerce</td>\n",
       "      <td>San Francisco</td>\n",
       "      <td>1532.68174</td>\n",
       "      <td>San Francisco</td>\n",
       "    </tr>\n",
       "    <tr>\n",
       "      <th>1</th>\n",
       "      <td>Deem</td>\n",
       "      <td>E-Commerce</td>\n",
       "      <td>San Francisco</td>\n",
       "      <td>1532.68174</td>\n",
       "      <td>San Francisco</td>\n",
       "    </tr>\n",
       "    <tr>\n",
       "      <th>2</th>\n",
       "      <td>PlayFirst</td>\n",
       "      <td>Games</td>\n",
       "      <td>San Francisco</td>\n",
       "      <td>143.06000</td>\n",
       "      <td>San Francisco</td>\n",
       "    </tr>\n",
       "    <tr>\n",
       "      <th>3</th>\n",
       "      <td>Deem</td>\n",
       "      <td>E-Commerce</td>\n",
       "      <td>San Francisco</td>\n",
       "      <td>1532.68174</td>\n",
       "      <td>San Francisco</td>\n",
       "    </tr>\n",
       "    <tr>\n",
       "      <th>4</th>\n",
       "      <td>PlayFirst</td>\n",
       "      <td>Games</td>\n",
       "      <td>San Francisco</td>\n",
       "      <td>143.06000</td>\n",
       "      <td>San Francisco</td>\n",
       "    </tr>\n",
       "    <tr>\n",
       "      <th>5</th>\n",
       "      <td>Deem</td>\n",
       "      <td>E-Commerce</td>\n",
       "      <td>San Francisco</td>\n",
       "      <td>1532.68174</td>\n",
       "      <td>San Francisco</td>\n",
       "    </tr>\n",
       "    <tr>\n",
       "      <th>6</th>\n",
       "      <td>Deem</td>\n",
       "      <td>E-Commerce</td>\n",
       "      <td>San Francisco</td>\n",
       "      <td>1532.68174</td>\n",
       "      <td>San Francisco</td>\n",
       "    </tr>\n",
       "    <tr>\n",
       "      <th>7</th>\n",
       "      <td>Soundflavor</td>\n",
       "      <td>Music</td>\n",
       "      <td>San Francisco</td>\n",
       "      <td>15.40000</td>\n",
       "      <td>San Francisco</td>\n",
       "    </tr>\n",
       "    <tr>\n",
       "      <th>8</th>\n",
       "      <td>Soundflavor</td>\n",
       "      <td>Music</td>\n",
       "      <td>San Francisco</td>\n",
       "      <td>15.40000</td>\n",
       "      <td>San Francisco</td>\n",
       "    </tr>\n",
       "    <tr>\n",
       "      <th>9</th>\n",
       "      <td>Deem</td>\n",
       "      <td>E-Commerce</td>\n",
       "      <td>San Francisco</td>\n",
       "      <td>1532.68174</td>\n",
       "      <td>San Francisco</td>\n",
       "    </tr>\n",
       "  </tbody>\n",
       "</table>\n",
       "</div>"
      ],
      "text/plain": [
       "  company_name company_market   company_city  total_funding  \\\n",
       "0         Deem     E-Commerce  San Francisco     1532.68174   \n",
       "1         Deem     E-Commerce  San Francisco     1532.68174   \n",
       "2    PlayFirst          Games  San Francisco      143.06000   \n",
       "3         Deem     E-Commerce  San Francisco     1532.68174   \n",
       "4    PlayFirst          Games  San Francisco      143.06000   \n",
       "5         Deem     E-Commerce  San Francisco     1532.68174   \n",
       "6         Deem     E-Commerce  San Francisco     1532.68174   \n",
       "7  Soundflavor          Music  San Francisco       15.40000   \n",
       "8  Soundflavor          Music  San Francisco       15.40000   \n",
       "9         Deem     E-Commerce  San Francisco     1532.68174   \n",
       "\n",
       "  company_city_popular  \n",
       "0        San Francisco  \n",
       "1        San Francisco  \n",
       "2        San Francisco  \n",
       "3        San Francisco  \n",
       "4        San Francisco  \n",
       "5        San Francisco  \n",
       "6        San Francisco  \n",
       "7        San Francisco  \n",
       "8        San Francisco  \n",
       "9        San Francisco  "
      ]
     },
     "execution_count": 45,
     "metadata": {},
     "output_type": "execute_result"
    }
   ],
   "source": [
    "df_base.head(10)"
   ]
  },
  {
   "cell_type": "code",
   "execution_count": null,
   "metadata": {},
   "outputs": [],
   "source": []
  },
  {
   "cell_type": "markdown",
   "metadata": {},
   "source": [
    "## Finding Most Popular Market"
   ]
  },
  {
   "cell_type": "code",
   "execution_count": 46,
   "metadata": {},
   "outputs": [
    {
     "data": {
      "text/plain": [
       "Index(['Software', 'Mobile', 'Curated Web', 'E-Commerce', 'Advertising',\n",
       "       'Enterprise Software', 'Social Media', 'Games', 'Health and Wellness',\n",
       "       'Analytics',\n",
       "       ...\n",
       "       'Industrial Automation', 'Families', 'Graphics', 'CAD', 'Communities',\n",
       "       'Mobile Analytics', 'Taxis', 'Shopping', 'Residential Solar',\n",
       "       'Billing'],\n",
       "      dtype='object', length=328)"
      ]
     },
     "execution_count": 46,
     "metadata": {},
     "output_type": "execute_result"
    }
   ],
   "source": [
    "global popular_markets\n",
    "popular_markets= df_base['company_market'].value_counts()\n",
    "popular_markets.keys()"
   ]
  },
  {
   "cell_type": "code",
   "execution_count": 47,
   "metadata": {},
   "outputs": [],
   "source": [
    "def otherizer_markets(string):\n",
    "\n",
    "    if string not in popular_markets.keys()[:30]:\n",
    "        return 'Other_market'\n",
    "    else:\n",
    "        return string"
   ]
  },
  {
   "cell_type": "code",
   "execution_count": 48,
   "metadata": {},
   "outputs": [],
   "source": [
    "df_base['company_market_popular'] = df_base['company_market'].map(otherizer_markets)"
   ]
  },
  {
   "cell_type": "code",
   "execution_count": 49,
   "metadata": {},
   "outputs": [
    {
     "data": {
      "text/plain": [
       "count            12832\n",
       "unique              31\n",
       "top       Other_market\n",
       "freq              5537\n",
       "Name: company_market_popular, dtype: object"
      ]
     },
     "execution_count": 49,
     "metadata": {},
     "output_type": "execute_result"
    }
   ],
   "source": [
    "df_base['company_market_popular'].describe()"
   ]
  },
  {
   "cell_type": "markdown",
   "metadata": {},
   "source": [
    "## Create Dummy Variables For Categorical Data"
   ]
  },
  {
   "cell_type": "code",
   "execution_count": 50,
   "metadata": {},
   "outputs": [],
   "source": [
    "from sklearn.preprocessing import MultiLabelBinarizer\n",
    "def bin_multi_label(dataframe,column_name):\n",
    "    data_ = dataframe[column_name].value_counts()\n",
    "\n",
    "    list_ = [[i] for i in list(dataframe[column_name])]\n",
    "\n",
    "    one_hot = MultiLabelBinarizer()\n",
    "    one_hot.fit([list(data_.index)]) \n",
    "    one_hot_data_= one_hot.transform(list_)\n",
    "\n",
    "    #print(\"Model Classes:\", one_hot.classes_)\n",
    "    model_df = pd.DataFrame(one_hot_data_,columns = one_hot.classes_)\n",
    "    #print(\"Shape is:\",model_df.shape)\n",
    "    #print(\"\\n\")\n",
    "    return one_hot, model_df"
   ]
  },
  {
   "cell_type": "code",
   "execution_count": 51,
   "metadata": {},
   "outputs": [],
   "source": [
    "mlb_market,market_df = bin_multi_label(df_base,'company_market_popular');\n",
    "#mlb_city,city_df = bin_multi_label(df_base,'company_city_popular');"
   ]
  },
  {
   "cell_type": "code",
   "execution_count": 52,
   "metadata": {},
   "outputs": [
    {
     "data": {
      "text/plain": [
       "<bound method MultiLabelBinarizer.transform of MultiLabelBinarizer(classes=None, sparse_output=False)>"
      ]
     },
     "execution_count": 52,
     "metadata": {},
     "output_type": "execute_result"
    }
   ],
   "source": [
    "mlb_market.transform"
   ]
  },
  {
   "cell_type": "code",
   "execution_count": 53,
   "metadata": {},
   "outputs": [],
   "source": [
    "#city_df.columns"
   ]
  },
  {
   "cell_type": "code",
   "execution_count": 54,
   "metadata": {},
   "outputs": [
    {
     "ename": "NameError",
     "evalue": "name 'city_df' is not defined",
     "output_type": "error",
     "traceback": [
      "\u001b[0;31m---------------------------------------------------------------------------\u001b[0m",
      "\u001b[0;31mNameError\u001b[0m                                 Traceback (most recent call last)",
      "\u001b[0;32m<ipython-input-54-8dbf880f01a3>\u001b[0m in \u001b[0;36m<module>\u001b[0;34m()\u001b[0m\n\u001b[0;32m----> 1\u001b[0;31m \u001b[0mprint\u001b[0m\u001b[0;34m(\u001b[0m\u001b[0mmarket_df\u001b[0m\u001b[0;34m.\u001b[0m\u001b[0mshape\u001b[0m\u001b[0;34m,\u001b[0m\u001b[0mcity_df\u001b[0m\u001b[0;34m.\u001b[0m\u001b[0mshape\u001b[0m\u001b[0;34m,\u001b[0m\u001b[0mdf_base\u001b[0m\u001b[0;34m[\u001b[0m\u001b[0;34m'total_funding'\u001b[0m\u001b[0;34m]\u001b[0m\u001b[0;34m.\u001b[0m\u001b[0mshape\u001b[0m\u001b[0;34m)\u001b[0m\u001b[0;34m\u001b[0m\u001b[0m\n\u001b[0m",
      "\u001b[0;31mNameError\u001b[0m: name 'city_df' is not defined"
     ]
    }
   ],
   "source": [
    "print(market_df.shape,city_df.shape,df_base['total_funding'].shape)"
   ]
  },
  {
   "cell_type": "code",
   "execution_count": 55,
   "metadata": {},
   "outputs": [
    {
     "data": {
      "text/html": [
       "<div>\n",
       "<style scoped>\n",
       "    .dataframe tbody tr th:only-of-type {\n",
       "        vertical-align: middle;\n",
       "    }\n",
       "\n",
       "    .dataframe tbody tr th {\n",
       "        vertical-align: top;\n",
       "    }\n",
       "\n",
       "    .dataframe thead th {\n",
       "        text-align: right;\n",
       "    }\n",
       "</style>\n",
       "<table border=\"1\" class=\"dataframe\">\n",
       "  <thead>\n",
       "    <tr style=\"text-align: right;\">\n",
       "      <th></th>\n",
       "      <th>company_name</th>\n",
       "      <th>company_market</th>\n",
       "      <th>company_city</th>\n",
       "      <th>total_funding</th>\n",
       "      <th>company_city_popular</th>\n",
       "      <th>company_market_popular</th>\n",
       "    </tr>\n",
       "  </thead>\n",
       "  <tbody>\n",
       "    <tr>\n",
       "      <th>0</th>\n",
       "      <td>Deem</td>\n",
       "      <td>E-Commerce</td>\n",
       "      <td>San Francisco</td>\n",
       "      <td>1532.68174</td>\n",
       "      <td>San Francisco</td>\n",
       "      <td>E-Commerce</td>\n",
       "    </tr>\n",
       "  </tbody>\n",
       "</table>\n",
       "</div>"
      ],
      "text/plain": [
       "  company_name company_market   company_city  total_funding  \\\n",
       "0         Deem     E-Commerce  San Francisco     1532.68174   \n",
       "\n",
       "  company_city_popular company_market_popular  \n",
       "0        San Francisco             E-Commerce  "
      ]
     },
     "execution_count": 55,
     "metadata": {},
     "output_type": "execute_result"
    }
   ],
   "source": [
    "df_base.head(1)"
   ]
  },
  {
   "cell_type": "code",
   "execution_count": 56,
   "metadata": {},
   "outputs": [],
   "source": [
    "data_encoded = pd.concat([market_df,df_base['total_funding']], axis=1,sort=False)"
   ]
  },
  {
   "cell_type": "code",
   "execution_count": 57,
   "metadata": {},
   "outputs": [
    {
     "name": "stdout",
     "output_type": "stream",
     "text": [
      "shape (12832, 32)\n",
      "target (12832,)\n"
     ]
    }
   ],
   "source": [
    "print('shape',data_encoded.shape)\n",
    "print('target',target.shape)"
   ]
  },
  {
   "cell_type": "code",
   "execution_count": 58,
   "metadata": {},
   "outputs": [
    {
     "data": {
      "text/plain": [
       "Index(['Advertising', 'Analytics', 'Apps', 'Big Data', 'Biotechnology',\n",
       "       'Blogging Platforms', 'Collaboration', 'Curated Web', 'Databases',\n",
       "       'E-Commerce', 'Education', 'Enterprise Software', 'Finance', 'Games',\n",
       "       'Hardware + Software', 'Health Care', 'Health and Wellness',\n",
       "       'Messaging', 'Mobile', 'Music', 'Other_market', 'SaaS', 'Search',\n",
       "       'Security', 'Social Media', 'Social Network Media', 'Software',\n",
       "       'Technology', 'Transportation', 'Travel', 'Video', 'total_funding'],\n",
       "      dtype='object')"
      ]
     },
     "execution_count": 58,
     "metadata": {},
     "output_type": "execute_result"
    }
   ],
   "source": [
    "data_encoded.columns"
   ]
  },
  {
   "cell_type": "markdown",
   "metadata": {},
   "source": [
    "## Testing A Logistic Regression Model With Base Data\n",
    "\n",
    "Metrics interpretations\n",
    "\n",
    "1) **Precision** - We don't want to spend money on startups that will fail\n",
    "\n",
    "2) **Recall** - Minimizing missed opportunities \n",
    "\n",
    "**Accuracy** - We want to ideally correctly identify all startups\n",
    "\n",
    "**False Negative** - We missed out on very good opportunities "
   ]
  },
  {
   "cell_type": "markdown",
   "metadata": {},
   "source": [
    "## Prepare Data From Model"
   ]
  },
  {
   "cell_type": "code",
   "execution_count": 62,
   "metadata": {
    "scrolled": true
   },
   "outputs": [],
   "source": [
    "from sklearn import linear_model\n",
    "from sklearn.model_selection import train_test_split\n",
    "\n",
    "from sklearn.model_selection import cross_validate\n",
    "from sklearn import metrics\n",
    "from sklearn.metrics import confusion_matrix\n",
    "\n",
    "\n",
    "X = data_encoded\n",
    "y = target\n",
    "\n",
    "X_train, X_test, y_train, y_test = train_test_split(X, y, test_size=0.2, random_state=444)\n"
   ]
  },
  {
   "cell_type": "code",
   "execution_count": 60,
   "metadata": {},
   "outputs": [
    {
     "data": {
      "text/html": [
       "<div>\n",
       "<style scoped>\n",
       "    .dataframe tbody tr th:only-of-type {\n",
       "        vertical-align: middle;\n",
       "    }\n",
       "\n",
       "    .dataframe tbody tr th {\n",
       "        vertical-align: top;\n",
       "    }\n",
       "\n",
       "    .dataframe thead th {\n",
       "        text-align: right;\n",
       "    }\n",
       "</style>\n",
       "<table border=\"1\" class=\"dataframe\">\n",
       "  <thead>\n",
       "    <tr style=\"text-align: right;\">\n",
       "      <th></th>\n",
       "      <th>Advertising</th>\n",
       "      <th>Analytics</th>\n",
       "      <th>Apps</th>\n",
       "      <th>Big Data</th>\n",
       "      <th>Biotechnology</th>\n",
       "      <th>Blogging Platforms</th>\n",
       "      <th>Collaboration</th>\n",
       "      <th>Curated Web</th>\n",
       "      <th>Databases</th>\n",
       "      <th>E-Commerce</th>\n",
       "      <th>...</th>\n",
       "      <th>Search</th>\n",
       "      <th>Security</th>\n",
       "      <th>Social Media</th>\n",
       "      <th>Social Network Media</th>\n",
       "      <th>Software</th>\n",
       "      <th>Technology</th>\n",
       "      <th>Transportation</th>\n",
       "      <th>Travel</th>\n",
       "      <th>Video</th>\n",
       "      <th>total_funding</th>\n",
       "    </tr>\n",
       "  </thead>\n",
       "  <tbody>\n",
       "    <tr>\n",
       "      <th>count</th>\n",
       "      <td>12832.000000</td>\n",
       "      <td>12832.000000</td>\n",
       "      <td>12832.000000</td>\n",
       "      <td>12832.000000</td>\n",
       "      <td>12832.000000</td>\n",
       "      <td>12832.000000</td>\n",
       "      <td>12832.000000</td>\n",
       "      <td>12832.000000</td>\n",
       "      <td>12832.000000</td>\n",
       "      <td>12832.000000</td>\n",
       "      <td>...</td>\n",
       "      <td>12832.000000</td>\n",
       "      <td>12832.000000</td>\n",
       "      <td>12832.000000</td>\n",
       "      <td>12832.000000</td>\n",
       "      <td>12832.000000</td>\n",
       "      <td>12832.000000</td>\n",
       "      <td>12832.000000</td>\n",
       "      <td>12832.000000</td>\n",
       "      <td>12832.000000</td>\n",
       "      <td>12832.000000</td>\n",
       "    </tr>\n",
       "    <tr>\n",
       "      <th>mean</th>\n",
       "      <td>0.037640</td>\n",
       "      <td>0.016755</td>\n",
       "      <td>0.009274</td>\n",
       "      <td>0.013092</td>\n",
       "      <td>0.013950</td>\n",
       "      <td>0.006780</td>\n",
       "      <td>0.006858</td>\n",
       "      <td>0.050655</td>\n",
       "      <td>0.007715</td>\n",
       "      <td>0.037640</td>\n",
       "      <td>...</td>\n",
       "      <td>0.007559</td>\n",
       "      <td>0.011534</td>\n",
       "      <td>0.022132</td>\n",
       "      <td>0.006390</td>\n",
       "      <td>0.072787</td>\n",
       "      <td>0.015041</td>\n",
       "      <td>0.008650</td>\n",
       "      <td>0.009040</td>\n",
       "      <td>0.008494</td>\n",
       "      <td>223.935601</td>\n",
       "    </tr>\n",
       "    <tr>\n",
       "      <th>std</th>\n",
       "      <td>0.190332</td>\n",
       "      <td>0.128357</td>\n",
       "      <td>0.095856</td>\n",
       "      <td>0.113674</td>\n",
       "      <td>0.117286</td>\n",
       "      <td>0.082064</td>\n",
       "      <td>0.082531</td>\n",
       "      <td>0.219300</td>\n",
       "      <td>0.087499</td>\n",
       "      <td>0.190332</td>\n",
       "      <td>...</td>\n",
       "      <td>0.086618</td>\n",
       "      <td>0.106778</td>\n",
       "      <td>0.147119</td>\n",
       "      <td>0.079686</td>\n",
       "      <td>0.259796</td>\n",
       "      <td>0.121719</td>\n",
       "      <td>0.092607</td>\n",
       "      <td>0.094651</td>\n",
       "      <td>0.091776</td>\n",
       "      <td>697.866616</td>\n",
       "    </tr>\n",
       "    <tr>\n",
       "      <th>min</th>\n",
       "      <td>0.000000</td>\n",
       "      <td>0.000000</td>\n",
       "      <td>0.000000</td>\n",
       "      <td>0.000000</td>\n",
       "      <td>0.000000</td>\n",
       "      <td>0.000000</td>\n",
       "      <td>0.000000</td>\n",
       "      <td>0.000000</td>\n",
       "      <td>0.000000</td>\n",
       "      <td>0.000000</td>\n",
       "      <td>...</td>\n",
       "      <td>0.000000</td>\n",
       "      <td>0.000000</td>\n",
       "      <td>0.000000</td>\n",
       "      <td>0.000000</td>\n",
       "      <td>0.000000</td>\n",
       "      <td>0.000000</td>\n",
       "      <td>0.000000</td>\n",
       "      <td>0.000000</td>\n",
       "      <td>0.000000</td>\n",
       "      <td>0.000000</td>\n",
       "    </tr>\n",
       "    <tr>\n",
       "      <th>25%</th>\n",
       "      <td>0.000000</td>\n",
       "      <td>0.000000</td>\n",
       "      <td>0.000000</td>\n",
       "      <td>0.000000</td>\n",
       "      <td>0.000000</td>\n",
       "      <td>0.000000</td>\n",
       "      <td>0.000000</td>\n",
       "      <td>0.000000</td>\n",
       "      <td>0.000000</td>\n",
       "      <td>0.000000</td>\n",
       "      <td>...</td>\n",
       "      <td>0.000000</td>\n",
       "      <td>0.000000</td>\n",
       "      <td>0.000000</td>\n",
       "      <td>0.000000</td>\n",
       "      <td>0.000000</td>\n",
       "      <td>0.000000</td>\n",
       "      <td>0.000000</td>\n",
       "      <td>0.000000</td>\n",
       "      <td>0.000000</td>\n",
       "      <td>15.000000</td>\n",
       "    </tr>\n",
       "    <tr>\n",
       "      <th>50%</th>\n",
       "      <td>0.000000</td>\n",
       "      <td>0.000000</td>\n",
       "      <td>0.000000</td>\n",
       "      <td>0.000000</td>\n",
       "      <td>0.000000</td>\n",
       "      <td>0.000000</td>\n",
       "      <td>0.000000</td>\n",
       "      <td>0.000000</td>\n",
       "      <td>0.000000</td>\n",
       "      <td>0.000000</td>\n",
       "      <td>...</td>\n",
       "      <td>0.000000</td>\n",
       "      <td>0.000000</td>\n",
       "      <td>0.000000</td>\n",
       "      <td>0.000000</td>\n",
       "      <td>0.000000</td>\n",
       "      <td>0.000000</td>\n",
       "      <td>0.000000</td>\n",
       "      <td>0.000000</td>\n",
       "      <td>0.000000</td>\n",
       "      <td>49.992000</td>\n",
       "    </tr>\n",
       "    <tr>\n",
       "      <th>75%</th>\n",
       "      <td>0.000000</td>\n",
       "      <td>0.000000</td>\n",
       "      <td>0.000000</td>\n",
       "      <td>0.000000</td>\n",
       "      <td>0.000000</td>\n",
       "      <td>0.000000</td>\n",
       "      <td>0.000000</td>\n",
       "      <td>0.000000</td>\n",
       "      <td>0.000000</td>\n",
       "      <td>0.000000</td>\n",
       "      <td>...</td>\n",
       "      <td>0.000000</td>\n",
       "      <td>0.000000</td>\n",
       "      <td>0.000000</td>\n",
       "      <td>0.000000</td>\n",
       "      <td>0.000000</td>\n",
       "      <td>0.000000</td>\n",
       "      <td>0.000000</td>\n",
       "      <td>0.000000</td>\n",
       "      <td>0.000000</td>\n",
       "      <td>165.000000</td>\n",
       "    </tr>\n",
       "    <tr>\n",
       "      <th>max</th>\n",
       "      <td>1.000000</td>\n",
       "      <td>1.000000</td>\n",
       "      <td>1.000000</td>\n",
       "      <td>1.000000</td>\n",
       "      <td>1.000000</td>\n",
       "      <td>1.000000</td>\n",
       "      <td>1.000000</td>\n",
       "      <td>1.000000</td>\n",
       "      <td>1.000000</td>\n",
       "      <td>1.000000</td>\n",
       "      <td>...</td>\n",
       "      <td>1.000000</td>\n",
       "      <td>1.000000</td>\n",
       "      <td>1.000000</td>\n",
       "      <td>1.000000</td>\n",
       "      <td>1.000000</td>\n",
       "      <td>1.000000</td>\n",
       "      <td>1.000000</td>\n",
       "      <td>1.000000</td>\n",
       "      <td>1.000000</td>\n",
       "      <td>9518.150000</td>\n",
       "    </tr>\n",
       "  </tbody>\n",
       "</table>\n",
       "<p>8 rows × 32 columns</p>\n",
       "</div>"
      ],
      "text/plain": [
       "        Advertising     Analytics          Apps      Big Data  Biotechnology  \\\n",
       "count  12832.000000  12832.000000  12832.000000  12832.000000   12832.000000   \n",
       "mean       0.037640      0.016755      0.009274      0.013092       0.013950   \n",
       "std        0.190332      0.128357      0.095856      0.113674       0.117286   \n",
       "min        0.000000      0.000000      0.000000      0.000000       0.000000   \n",
       "25%        0.000000      0.000000      0.000000      0.000000       0.000000   \n",
       "50%        0.000000      0.000000      0.000000      0.000000       0.000000   \n",
       "75%        0.000000      0.000000      0.000000      0.000000       0.000000   \n",
       "max        1.000000      1.000000      1.000000      1.000000       1.000000   \n",
       "\n",
       "       Blogging Platforms  Collaboration   Curated Web     Databases  \\\n",
       "count        12832.000000   12832.000000  12832.000000  12832.000000   \n",
       "mean             0.006780       0.006858      0.050655      0.007715   \n",
       "std              0.082064       0.082531      0.219300      0.087499   \n",
       "min              0.000000       0.000000      0.000000      0.000000   \n",
       "25%              0.000000       0.000000      0.000000      0.000000   \n",
       "50%              0.000000       0.000000      0.000000      0.000000   \n",
       "75%              0.000000       0.000000      0.000000      0.000000   \n",
       "max              1.000000       1.000000      1.000000      1.000000   \n",
       "\n",
       "         E-Commerce      ...              Search      Security  Social Media  \\\n",
       "count  12832.000000      ...        12832.000000  12832.000000  12832.000000   \n",
       "mean       0.037640      ...            0.007559      0.011534      0.022132   \n",
       "std        0.190332      ...            0.086618      0.106778      0.147119   \n",
       "min        0.000000      ...            0.000000      0.000000      0.000000   \n",
       "25%        0.000000      ...            0.000000      0.000000      0.000000   \n",
       "50%        0.000000      ...            0.000000      0.000000      0.000000   \n",
       "75%        0.000000      ...            0.000000      0.000000      0.000000   \n",
       "max        1.000000      ...            1.000000      1.000000      1.000000   \n",
       "\n",
       "       Social Network Media      Software    Technology  Transportation  \\\n",
       "count          12832.000000  12832.000000  12832.000000    12832.000000   \n",
       "mean               0.006390      0.072787      0.015041        0.008650   \n",
       "std                0.079686      0.259796      0.121719        0.092607   \n",
       "min                0.000000      0.000000      0.000000        0.000000   \n",
       "25%                0.000000      0.000000      0.000000        0.000000   \n",
       "50%                0.000000      0.000000      0.000000        0.000000   \n",
       "75%                0.000000      0.000000      0.000000        0.000000   \n",
       "max                1.000000      1.000000      1.000000        1.000000   \n",
       "\n",
       "             Travel         Video  total_funding  \n",
       "count  12832.000000  12832.000000   12832.000000  \n",
       "mean       0.009040      0.008494     223.935601  \n",
       "std        0.094651      0.091776     697.866616  \n",
       "min        0.000000      0.000000       0.000000  \n",
       "25%        0.000000      0.000000      15.000000  \n",
       "50%        0.000000      0.000000      49.992000  \n",
       "75%        0.000000      0.000000     165.000000  \n",
       "max        1.000000      1.000000    9518.150000  \n",
       "\n",
       "[8 rows x 32 columns]"
      ]
     },
     "execution_count": 60,
     "metadata": {},
     "output_type": "execute_result"
    }
   ],
   "source": [
    "X.describe()"
   ]
  },
  {
   "cell_type": "markdown",
   "metadata": {},
   "source": [
    "## Plotting Categorical"
   ]
  },
  {
   "cell_type": "code",
   "execution_count": 83,
   "metadata": {},
   "outputs": [
    {
     "data": {
      "image/png": "[encoded data removed]",
      "text/plain": [
       "<Figure size 432x288 with 1 Axes>"
      ]
     },
     "metadata": {
      "needs_background": "light"
     },
     "output_type": "display_data"
    }
   ],
   "source": [
    "plt.scatter(list(X['total_funding']), list(target))\n",
    "plt.title('Total Funding vs Aquisitions')\n",
    "#plt.xlabel('Funding Index')\n",
    "#plt.ylabel('Millions')\n",
    "plt.show()"
   ]
  },
  {
   "cell_type": "markdown",
   "metadata": {},
   "source": [
    "## Initial Feature Selection With Stats Models"
   ]
  },
  {
   "cell_type": "code",
   "execution_count": 61,
   "metadata": {
    "collapsed": true
   },
   "outputs": [
    {
     "ename": "ValueError",
     "evalue": "The indices for endog and exog are not aligned",
     "output_type": "error",
     "traceback": [
      "\u001b[0;31m---------------------------------------------------------------------------\u001b[0m",
      "\u001b[0;31mValueError\u001b[0m                                Traceback (most recent call last)",
      "\u001b[0;32m<ipython-input-61-59cb853024e8>\u001b[0m in \u001b[0;36m<module>\u001b[0;34m()\u001b[0m\n\u001b[1;32m      3\u001b[0m \u001b[0mX_train\u001b[0m \u001b[0;34m=\u001b[0m \u001b[0msm\u001b[0m\u001b[0;34m.\u001b[0m\u001b[0madd_constant\u001b[0m\u001b[0;34m(\u001b[0m\u001b[0mX_train\u001b[0m\u001b[0;34m)\u001b[0m\u001b[0;34m\u001b[0m\u001b[0m\n\u001b[1;32m      4\u001b[0m \u001b[0;34m\u001b[0m\u001b[0m\n\u001b[0;32m----> 5\u001b[0;31m \u001b[0mlogit_model\u001b[0m \u001b[0;34m=\u001b[0m \u001b[0msm\u001b[0m\u001b[0;34m.\u001b[0m\u001b[0mLogit\u001b[0m\u001b[0;34m(\u001b[0m\u001b[0my_train\u001b[0m\u001b[0;34m,\u001b[0m \u001b[0mX_train\u001b[0m\u001b[0;34m)\u001b[0m\u001b[0;34m\u001b[0m\u001b[0m\n\u001b[0m\u001b[1;32m      6\u001b[0m \u001b[0mresults\u001b[0m \u001b[0;34m=\u001b[0m \u001b[0mlogit_model\u001b[0m\u001b[0;34m.\u001b[0m\u001b[0mfit\u001b[0m\u001b[0;34m(\u001b[0m\u001b[0;34m)\u001b[0m\u001b[0;34m\u001b[0m\u001b[0m\n",
      "\u001b[0;32m/Library/Frameworks/Python.framework/Versions/3.6/lib/python3.6/site-packages/statsmodels/discrete/discrete_model.py\u001b[0m in \u001b[0;36m__init__\u001b[0;34m(self, endog, exog, **kwargs)\u001b[0m\n\u001b[1;32m    416\u001b[0m \u001b[0;34m\u001b[0m\u001b[0m\n\u001b[1;32m    417\u001b[0m     \u001b[0;32mdef\u001b[0m \u001b[0m__init__\u001b[0m\u001b[0;34m(\u001b[0m\u001b[0mself\u001b[0m\u001b[0;34m,\u001b[0m \u001b[0mendog\u001b[0m\u001b[0;34m,\u001b[0m \u001b[0mexog\u001b[0m\u001b[0;34m,\u001b[0m \u001b[0;34m**\u001b[0m\u001b[0mkwargs\u001b[0m\u001b[0;34m)\u001b[0m\u001b[0;34m:\u001b[0m\u001b[0;34m\u001b[0m\u001b[0m\n\u001b[0;32m--> 418\u001b[0;31m         \u001b[0msuper\u001b[0m\u001b[0;34m(\u001b[0m\u001b[0mBinaryModel\u001b[0m\u001b[0;34m,\u001b[0m \u001b[0mself\u001b[0m\u001b[0;34m)\u001b[0m\u001b[0;34m.\u001b[0m\u001b[0m__init__\u001b[0m\u001b[0;34m(\u001b[0m\u001b[0mendog\u001b[0m\u001b[0;34m,\u001b[0m \u001b[0mexog\u001b[0m\u001b[0;34m,\u001b[0m \u001b[0;34m**\u001b[0m\u001b[0mkwargs\u001b[0m\u001b[0;34m)\u001b[0m\u001b[0;34m\u001b[0m\u001b[0m\n\u001b[0m\u001b[1;32m    419\u001b[0m         if (not issubclass(self.__class__, MultinomialModel) and\n\u001b[1;32m    420\u001b[0m                 not np.all((self.endog >= 0) & (self.endog <= 1))):\n",
      "\u001b[0;32m/Library/Frameworks/Python.framework/Versions/3.6/lib/python3.6/site-packages/statsmodels/discrete/discrete_model.py\u001b[0m in \u001b[0;36m__init__\u001b[0;34m(self, endog, exog, **kwargs)\u001b[0m\n\u001b[1;32m    169\u001b[0m     \"\"\"\n\u001b[1;32m    170\u001b[0m     \u001b[0;32mdef\u001b[0m \u001b[0m__init__\u001b[0m\u001b[0;34m(\u001b[0m\u001b[0mself\u001b[0m\u001b[0;34m,\u001b[0m \u001b[0mendog\u001b[0m\u001b[0;34m,\u001b[0m \u001b[0mexog\u001b[0m\u001b[0;34m,\u001b[0m \u001b[0;34m**\u001b[0m\u001b[0mkwargs\u001b[0m\u001b[0;34m)\u001b[0m\u001b[0;34m:\u001b[0m\u001b[0;34m\u001b[0m\u001b[0m\n\u001b[0;32m--> 171\u001b[0;31m         \u001b[0msuper\u001b[0m\u001b[0;34m(\u001b[0m\u001b[0mDiscreteModel\u001b[0m\u001b[0;34m,\u001b[0m \u001b[0mself\u001b[0m\u001b[0;34m)\u001b[0m\u001b[0;34m.\u001b[0m\u001b[0m__init__\u001b[0m\u001b[0;34m(\u001b[0m\u001b[0mendog\u001b[0m\u001b[0;34m,\u001b[0m \u001b[0mexog\u001b[0m\u001b[0;34m,\u001b[0m \u001b[0;34m**\u001b[0m\u001b[0mkwargs\u001b[0m\u001b[0;34m)\u001b[0m\u001b[0;34m\u001b[0m\u001b[0m\n\u001b[0m\u001b[1;32m    172\u001b[0m         \u001b[0mself\u001b[0m\u001b[0;34m.\u001b[0m\u001b[0mraise_on_perfect_prediction\u001b[0m \u001b[0;34m=\u001b[0m \u001b[0;32mTrue\u001b[0m\u001b[0;34m\u001b[0m\u001b[0m\n\u001b[1;32m    173\u001b[0m \u001b[0;34m\u001b[0m\u001b[0m\n",
      "\u001b[0;32m/Library/Frameworks/Python.framework/Versions/3.6/lib/python3.6/site-packages/statsmodels/base/model.py\u001b[0m in \u001b[0;36m__init__\u001b[0;34m(self, endog, exog, **kwargs)\u001b[0m\n\u001b[1;32m    210\u001b[0m \u001b[0;34m\u001b[0m\u001b[0m\n\u001b[1;32m    211\u001b[0m     \u001b[0;32mdef\u001b[0m \u001b[0m__init__\u001b[0m\u001b[0;34m(\u001b[0m\u001b[0mself\u001b[0m\u001b[0;34m,\u001b[0m \u001b[0mendog\u001b[0m\u001b[0;34m,\u001b[0m \u001b[0mexog\u001b[0m\u001b[0;34m=\u001b[0m\u001b[0;32mNone\u001b[0m\u001b[0;34m,\u001b[0m \u001b[0;34m**\u001b[0m\u001b[0mkwargs\u001b[0m\u001b[0;34m)\u001b[0m\u001b[0;34m:\u001b[0m\u001b[0;34m\u001b[0m\u001b[0m\n\u001b[0;32m--> 212\u001b[0;31m         \u001b[0msuper\u001b[0m\u001b[0;34m(\u001b[0m\u001b[0mLikelihoodModel\u001b[0m\u001b[0;34m,\u001b[0m \u001b[0mself\u001b[0m\u001b[0;34m)\u001b[0m\u001b[0;34m.\u001b[0m\u001b[0m__init__\u001b[0m\u001b[0;34m(\u001b[0m\u001b[0mendog\u001b[0m\u001b[0;34m,\u001b[0m \u001b[0mexog\u001b[0m\u001b[0;34m,\u001b[0m \u001b[0;34m**\u001b[0m\u001b[0mkwargs\u001b[0m\u001b[0;34m)\u001b[0m\u001b[0;34m\u001b[0m\u001b[0m\n\u001b[0m\u001b[1;32m    213\u001b[0m         \u001b[0mself\u001b[0m\u001b[0;34m.\u001b[0m\u001b[0minitialize\u001b[0m\u001b[0;34m(\u001b[0m\u001b[0;34m)\u001b[0m\u001b[0;34m\u001b[0m\u001b[0m\n\u001b[1;32m    214\u001b[0m \u001b[0;34m\u001b[0m\u001b[0m\n",
      "\u001b[0;32m/Library/Frameworks/Python.framework/Versions/3.6/lib/python3.6/site-packages/statsmodels/base/model.py\u001b[0m in \u001b[0;36m__init__\u001b[0;34m(self, endog, exog, **kwargs)\u001b[0m\n\u001b[1;32m     62\u001b[0m         \u001b[0mhasconst\u001b[0m \u001b[0;34m=\u001b[0m \u001b[0mkwargs\u001b[0m\u001b[0;34m.\u001b[0m\u001b[0mpop\u001b[0m\u001b[0;34m(\u001b[0m\u001b[0;34m'hasconst'\u001b[0m\u001b[0;34m,\u001b[0m \u001b[0;32mNone\u001b[0m\u001b[0;34m)\u001b[0m\u001b[0;34m\u001b[0m\u001b[0m\n\u001b[1;32m     63\u001b[0m         self.data = self._handle_data(endog, exog, missing, hasconst,\n\u001b[0;32m---> 64\u001b[0;31m                                       **kwargs)\n\u001b[0m\u001b[1;32m     65\u001b[0m         \u001b[0mself\u001b[0m\u001b[0;34m.\u001b[0m\u001b[0mk_constant\u001b[0m \u001b[0;34m=\u001b[0m \u001b[0mself\u001b[0m\u001b[0;34m.\u001b[0m\u001b[0mdata\u001b[0m\u001b[0;34m.\u001b[0m\u001b[0mk_constant\u001b[0m\u001b[0;34m\u001b[0m\u001b[0m\n\u001b[1;32m     66\u001b[0m         \u001b[0mself\u001b[0m\u001b[0;34m.\u001b[0m\u001b[0mexog\u001b[0m \u001b[0;34m=\u001b[0m \u001b[0mself\u001b[0m\u001b[0;34m.\u001b[0m\u001b[0mdata\u001b[0m\u001b[0;34m.\u001b[0m\u001b[0mexog\u001b[0m\u001b[0;34m\u001b[0m\u001b[0m\n",
      "\u001b[0;32m/Library/Frameworks/Python.framework/Versions/3.6/lib/python3.6/site-packages/statsmodels/base/model.py\u001b[0m in \u001b[0;36m_handle_data\u001b[0;34m(self, endog, exog, missing, hasconst, **kwargs)\u001b[0m\n\u001b[1;32m     85\u001b[0m \u001b[0;34m\u001b[0m\u001b[0m\n\u001b[1;32m     86\u001b[0m     \u001b[0;32mdef\u001b[0m \u001b[0m_handle_data\u001b[0m\u001b[0;34m(\u001b[0m\u001b[0mself\u001b[0m\u001b[0;34m,\u001b[0m \u001b[0mendog\u001b[0m\u001b[0;34m,\u001b[0m \u001b[0mexog\u001b[0m\u001b[0;34m,\u001b[0m \u001b[0mmissing\u001b[0m\u001b[0;34m,\u001b[0m \u001b[0mhasconst\u001b[0m\u001b[0;34m,\u001b[0m \u001b[0;34m**\u001b[0m\u001b[0mkwargs\u001b[0m\u001b[0;34m)\u001b[0m\u001b[0;34m:\u001b[0m\u001b[0;34m\u001b[0m\u001b[0m\n\u001b[0;32m---> 87\u001b[0;31m         \u001b[0mdata\u001b[0m \u001b[0;34m=\u001b[0m \u001b[0mhandle_data\u001b[0m\u001b[0;34m(\u001b[0m\u001b[0mendog\u001b[0m\u001b[0;34m,\u001b[0m \u001b[0mexog\u001b[0m\u001b[0;34m,\u001b[0m \u001b[0mmissing\u001b[0m\u001b[0;34m,\u001b[0m \u001b[0mhasconst\u001b[0m\u001b[0;34m,\u001b[0m \u001b[0;34m**\u001b[0m\u001b[0mkwargs\u001b[0m\u001b[0;34m)\u001b[0m\u001b[0;34m\u001b[0m\u001b[0m\n\u001b[0m\u001b[1;32m     88\u001b[0m         \u001b[0;31m# kwargs arrays could have changed, easier to just attach here\u001b[0m\u001b[0;34m\u001b[0m\u001b[0;34m\u001b[0m\u001b[0m\n\u001b[1;32m     89\u001b[0m         \u001b[0;32mfor\u001b[0m \u001b[0mkey\u001b[0m \u001b[0;32min\u001b[0m \u001b[0mkwargs\u001b[0m\u001b[0;34m:\u001b[0m\u001b[0;34m\u001b[0m\u001b[0m\n",
      "\u001b[0;32m/Library/Frameworks/Python.framework/Versions/3.6/lib/python3.6/site-packages/statsmodels/base/data.py\u001b[0m in \u001b[0;36mhandle_data\u001b[0;34m(endog, exog, missing, hasconst, **kwargs)\u001b[0m\n\u001b[1;32m    631\u001b[0m     \u001b[0mklass\u001b[0m \u001b[0;34m=\u001b[0m \u001b[0mhandle_data_class_factory\u001b[0m\u001b[0;34m(\u001b[0m\u001b[0mendog\u001b[0m\u001b[0;34m,\u001b[0m \u001b[0mexog\u001b[0m\u001b[0;34m)\u001b[0m\u001b[0;34m\u001b[0m\u001b[0m\n\u001b[1;32m    632\u001b[0m     return klass(endog, exog=exog, missing=missing, hasconst=hasconst,\n\u001b[0;32m--> 633\u001b[0;31m                  **kwargs)\n\u001b[0m",
      "\u001b[0;32m/Library/Frameworks/Python.framework/Versions/3.6/lib/python3.6/site-packages/statsmodels/base/data.py\u001b[0m in \u001b[0;36m__init__\u001b[0;34m(self, endog, exog, missing, hasconst, **kwargs)\u001b[0m\n\u001b[1;32m     78\u001b[0m         \u001b[0;31m# this has side-effects, attaches k_constant and const_idx\u001b[0m\u001b[0;34m\u001b[0m\u001b[0;34m\u001b[0m\u001b[0m\n\u001b[1;32m     79\u001b[0m         \u001b[0mself\u001b[0m\u001b[0;34m.\u001b[0m\u001b[0m_handle_constant\u001b[0m\u001b[0;34m(\u001b[0m\u001b[0mhasconst\u001b[0m\u001b[0;34m)\u001b[0m\u001b[0;34m\u001b[0m\u001b[0m\n\u001b[0;32m---> 80\u001b[0;31m         \u001b[0mself\u001b[0m\u001b[0;34m.\u001b[0m\u001b[0m_check_integrity\u001b[0m\u001b[0;34m(\u001b[0m\u001b[0;34m)\u001b[0m\u001b[0;34m\u001b[0m\u001b[0m\n\u001b[0m\u001b[1;32m     81\u001b[0m         \u001b[0mself\u001b[0m\u001b[0;34m.\u001b[0m\u001b[0m_cache\u001b[0m \u001b[0;34m=\u001b[0m \u001b[0mresettable_cache\u001b[0m\u001b[0;34m(\u001b[0m\u001b[0;34m)\u001b[0m\u001b[0;34m\u001b[0m\u001b[0m\n\u001b[1;32m     82\u001b[0m \u001b[0;34m\u001b[0m\u001b[0m\n",
      "\u001b[0;32m/Library/Frameworks/Python.framework/Versions/3.6/lib/python3.6/site-packages/statsmodels/base/data.py\u001b[0m in \u001b[0;36m_check_integrity\u001b[0;34m(self)\u001b[0m\n\u001b[1;32m    496\u001b[0m                 \u001b[0;34m(\u001b[0m\u001b[0mhasattr\u001b[0m\u001b[0;34m(\u001b[0m\u001b[0mendog\u001b[0m\u001b[0;34m,\u001b[0m \u001b[0;34m'index'\u001b[0m\u001b[0;34m)\u001b[0m \u001b[0;32mand\u001b[0m \u001b[0mhasattr\u001b[0m\u001b[0;34m(\u001b[0m\u001b[0mexog\u001b[0m\u001b[0;34m,\u001b[0m \u001b[0;34m'index'\u001b[0m\u001b[0;34m)\u001b[0m\u001b[0;34m)\u001b[0m \u001b[0;32mand\u001b[0m\u001b[0;34m\u001b[0m\u001b[0m\n\u001b[1;32m    497\u001b[0m                 not self.orig_endog.index.equals(self.orig_exog.index)):\n\u001b[0;32m--> 498\u001b[0;31m             \u001b[0;32mraise\u001b[0m \u001b[0mValueError\u001b[0m\u001b[0;34m(\u001b[0m\u001b[0;34m\"The indices for endog and exog are not aligned\"\u001b[0m\u001b[0;34m)\u001b[0m\u001b[0;34m\u001b[0m\u001b[0m\n\u001b[0m\u001b[1;32m    499\u001b[0m         \u001b[0msuper\u001b[0m\u001b[0;34m(\u001b[0m\u001b[0mPandasData\u001b[0m\u001b[0;34m,\u001b[0m \u001b[0mself\u001b[0m\u001b[0;34m)\u001b[0m\u001b[0;34m.\u001b[0m\u001b[0m_check_integrity\u001b[0m\u001b[0;34m(\u001b[0m\u001b[0;34m)\u001b[0m\u001b[0;34m\u001b[0m\u001b[0m\n\u001b[1;32m    500\u001b[0m \u001b[0;34m\u001b[0m\u001b[0m\n",
      "\u001b[0;31mValueError\u001b[0m: The indices for endog and exog are not aligned"
     ]
    }
   ],
   "source": [
    "import statsmodels.api as sm\n",
    "\n",
    "X_train = sm.add_constant(X_train)\n",
    "\n",
    "logit_model = sm.Logit(y_train, X_train)\n",
    "results = logit_model.fit()"
   ]
  },
  {
   "cell_type": "code",
   "execution_count": null,
   "metadata": {},
   "outputs": [],
   "source": [
    "results.summary()"
   ]
  },
  {
   "cell_type": "code",
   "execution_count": 84,
   "metadata": {},
   "outputs": [
    {
     "data": {
      "text/html": [
       "<div>\n",
       "<style scoped>\n",
       "    .dataframe tbody tr th:only-of-type {\n",
       "        vertical-align: middle;\n",
       "    }\n",
       "\n",
       "    .dataframe tbody tr th {\n",
       "        vertical-align: top;\n",
       "    }\n",
       "\n",
       "    .dataframe thead th {\n",
       "        text-align: right;\n",
       "    }\n",
       "</style>\n",
       "<table border=\"1\" class=\"dataframe\">\n",
       "  <thead>\n",
       "    <tr style=\"text-align: right;\">\n",
       "      <th></th>\n",
       "      <th>Advertising</th>\n",
       "      <th>Analytics</th>\n",
       "      <th>Apps</th>\n",
       "      <th>Big Data</th>\n",
       "      <th>Biotechnology</th>\n",
       "      <th>Blogging Platforms</th>\n",
       "      <th>Collaboration</th>\n",
       "      <th>Curated Web</th>\n",
       "      <th>Databases</th>\n",
       "      <th>E-Commerce</th>\n",
       "      <th>...</th>\n",
       "      <th>Search</th>\n",
       "      <th>Security</th>\n",
       "      <th>Social Media</th>\n",
       "      <th>Social Network Media</th>\n",
       "      <th>Software</th>\n",
       "      <th>Technology</th>\n",
       "      <th>Transportation</th>\n",
       "      <th>Travel</th>\n",
       "      <th>Video</th>\n",
       "      <th>total_funding</th>\n",
       "    </tr>\n",
       "  </thead>\n",
       "  <tbody>\n",
       "    <tr>\n",
       "      <th>10760</th>\n",
       "      <td>0</td>\n",
       "      <td>0</td>\n",
       "      <td>0</td>\n",
       "      <td>0</td>\n",
       "      <td>0</td>\n",
       "      <td>0</td>\n",
       "      <td>0</td>\n",
       "      <td>0</td>\n",
       "      <td>0</td>\n",
       "      <td>0</td>\n",
       "      <td>...</td>\n",
       "      <td>0</td>\n",
       "      <td>0</td>\n",
       "      <td>0</td>\n",
       "      <td>0</td>\n",
       "      <td>1</td>\n",
       "      <td>0</td>\n",
       "      <td>0</td>\n",
       "      <td>0</td>\n",
       "      <td>0</td>\n",
       "      <td>61.200000</td>\n",
       "    </tr>\n",
       "    <tr>\n",
       "      <th>1584</th>\n",
       "      <td>0</td>\n",
       "      <td>0</td>\n",
       "      <td>0</td>\n",
       "      <td>0</td>\n",
       "      <td>0</td>\n",
       "      <td>1</td>\n",
       "      <td>0</td>\n",
       "      <td>0</td>\n",
       "      <td>0</td>\n",
       "      <td>0</td>\n",
       "      <td>...</td>\n",
       "      <td>0</td>\n",
       "      <td>0</td>\n",
       "      <td>0</td>\n",
       "      <td>0</td>\n",
       "      <td>0</td>\n",
       "      <td>0</td>\n",
       "      <td>0</td>\n",
       "      <td>0</td>\n",
       "      <td>0</td>\n",
       "      <td>53.190000</td>\n",
       "    </tr>\n",
       "    <tr>\n",
       "      <th>11785</th>\n",
       "      <td>0</td>\n",
       "      <td>0</td>\n",
       "      <td>0</td>\n",
       "      <td>1</td>\n",
       "      <td>0</td>\n",
       "      <td>0</td>\n",
       "      <td>0</td>\n",
       "      <td>0</td>\n",
       "      <td>0</td>\n",
       "      <td>0</td>\n",
       "      <td>...</td>\n",
       "      <td>0</td>\n",
       "      <td>0</td>\n",
       "      <td>0</td>\n",
       "      <td>0</td>\n",
       "      <td>0</td>\n",
       "      <td>0</td>\n",
       "      <td>0</td>\n",
       "      <td>0</td>\n",
       "      <td>0</td>\n",
       "      <td>182.000000</td>\n",
       "    </tr>\n",
       "    <tr>\n",
       "      <th>12408</th>\n",
       "      <td>0</td>\n",
       "      <td>0</td>\n",
       "      <td>0</td>\n",
       "      <td>0</td>\n",
       "      <td>0</td>\n",
       "      <td>0</td>\n",
       "      <td>0</td>\n",
       "      <td>0</td>\n",
       "      <td>0</td>\n",
       "      <td>0</td>\n",
       "      <td>...</td>\n",
       "      <td>0</td>\n",
       "      <td>0</td>\n",
       "      <td>0</td>\n",
       "      <td>0</td>\n",
       "      <td>0</td>\n",
       "      <td>0</td>\n",
       "      <td>0</td>\n",
       "      <td>0</td>\n",
       "      <td>0</td>\n",
       "      <td>191.000000</td>\n",
       "    </tr>\n",
       "    <tr>\n",
       "      <th>8438</th>\n",
       "      <td>0</td>\n",
       "      <td>0</td>\n",
       "      <td>0</td>\n",
       "      <td>0</td>\n",
       "      <td>0</td>\n",
       "      <td>0</td>\n",
       "      <td>0</td>\n",
       "      <td>0</td>\n",
       "      <td>0</td>\n",
       "      <td>0</td>\n",
       "      <td>...</td>\n",
       "      <td>0</td>\n",
       "      <td>0</td>\n",
       "      <td>0</td>\n",
       "      <td>0</td>\n",
       "      <td>0</td>\n",
       "      <td>0</td>\n",
       "      <td>0</td>\n",
       "      <td>0</td>\n",
       "      <td>0</td>\n",
       "      <td>59.714876</td>\n",
       "    </tr>\n",
       "    <tr>\n",
       "      <th>1075</th>\n",
       "      <td>0</td>\n",
       "      <td>0</td>\n",
       "      <td>0</td>\n",
       "      <td>0</td>\n",
       "      <td>0</td>\n",
       "      <td>0</td>\n",
       "      <td>0</td>\n",
       "      <td>0</td>\n",
       "      <td>0</td>\n",
       "      <td>0</td>\n",
       "      <td>...</td>\n",
       "      <td>0</td>\n",
       "      <td>0</td>\n",
       "      <td>0</td>\n",
       "      <td>0</td>\n",
       "      <td>0</td>\n",
       "      <td>0</td>\n",
       "      <td>0</td>\n",
       "      <td>0</td>\n",
       "      <td>0</td>\n",
       "      <td>18.400000</td>\n",
       "    </tr>\n",
       "    <tr>\n",
       "      <th>5064</th>\n",
       "      <td>0</td>\n",
       "      <td>0</td>\n",
       "      <td>0</td>\n",
       "      <td>0</td>\n",
       "      <td>0</td>\n",
       "      <td>0</td>\n",
       "      <td>0</td>\n",
       "      <td>0</td>\n",
       "      <td>0</td>\n",
       "      <td>0</td>\n",
       "      <td>...</td>\n",
       "      <td>0</td>\n",
       "      <td>0</td>\n",
       "      <td>0</td>\n",
       "      <td>0</td>\n",
       "      <td>0</td>\n",
       "      <td>0</td>\n",
       "      <td>0</td>\n",
       "      <td>0</td>\n",
       "      <td>0</td>\n",
       "      <td>72.300000</td>\n",
       "    </tr>\n",
       "    <tr>\n",
       "      <th>3282</th>\n",
       "      <td>0</td>\n",
       "      <td>0</td>\n",
       "      <td>0</td>\n",
       "      <td>0</td>\n",
       "      <td>0</td>\n",
       "      <td>0</td>\n",
       "      <td>0</td>\n",
       "      <td>0</td>\n",
       "      <td>0</td>\n",
       "      <td>0</td>\n",
       "      <td>...</td>\n",
       "      <td>0</td>\n",
       "      <td>0</td>\n",
       "      <td>0</td>\n",
       "      <td>0</td>\n",
       "      <td>0</td>\n",
       "      <td>0</td>\n",
       "      <td>0</td>\n",
       "      <td>0</td>\n",
       "      <td>0</td>\n",
       "      <td>603.799335</td>\n",
       "    </tr>\n",
       "    <tr>\n",
       "      <th>1607</th>\n",
       "      <td>0</td>\n",
       "      <td>0</td>\n",
       "      <td>0</td>\n",
       "      <td>0</td>\n",
       "      <td>0</td>\n",
       "      <td>0</td>\n",
       "      <td>0</td>\n",
       "      <td>0</td>\n",
       "      <td>0</td>\n",
       "      <td>0</td>\n",
       "      <td>...</td>\n",
       "      <td>0</td>\n",
       "      <td>0</td>\n",
       "      <td>0</td>\n",
       "      <td>0</td>\n",
       "      <td>1</td>\n",
       "      <td>0</td>\n",
       "      <td>0</td>\n",
       "      <td>0</td>\n",
       "      <td>0</td>\n",
       "      <td>245.500000</td>\n",
       "    </tr>\n",
       "    <tr>\n",
       "      <th>8818</th>\n",
       "      <td>0</td>\n",
       "      <td>0</td>\n",
       "      <td>0</td>\n",
       "      <td>0</td>\n",
       "      <td>0</td>\n",
       "      <td>0</td>\n",
       "      <td>0</td>\n",
       "      <td>0</td>\n",
       "      <td>0</td>\n",
       "      <td>0</td>\n",
       "      <td>...</td>\n",
       "      <td>0</td>\n",
       "      <td>0</td>\n",
       "      <td>0</td>\n",
       "      <td>0</td>\n",
       "      <td>0</td>\n",
       "      <td>0</td>\n",
       "      <td>0</td>\n",
       "      <td>0</td>\n",
       "      <td>0</td>\n",
       "      <td>45.000000</td>\n",
       "    </tr>\n",
       "  </tbody>\n",
       "</table>\n",
       "<p>10 rows × 32 columns</p>\n",
       "</div>"
      ],
      "text/plain": [
       "       Advertising  Analytics  Apps  Big Data  Biotechnology  \\\n",
       "10760            0          0     0         0              0   \n",
       "1584             0          0     0         0              0   \n",
       "11785            0          0     0         1              0   \n",
       "12408            0          0     0         0              0   \n",
       "8438             0          0     0         0              0   \n",
       "1075             0          0     0         0              0   \n",
       "5064             0          0     0         0              0   \n",
       "3282             0          0     0         0              0   \n",
       "1607             0          0     0         0              0   \n",
       "8818             0          0     0         0              0   \n",
       "\n",
       "       Blogging Platforms  Collaboration  Curated Web  Databases  E-Commerce  \\\n",
       "10760                   0              0            0          0           0   \n",
       "1584                    1              0            0          0           0   \n",
       "11785                   0              0            0          0           0   \n",
       "12408                   0              0            0          0           0   \n",
       "8438                    0              0            0          0           0   \n",
       "1075                    0              0            0          0           0   \n",
       "5064                    0              0            0          0           0   \n",
       "3282                    0              0            0          0           0   \n",
       "1607                    0              0            0          0           0   \n",
       "8818                    0              0            0          0           0   \n",
       "\n",
       "           ...        Search  Security  Social Media  Social Network Media  \\\n",
       "10760      ...             0         0             0                     0   \n",
       "1584       ...             0         0             0                     0   \n",
       "11785      ...             0         0             0                     0   \n",
       "12408      ...             0         0             0                     0   \n",
       "8438       ...             0         0             0                     0   \n",
       "1075       ...             0         0             0                     0   \n",
       "5064       ...             0         0             0                     0   \n",
       "3282       ...             0         0             0                     0   \n",
       "1607       ...             0         0             0                     0   \n",
       "8818       ...             0         0             0                     0   \n",
       "\n",
       "       Software  Technology  Transportation  Travel  Video  total_funding  \n",
       "10760         1           0               0       0      0      61.200000  \n",
       "1584          0           0               0       0      0      53.190000  \n",
       "11785         0           0               0       0      0     182.000000  \n",
       "12408         0           0               0       0      0     191.000000  \n",
       "8438          0           0               0       0      0      59.714876  \n",
       "1075          0           0               0       0      0      18.400000  \n",
       "5064          0           0               0       0      0      72.300000  \n",
       "3282          0           0               0       0      0     603.799335  \n",
       "1607          1           0               0       0      0     245.500000  \n",
       "8818          0           0               0       0      0      45.000000  \n",
       "\n",
       "[10 rows x 32 columns]"
      ]
     },
     "execution_count": 84,
     "metadata": {},
     "output_type": "execute_result"
    }
   ],
   "source": [
    "X_train.head(10)"
   ]
  },
  {
   "cell_type": "code",
   "execution_count": 88,
   "metadata": {},
   "outputs": [
    {
     "name": "stdout",
     "output_type": "stream",
     "text": [
      "Training Data Accuracy: 0.83\n",
      "Test Data Accuracy:     0.83\n",
      "[[2117    7]\n",
      " [ 431   12]]\n",
      "\n",
      "\n",
      "Precision:              0.63\n",
      "Recall:                 0.03\n",
      "F1 Score:               0.0519\n"
     ]
    }
   ],
   "source": [
    "model = linear_model.LogisticRegression(solver='newton-cg')\n",
    "model.fit(X_train, y_train)\n",
    "\n",
    "# accuracy for test & train:\n",
    "train_acc=model.score(X_train, y_train)\n",
    "test_acc=model.score(X_test,y_test)\n",
    "print(\"Training Data Accuracy: %0.2f\" %(train_acc))\n",
    "print(\"Test Data Accuracy:     %0.2f\" %(test_acc))\n",
    "\n",
    "y_true = y_test\n",
    "y_pred = model1.predict(X_test)\n",
    "\n",
    "\n",
    "conf = confusion_matrix(y_true, y_pred)\n",
    "tn, fp, fn, tp = conf.ravel()\n",
    "\n",
    "print(conf)\n",
    "\n",
    "precision = (tp / (tp + fp))\n",
    "recall = (tp / (tp + fn))\n",
    "f1_score = 2*precision*recall/(precision + recall)\n",
    "\n",
    "print ('\\n')\n",
    "print (\"Precision:              %0.2f\" % precision)\n",
    "print (\"Recall:                 %0.2f\"% recall)\n",
    "print (\"F1 Score:               %0.4f\"% f1_score)"
   ]
  },
  {
   "cell_type": "code",
   "execution_count": 65,
   "metadata": {},
   "outputs": [
    {
     "data": {
      "text/plain": [
       "1"
      ]
     },
     "execution_count": 65,
     "metadata": {},
     "output_type": "execute_result"
    }
   ],
   "source": [
    "len(X.columns)\n",
    "len(model.coef_)"
   ]
  },
  {
   "cell_type": "code",
   "execution_count": 66,
   "metadata": {},
   "outputs": [
    {
     "data": {
      "text/plain": [
       "[('Advertising', 1.3223552451252198),\n",
       " ('Analytics', 0.7084830305063385),\n",
       " ('Apps', 0.9924970719628913),\n",
       " ('Big Data', -0.6773109698809903),\n",
       " ('Biotechnology', -2.0451169877804767),\n",
       " ('Blogging Platforms', 1.3775121227523373),\n",
       " ('Collaboration', -0.8581454492611826),\n",
       " ('Curated Web', 0.7234667553706149),\n",
       " ('Databases', -0.4966196320702986),\n",
       " ('E-Commerce', 0.31317734638967637),\n",
       " ('Education', -0.6660979089810691),\n",
       " ('Enterprise Software', 0.489658941706972),\n",
       " ('Finance', -0.31934089307953145),\n",
       " ('Games', 1.0123830072202336),\n",
       " ('Hardware + Software', -1.8981123752122544),\n",
       " ('Health Care', -1.4429964856514574),\n",
       " ('Health and Wellness', -1.7265161568939673),\n",
       " ('Messaging', -0.006655858501362365),\n",
       " ('Mobile', 0.583740033861726),\n",
       " ('Music', -0.7052448973901287),\n",
       " ('Other_market', 0.3751798234359124),\n",
       " ('SaaS', 1.218521793561702),\n",
       " ('Search', 0.4432430978815633),\n",
       " ('Security', -0.4630062155217761),\n",
       " ('Social Media', 1.330387542478055),\n",
       " ('Social Network Media', 2.3685622522333856),\n",
       " ('Software', 0.5279782004664201),\n",
       " ('Technology', -2.0414184586997717),\n",
       " ('Transportation', -1.3983053280486504),\n",
       " ('Travel', -0.6955423317625553),\n",
       " ('Video', 1.653282838357146),\n",
       " ('total_funding', -0.00097783770491853),\n",
       " ('Intercept', -1.8885986478902153)]"
      ]
     },
     "execution_count": 66,
     "metadata": {},
     "output_type": "execute_result"
    }
   ],
   "source": [
    "coef = list(zip(list(X.columns),list(model.coef_[0])))  \n",
    "coef.append(('Intercept',model.intercept_[0]))\n",
    "coef"
   ]
  },
  {
   "cell_type": "code",
   "execution_count": 68,
   "metadata": {},
   "outputs": [
    {
     "data": {
      "text/plain": [
       "Text(0,0.5,'TPR')"
      ]
     },
     "execution_count": 68,
     "metadata": {},
     "output_type": "execute_result"
    },
    {
     "data": {
      "image/png": "[encoded data removed]",
      "text/plain": [
       "<Figure size 432x288 with 1 Axes>"
      ]
     },
     "metadata": {
      "needs_background": "light"
     },
     "output_type": "display_data"
    }
   ],
   "source": [
    "from sklearn.metrics import roc_curve, auc\n",
    "\n",
    "y_score=model.predict_proba(X_test)[:,1]\n",
    "\n",
    "FPR, TPR,thresholds = roc_curve(y_test, y_score)\n",
    "roc_auc = auc(FPR, TPR)\n",
    "\n",
    "plt.figure()\n",
    "# Plotting our Baseline..\n",
    "plt.plot([0,1],[0,1])\n",
    "plt.plot(FPR,TPR)\n",
    "plt.title('ROC Curve')\n",
    "plt.xlabel('FPR')\n",
    "plt.ylabel('TPR')"
   ]
  },
  {
   "cell_type": "code",
   "execution_count": 69,
   "metadata": {},
   "outputs": [],
   "source": [
    "ROC_DATA = list(zip(list(FPR),list(TPR),list(thresholds)))  "
   ]
  },
  {
   "cell_type": "code",
   "execution_count": 70,
   "metadata": {},
   "outputs": [
    {
     "name": "stdout",
     "output_type": "stream",
     "text": [
      "809\n"
     ]
    },
    {
     "data": {
      "text/plain": [
       "[]"
      ]
     },
     "execution_count": 70,
     "metadata": {},
     "output_type": "execute_result"
    }
   ],
   "source": [
    "print(len(ROC_DATA))\n",
    "ROC_DATA[1000:1300]"
   ]
  },
  {
   "cell_type": "markdown",
   "metadata": {},
   "source": [
    "RandomSearchCV to find the optimal model\n",
    "\n",
    "## Optimize wrt F1"
   ]
  },
  {
   "cell_type": "code",
   "execution_count": 71,
   "metadata": {},
   "outputs": [],
   "source": [
    "import numpy as np\n",
    "c_range = list(np.logspace(-3, 1, 256))\n",
    "param_grid = dict(C=c_range)"
   ]
  },
  {
   "cell_type": "code",
   "execution_count": 72,
   "metadata": {},
   "outputs": [
    {
     "name": "stdout",
     "output_type": "stream",
     "text": [
      "Fitting 10 folds for each of 10 candidates, totalling 100 fits\n"
     ]
    },
    {
     "name": "stderr",
     "output_type": "stream",
     "text": [
      "[Parallel(n_jobs=-1)]: Using backend LokyBackend with 8 concurrent workers.\n",
      "[Parallel(n_jobs=-1)]: Done  34 tasks      | elapsed:    4.8s\n",
      "[Parallel(n_jobs=-1)]: Done 100 out of 100 | elapsed:    9.8s finished\n"
     ]
    },
    {
     "data": {
      "text/plain": [
       "RandomizedSearchCV(cv=10, error_score='raise-deprecating',\n",
       "          estimator=LogisticRegression(C=1.0, class_weight=None, dual=False, fit_intercept=True,\n",
       "          intercept_scaling=1, max_iter=100, multi_class='warn',\n",
       "          n_jobs=None, penalty='l2', random_state=None, solver='newton-cg',\n",
       "          tol=0.0001, verbose=0, warm_start=False),\n",
       "          fit_params=None, iid='warn', n_iter=10, n_jobs=-1,\n",
       "          param_distributions={'C': [0.001, 0.001036779197060366, 0.001074911103457137, 0.0011144454707535626, 0.00115543388033544, 0.0011979298107105216, 0.0012419887072831308, 0.001287668054695046, 0.0013350274518270132, 0.0013841286895587572, 0.0014350358313889448, 0.0014878152970202849, 0.0015425359490188...8.347734492114153, 8.654757464007233, 8.973072494285637, 9.303094895789918, 9.64525525623346, 10.0]},\n",
       "          pre_dispatch='2*n_jobs', random_state=None, refit=True,\n",
       "          return_train_score='warn', scoring='f1', verbose=True)"
      ]
     },
     "execution_count": 72,
     "metadata": {},
     "output_type": "execute_result"
    }
   ],
   "source": [
    "from sklearn.model_selection import train_test_split, RandomizedSearchCV, GridSearchCV\n",
    "\n",
    "grid = RandomizedSearchCV(model, param_grid, cv=10, scoring='f1', n_jobs=-1, verbose=True)\n",
    "grid.fit(X_train, y_train)"
   ]
  },
  {
   "cell_type": "code",
   "execution_count": 73,
   "metadata": {},
   "outputs": [
    {
     "name": "stdout",
     "output_type": "stream",
     "text": [
      "LogisticRegression(C=1.584893192461114, class_weight=None, dual=False,\n",
      "          fit_intercept=True, intercept_scaling=1, max_iter=100,\n",
      "          multi_class='warn', n_jobs=None, penalty='l2', random_state=None,\n",
      "          solver='newton-cg', tol=0.0001, verbose=0, warm_start=False)\n",
      "{'C': 1.584893192461114}\n",
      "0.04490118646151464\n"
     ]
    }
   ],
   "source": [
    "print(grid.best_estimator_)\n",
    "print(grid.best_params_)\n",
    "print(grid.best_score_)"
   ]
  },
  {
   "cell_type": "markdown",
   "metadata": {},
   "source": [
    "## Optimize wrt Precision"
   ]
  },
  {
   "cell_type": "code",
   "execution_count": 74,
   "metadata": {},
   "outputs": [
    {
     "name": "stdout",
     "output_type": "stream",
     "text": [
      "Fitting 5 folds for each of 10 candidates, totalling 50 fits\n"
     ]
    },
    {
     "name": "stderr",
     "output_type": "stream",
     "text": [
      "[Parallel(n_jobs=-1)]: Using backend LokyBackend with 8 concurrent workers.\n",
      "[Parallel(n_jobs=-1)]: Done  34 tasks      | elapsed:    2.4s\n",
      "[Parallel(n_jobs=-1)]: Done  50 out of  50 | elapsed:    3.1s finished\n"
     ]
    },
    {
     "data": {
      "text/plain": [
       "RandomizedSearchCV(cv=5, error_score='raise-deprecating',\n",
       "          estimator=LogisticRegression(C=1.0, class_weight=None, dual=False, fit_intercept=True,\n",
       "          intercept_scaling=1, max_iter=100, multi_class='warn',\n",
       "          n_jobs=None, penalty='l2', random_state=None, solver='newton-cg',\n",
       "          tol=0.0001, verbose=0, warm_start=False),\n",
       "          fit_params=None, iid='warn', n_iter=10, n_jobs=-1,\n",
       "          param_distributions={'C': [0.001, 0.001036779197060366, 0.001074911103457137, 0.0011144454707535626, 0.00115543388033544, 0.0011979298107105216, 0.0012419887072831308, 0.001287668054695046, 0.0013350274518270132, 0.0013841286895587572, 0.0014350358313889448, 0.0014878152970202849, 0.0015425359490188...8.347734492114153, 8.654757464007233, 8.973072494285637, 9.303094895789918, 9.64525525623346, 10.0]},\n",
       "          pre_dispatch='2*n_jobs', random_state=None, refit=True,\n",
       "          return_train_score='warn', scoring='precision', verbose=True)"
      ]
     },
     "execution_count": 74,
     "metadata": {},
     "output_type": "execute_result"
    }
   ],
   "source": [
    "from sklearn.model_selection import train_test_split, RandomizedSearchCV, GridSearchCV\n",
    "\n",
    "grid = RandomizedSearchCV(model, param_grid, cv=5, scoring='precision', n_jobs=-1, verbose=True)\n",
    "grid.fit(X_train, y_train)"
   ]
  },
  {
   "cell_type": "code",
   "execution_count": 75,
   "metadata": {},
   "outputs": [
    {
     "name": "stdout",
     "output_type": "stream",
     "text": [
      "LogisticRegression(C=2.444754724726473, class_weight=None, dual=False,\n",
      "          fit_intercept=True, intercept_scaling=1, max_iter=100,\n",
      "          multi_class='warn', n_jobs=None, penalty='l2', random_state=None,\n",
      "          solver='newton-cg', tol=0.0001, verbose=0, warm_start=False)\n",
      "{'C': 2.444754724726473}\n",
      "0.6243223443223443\n"
     ]
    }
   ],
   "source": [
    "print(grid.best_estimator_)\n",
    "print(grid.best_params_)\n",
    "print(grid.best_score_)"
   ]
  },
  {
   "cell_type": "code",
   "execution_count": 87,
   "metadata": {},
   "outputs": [
    {
     "name": "stdout",
     "output_type": "stream",
     "text": [
      "Training Data Accuracy: 0.83\n",
      "Test Data Accuracy:     0.83\n",
      "[[2117    7]\n",
      " [ 431   12]]\n",
      "\n",
      "\n",
      "Precision:              0.63\n",
      "Recall:                 0.03\n",
      "F1 Score:               0.0519\n"
     ]
    }
   ],
   "source": [
    "model1 = linear_model.LogisticRegression(solver='newton-cg',penalty='l2',C=2.444754724726473)\n",
    "model1.fit(X_train, y_train)\n",
    "\n",
    "# accuracy for test & train:\n",
    "train_acc=model1.score(X_train, y_train)\n",
    "test_acc=model1.score(X_test,y_test)\n",
    "print(\"Training Data Accuracy: %0.2f\" %(train_acc))\n",
    "print(\"Test Data Accuracy:     %0.2f\" %(test_acc))\n",
    "\n",
    "y_true = y_test\n",
    "y_pred = model1.predict(X_test)\n",
    "\n",
    "\n",
    "conf = confusion_matrix(y_true, y_pred)\n",
    "tn, fp, fn, tp = conf.ravel()\n",
    "\n",
    "print(conf)\n",
    "\n",
    "precision = (tp / (tp + fp))\n",
    "recall = (tp / (tp + fn))\n",
    "f1_score = 2*precision*recall/(precision + recall)\n",
    "\n",
    "print ('\\n')\n",
    "print (\"Precision:              %0.2f\" % precision)\n",
    "print (\"Recall:                 %0.2f\"% recall)\n",
    "print (\"F1 Score:               %0.4f\"% f1_score)"
   ]
  },
  {
   "cell_type": "code",
   "execution_count": 79,
   "metadata": {},
   "outputs": [
    {
     "data": {
      "text/plain": [
       "Text(0,0.5,'TPR')"
      ]
     },
     "execution_count": 79,
     "metadata": {},
     "output_type": "execute_result"
    },
    {
     "data": {
      "image/png": "[encoded data removed]",
      "text/plain": [
       "<Figure size 432x288 with 1 Axes>"
      ]
     },
     "metadata": {
      "needs_background": "light"
     },
     "output_type": "display_data"
    }
   ],
   "source": [
    "#Make this into a function to generate a ROC curve\n",
    "y_score=model1.predict_proba(X_test)[:,1]\n",
    "\n",
    "FPR, TPR, thresholds = roc_curve(y_test, y_score)\n",
    "roc_auc = auc(FPR, TPR)\n",
    "\n",
    "plt.figure()\n",
    "# Plotting our Baseline..\n",
    "plt.plot([0,1],[0,1])\n",
    "plt.plot(FPR,TPR)\n",
    "plt.title('ROC Curve')\n",
    "plt.xlabel('FPR')\n",
    "plt.ylabel('TPR')"
   ]
  },
  {
   "cell_type": "code",
   "execution_count": 80,
   "metadata": {},
   "outputs": [
    {
     "name": "stdout",
     "output_type": "stream",
     "text": [
      "[0.11413093 0.08779978]\n"
     ]
    },
    {
     "name": "stderr",
     "output_type": "stream",
     "text": [
      "/Library/Frameworks/Python.framework/Versions/3.6/lib/python3.6/site-packages/sklearn/linear_model/logistic.py:432: FutureWarning: Default solver will be changed to 'lbfgs' in 0.22. Specify a solver to silence this warning.\n",
      "  FutureWarning)\n"
     ]
    }
   ],
   "source": [
    "import numpy as np\n",
    "from scipy.stats import norm\n",
    "from sklearn.linear_model import LogisticRegression\n",
    "\n",
    "def logit_pvalue(model, x):\n",
    "    \"\"\" Calculate z-scores for scikit-learn LogisticRegression.\n",
    "    parameters:\n",
    "        model: fitted sklearn.linear_model.LogisticRegression with intercept and large C\n",
    "        x:     matrix on which the model was fit\n",
    "    This function uses asymtptics for maximum likelihood estimates.\n",
    "    \"\"\"\n",
    "    p = model.predict_proba(x)\n",
    "    n = len(p)\n",
    "    m = len(model.coef_[0]) + 1\n",
    "    coefs = np.concatenate([model.intercept_, model.coef_[0]])\n",
    "    x_full = np.matrix(np.insert(np.array(x), 0, 1, axis = 1))\n",
    "    ans = np.zeros((m, m))\n",
    "    for i in range(n):\n",
    "        ans = ans + np.dot(np.transpose(x_full[i, :]), x_full[i, :]) * p[i,1] * p[i, 0]\n",
    "    vcov = np.linalg.inv(np.matrix(ans))\n",
    "    se = np.sqrt(np.diag(vcov))\n",
    "    t =  coefs/se  \n",
    "    p = (1 - norm.cdf(abs(t))) * 2\n",
    "    return p\n",
    "\n",
    "# test p-values\n",
    "x = np.arange(10)[:, np.newaxis]\n",
    "y = np.array([0,0,0,1,0,0,1,1,1,1])\n",
    "model = LogisticRegression(C=1e30).fit(x, y)\n",
    "print(logit_pvalue(model, x))"
   ]
  },
  {
   "cell_type": "code",
   "execution_count": null,
   "metadata": {},
   "outputs": [],
   "source": []
  }
 ],
 "metadata": {
  "kernelspec": {
   "display_name": "Python 3",
   "language": "python",
   "name": "python3"
  },
  "language_info": {
   "codemirror_mode": {
    "name": "ipython",
    "version": 3
   },
   "file_extension": ".py",
   "mimetype": "text/x-python",
   "name": "python",
   "nbconvert_exporter": "python",
   "pygments_lexer": "ipython3",
   "version": "3.6.6"
  }
 },
 "nbformat": 4,
 "nbformat_minor": 2
}
